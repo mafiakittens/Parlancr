{
 "cells": [
  {
   "cell_type": "markdown",
   "metadata": {},
   "source": [
    "# Scraping Reddit Comments"
   ]
  },
  {
   "cell_type": "code",
   "execution_count": 3,
   "metadata": {},
   "outputs": [],
   "source": [
    "import praw\n",
    "import pandas as pd\n",
    "import configparser\n",
    "import numpy as np\n",
    "from praw.models import MoreComments"
   ]
  },
  {
   "cell_type": "code",
   "execution_count": 4,
   "metadata": {},
   "outputs": [
    {
     "name": "stdout",
     "output_type": "stream",
     "text": [
      "/home/chadharness/w210/webscraping\n"
     ]
    }
   ],
   "source": [
    "!pwd"
   ]
  },
  {
   "cell_type": "markdown",
   "metadata": {},
   "source": [
    "## Get Configuration Parameters"
   ]
  },
  {
   "cell_type": "code",
   "execution_count": 5,
   "metadata": {},
   "outputs": [
    {
     "data": {
      "text/plain": [
       "['../config/reddit.config']"
      ]
     },
     "execution_count": 5,
     "metadata": {},
     "output_type": "execute_result"
    }
   ],
   "source": [
    "config = configparser.ConfigParser()\n",
    "config.read('../config/reddit.config')"
   ]
  },
  {
   "cell_type": "markdown",
   "metadata": {},
   "source": [
    "## Instantiate PRAW Object"
   ]
  },
  {
   "cell_type": "code",
   "execution_count": 6,
   "metadata": {},
   "outputs": [],
   "source": [
    "reddit = praw.Reddit(client_id=config['REDDIT_CONFIG']['client_id'],\n",
    "                     client_secret=config['REDDIT_CONFIG']['client_secret'],\n",
    "                     password=config['REDDIT_CONFIG']['password'],\n",
    "                     user_agent=config['REDDIT_CONFIG']['user_agent'],\n",
    "                     username=config['REDDIT_CONFIG']['username'])"
   ]
  },
  {
   "cell_type": "code",
   "execution_count": 7,
   "metadata": {},
   "outputs": [
    {
     "name": "stdout",
     "output_type": "stream",
     "text": [
      "[Mod] Bring out your 500K Attendee flair party hats, it's time for a mod AMA!\n",
      "/r/teenagers World Cup Competition Reminder\n",
      "When its 1 minute until your 20th birthday and you’re remembering the times on this sub.\n",
      "Relatable\n",
      "Shitty meme #9: Finals week edition - with correct grammar\n",
      "pedos everywhere\n",
      "An interesting title\n",
      "I just graduated from high school last week and I just got a letter from me when I graduated middle school.\n",
      "when your mom calls while youre with friends\n",
      "Without a doubt\n"
     ]
    }
   ],
   "source": [
    "for submission in reddit.subreddit('teenagers').hot(limit=10):\n",
    "    print(submission.title)"
   ]
  },
  {
   "cell_type": "markdown",
   "metadata": {},
   "source": [
    "### Take a Peek at Teenagers Subreddit"
   ]
  },
  {
   "cell_type": "code",
   "execution_count": 8,
   "metadata": {},
   "outputs": [],
   "source": [
    "subreddit = reddit.subreddit('teenagers')"
   ]
  },
  {
   "cell_type": "code",
   "execution_count": 9,
   "metadata": {},
   "outputs": [
    {
     "name": "stdout",
     "output_type": "stream",
     "text": [
      "teenagers\n",
      "r/teenagers: share your mind, share your memes\n"
     ]
    }
   ],
   "source": [
    "print(subreddit.display_name)  # Output: redditdev\n",
    "print(subreddit.title)         # Output: reddit Development"
   ]
  },
  {
   "cell_type": "markdown",
   "metadata": {},
   "source": [
    "## Grab Some Posts"
   ]
  },
  {
   "cell_type": "code",
   "execution_count": 10,
   "metadata": {},
   "outputs": [
    {
     "name": "stdout",
     "output_type": "stream",
     "text": [
      "This is Peter Wang, he too died a hero yesterday during the Marjory Stoneman Douglas High School shooting. This 15 year-old boy was holding a door open for fellow students to escape before being shot.\n",
      "70360\n",
      "7xw46z\n",
      "https://i.redd.it/2t65a9aiyhg01.jpg\n",
      "well yeah\n",
      "60352\n",
      "85rv9s\n",
      "https://i.redd.it/lcqq73ojiwm01.jpg\n",
      "Yessss\n",
      "47988\n",
      "7mwvoj\n",
      "https://i.redd.it/23ltzgkgax601.jpg\n",
      "Is 37% still a pass?\n",
      "45383\n",
      "7l98ij\n",
      "https://i.imgur.com/78pdycg.png\n",
      "Who Can relate?\n",
      "43112\n",
      "8bfqd1\n",
      "https://i.redd.it/d3kjgudkz8r01.jpg\n"
     ]
    }
   ],
   "source": [
    "for submission in subreddit.top(limit=5):\n",
    "    print(submission.title)  # Output: the submission's title\n",
    "    print(submission.score)  # Output: the submission's score\n",
    "    print(submission.id)     # Output: the submission's ID\n",
    "    print(submission.url)    # Output: the URL the submission points to"
   ]
  },
  {
   "cell_type": "markdown",
   "metadata": {},
   "source": [
    "## View Comments"
   ]
  },
  {
   "cell_type": "code",
   "execution_count": 12,
   "metadata": {},
   "outputs": [
    {
     "name": "stdout",
     "output_type": "stream",
     "text": [
      "Also he didn't actually drop out he took a year off to focus on his already successful business, if it failed he could have gone back and picked up where he left off.\n",
      "He was also hella dedicated. He'd sneak out past curfew to go programming at the University. \n",
      "[deleted]\n",
      "Yeah but he had an actual skill set \n",
      "Bill Gates also didn't post daily on forums about how he lacked the will to get up in the mornings I'm sure that helped too\n"
     ]
    }
   ],
   "source": [
    "submission = reddit.submission(id='85rv9s')\n",
    "line = 0\n",
    "for top_level_comment in submission.comments:\n",
    "    line += 1\n",
    "    print(top_level_comment.body)\n",
    "    if line == 5:\n",
    "        break"
   ]
  },
  {
   "cell_type": "markdown",
   "metadata": {},
   "source": [
    "## Selected Thread Comments"
   ]
  },
  {
   "cell_type": "code",
   "execution_count": 19,
   "metadata": {},
   "outputs": [],
   "source": [
    "submission_url = 'https://www.reddit.com/r/teenagers/comments/7xjl6q/yes_sorry_i_dont_know_who_this_lady_is/'"
   ]
  },
  {
   "cell_type": "code",
   "execution_count": 20,
   "metadata": {},
   "outputs": [],
   "source": [
    "submission = reddit.submission(url=submission_url)"
   ]
  },
  {
   "cell_type": "code",
   "execution_count": 21,
   "metadata": {},
   "outputs": [
    {
     "name": "stdout",
     "output_type": "stream",
     "text": [
      "=============NEW COMMMENT=============\n",
      "Comment ID: du96gap\n",
      "Comment Body: God, my mother gets upset whenever I call her out for it.\n",
      "\n",
      "I work in retail, mom, I know when you're being difficult. Don't yell at customer service, that makes them want to help you *less*.\n",
      "Comment Author: Ubahootah\n",
      "Comment Author Flair CSS: None\n",
      "Comment Author Flair Text None\n",
      "Comment Body Controversaility: 0\n",
      "Comment Created: 1518672712.0\n",
      "Comment Created UTC: 1518643912.0\n",
      "Comment Depth 0\n",
      "Comment Downvotes 0\n",
      "Comment UpVotes 2394\n",
      "Comment Score 2394\n",
      "Comment Submission 7xjl6q\n",
      "Comment User Reports []\n",
      "Comment Subreddit teenagers\n",
      "Comment Post 7xjl6q\n",
      "Submission Title:  \"Yes sorry I dont know who this lady is\"\n",
      "Submission Score:  33941\n"
     ]
    }
   ],
   "source": [
    "x = 0\n",
    "\n",
    "from collections import defaultdict\n",
    "\n",
    "comments_dict = defaultdict()\n",
    "for top_level_comment in submission.comments:\n",
    "    print(\"=============NEW COMMMENT=============\")\n",
    "    print('Comment ID:',top_level_comment)\n",
    "    print('Comment Body:', top_level_comment.body)\n",
    "    print('Comment Author:', top_level_comment.author)\n",
    "    print('Comment Author Flair CSS:',top_level_comment.author_flair_css_class)\n",
    "    print('Comment Author Flair Text',top_level_comment.author_flair_text)\n",
    "    print('Comment Body Controversaility:', top_level_comment.controversiality)\n",
    "    print('Comment Created:', top_level_comment.created)\n",
    "    print('Comment Created UTC:', top_level_comment.created_utc)\n",
    "    print('Comment Depth', top_level_comment.depth)\n",
    "    print('Comment Downvotes', top_level_comment.downs)\n",
    "    print('Comment UpVotes', top_level_comment.ups)\n",
    "    print('Comment Score', top_level_comment.score)\n",
    "    print('Comment Submission', top_level_comment.submission)\n",
    "    print('Comment User Reports', top_level_comment.user_reports)\n",
    "    print('Comment Subreddit', top_level_comment.subreddit)\n",
    "    print('Comment Post', top_level_comment.submission)\n",
    "    print('Submission Title: ', submission.title)\n",
    "    print('Submission Score: ', submission.score)\n",
    "    \n",
    "    comments_dict['Comment ID'] = top_level_comment\n",
    "    comments_dict['Comment Body'] = top_level_comment\n",
    "    break"
   ]
  },
  {
   "cell_type": "markdown",
   "metadata": {},
   "source": [
    "## Write to CSV"
   ]
  },
  {
   "cell_type": "code",
   "execution_count": 22,
   "metadata": {},
   "outputs": [],
   "source": [
    "submission.comments.replace_more(limit=1)\n",
    "with open('test.csv', 'w') as f:\n",
    "    for top_level_comment in submission.comments:\n",
    "        f.write(top_level_comment.name)\n",
    "        f.write(',')        \n",
    "        comment_parsed = top_level_comment.body.replace('\\n',' ').replace('\\t',' ').replace(',',' ')\n",
    "        if top_level_comment.author is None:\n",
    "            f.write('NO AUTHOR')\n",
    "        else:\n",
    "            f.write(top_level_comment.author.name)\n",
    "        f.write(',')\n",
    "        if top_level_comment.author_flair_text is None:\n",
    "            f.write('NO FLAIR')\n",
    "        else:\n",
    "            f.write(top_level_comment.author_flair_text)\n",
    "        f.write(',')\n",
    "        f.write(str(top_level_comment.score))\n",
    "        f.write(',')\n",
    "        f.write(comment_parsed)\n",
    "        f.write('\\n')"
   ]
  },
  {
   "cell_type": "markdown",
   "metadata": {},
   "source": [
    "# Read Results"
   ]
  },
  {
   "cell_type": "code",
   "execution_count": 23,
   "metadata": {},
   "outputs": [
    {
     "data": {
      "text/html": [
       "<div>\n",
       "<style scoped>\n",
       "    .dataframe tbody tr th:only-of-type {\n",
       "        vertical-align: middle;\n",
       "    }\n",
       "\n",
       "    .dataframe tbody tr th {\n",
       "        vertical-align: top;\n",
       "    }\n",
       "\n",
       "    .dataframe thead th {\n",
       "        text-align: right;\n",
       "    }\n",
       "</style>\n",
       "<table border=\"1\" class=\"dataframe\">\n",
       "  <thead>\n",
       "    <tr style=\"text-align: right;\">\n",
       "      <th></th>\n",
       "      <th>User</th>\n",
       "      <th>Flair</th>\n",
       "      <th>Score</th>\n",
       "      <th>Body</th>\n",
       "    </tr>\n",
       "    <tr>\n",
       "      <th>ID</th>\n",
       "      <th></th>\n",
       "      <th></th>\n",
       "      <th></th>\n",
       "      <th></th>\n",
       "    </tr>\n",
       "  </thead>\n",
       "  <tbody>\n",
       "    <tr>\n",
       "      <th>t1_du96gap</th>\n",
       "      <td>Ubahootah</td>\n",
       "      <td>NO FLAIR</td>\n",
       "      <td>2394</td>\n",
       "      <td>God  my mother gets upset whenever I call her ...</td>\n",
       "    </tr>\n",
       "    <tr>\n",
       "      <th>t1_du95t93</th>\n",
       "      <td>SubstantialStuff</td>\n",
       "      <td>NO FLAIR</td>\n",
       "      <td>640</td>\n",
       "      <td>My grandma does that all the time... \"Well  my...</td>\n",
       "    </tr>\n",
       "    <tr>\n",
       "      <th>t1_du8x25l</th>\n",
       "      <td>elena1099</td>\n",
       "      <td>NO FLAIR</td>\n",
       "      <td>1515</td>\n",
       "      <td>I hate this so much I want to cry</td>\n",
       "    </tr>\n",
       "    <tr>\n",
       "      <th>t1_du8rkiz</th>\n",
       "      <td>crowscountingspades</td>\n",
       "      <td>NO FLAIR</td>\n",
       "      <td>2745</td>\n",
       "      <td>You don't have to be a teenager to experience ...</td>\n",
       "    </tr>\n",
       "    <tr>\n",
       "      <th>t1_du8rvxr</th>\n",
       "      <td>elliotman48</td>\n",
       "      <td>NO FLAIR</td>\n",
       "      <td>625</td>\n",
       "      <td>Most fucking relatable meme of 2018</td>\n",
       "    </tr>\n",
       "  </tbody>\n",
       "</table>\n",
       "</div>"
      ],
      "text/plain": [
       "                           User     Flair  Score  \\\n",
       "ID                                                 \n",
       "t1_du96gap            Ubahootah  NO FLAIR   2394   \n",
       "t1_du95t93     SubstantialStuff  NO FLAIR    640   \n",
       "t1_du8x25l            elena1099  NO FLAIR   1515   \n",
       "t1_du8rkiz  crowscountingspades  NO FLAIR   2745   \n",
       "t1_du8rvxr          elliotman48  NO FLAIR    625   \n",
       "\n",
       "                                                         Body  \n",
       "ID                                                             \n",
       "t1_du96gap  God  my mother gets upset whenever I call her ...  \n",
       "t1_du95t93  My grandma does that all the time... \"Well  my...  \n",
       "t1_du8x25l                 I hate this so much I want to cry   \n",
       "t1_du8rkiz  You don't have to be a teenager to experience ...  \n",
       "t1_du8rvxr                Most fucking relatable meme of 2018  "
      ]
     },
     "execution_count": 23,
     "metadata": {},
     "output_type": "execute_result"
    }
   ],
   "source": [
    "df = pd.read_csv('test.csv', index_col=0, names=['ID','User','Flair','Score','Body'])\n",
    "df.head()"
   ]
  },
  {
   "cell_type": "code",
   "execution_count": 24,
   "metadata": {},
   "outputs": [
    {
     "data": {
      "text/plain": [
       "(104, 4)"
      ]
     },
     "execution_count": 24,
     "metadata": {},
     "output_type": "execute_result"
    }
   ],
   "source": [
    "df.shape"
   ]
  },
  {
   "cell_type": "code",
   "execution_count": 25,
   "metadata": {},
   "outputs": [
    {
     "data": {
      "text/plain": [
       "'This never happen to me '"
      ]
     },
     "execution_count": 25,
     "metadata": {},
     "output_type": "execute_result"
    }
   ],
   "source": [
    "df.sort_values('Score')['Body'][0]"
   ]
  },
  {
   "cell_type": "code",
   "execution_count": 26,
   "metadata": {
    "scrolled": false
   },
   "outputs": [],
   "source": [
    "submission = reddit.submission(url=submission_url)\n",
    "submission.comments.replace_more(limit=1)\n",
    "comment_queue = submission.comments[:]  # Seed with top-level\n",
    "comment_number = 1\n",
    "with open('test.csv', 'w') as f:\n",
    "    while comment_queue:\n",
    "        comment = comment_queue.pop(0)\n",
    "        f.write(comment.name)\n",
    "        f.write(',')\n",
    "        f.write(str(comment.depth))\n",
    "        f.write(',')\n",
    "        comment_parsed = comment.body.replace('\\n',' ').replace('\\t',' ').replace(',',' ')\n",
    "        if comment.author is None:\n",
    "            f.write('NO AUTHOR')\n",
    "        else:\n",
    "            f.write(comment.author.name)\n",
    "        f.write(',')\n",
    "        if comment.author_flair_text is None:\n",
    "            f.write('NO FLAIR')\n",
    "        else:\n",
    "            f.write(comment.author_flair_text)\n",
    "        f.write(',')\n",
    "        f.write(str(comment.score))\n",
    "        f.write(',')\n",
    "        f.write(comment_parsed)\n",
    "        f.write('\\n')\n",
    "        #print('=============Comment Number {}============='.format(comment_number))\n",
    "        #print('=========Comment Depth: {}======='.format(comment.depth))\n",
    "        # print(comment.body)\n",
    "        comment_queue.extend(comment.replies)\n",
    "        comment_number += 1"
   ]
  },
  {
   "cell_type": "code",
   "execution_count": 27,
   "metadata": {},
   "outputs": [],
   "source": [
    "df = pd.read_csv('test.csv', index_col=0, names=['ID','Depth','User','Flair','Score','Body'])"
   ]
  },
  {
   "cell_type": "code",
   "execution_count": 28,
   "metadata": {},
   "outputs": [
    {
     "data": {
      "text/plain": [
       "(461, 5)"
      ]
     },
     "execution_count": 28,
     "metadata": {},
     "output_type": "execute_result"
    }
   ],
   "source": [
    "df.shape"
   ]
  },
  {
   "cell_type": "code",
   "execution_count": 29,
   "metadata": {},
   "outputs": [
    {
     "data": {
      "text/html": [
       "<div>\n",
       "<style scoped>\n",
       "    .dataframe tbody tr th:only-of-type {\n",
       "        vertical-align: middle;\n",
       "    }\n",
       "\n",
       "    .dataframe tbody tr th {\n",
       "        vertical-align: top;\n",
       "    }\n",
       "\n",
       "    .dataframe thead th {\n",
       "        text-align: right;\n",
       "    }\n",
       "</style>\n",
       "<table border=\"1\" class=\"dataframe\">\n",
       "  <thead>\n",
       "    <tr style=\"text-align: right;\">\n",
       "      <th></th>\n",
       "      <th>Depth</th>\n",
       "      <th>User</th>\n",
       "      <th>Flair</th>\n",
       "      <th>Score</th>\n",
       "      <th>Body</th>\n",
       "    </tr>\n",
       "    <tr>\n",
       "      <th>ID</th>\n",
       "      <th></th>\n",
       "      <th></th>\n",
       "      <th></th>\n",
       "      <th></th>\n",
       "      <th></th>\n",
       "    </tr>\n",
       "  </thead>\n",
       "  <tbody>\n",
       "    <tr>\n",
       "      <th>t1_du96gap</th>\n",
       "      <td>0</td>\n",
       "      <td>Ubahootah</td>\n",
       "      <td>NO FLAIR</td>\n",
       "      <td>2393</td>\n",
       "      <td>God  my mother gets upset whenever I call her ...</td>\n",
       "    </tr>\n",
       "    <tr>\n",
       "      <th>t1_du95t93</th>\n",
       "      <td>0</td>\n",
       "      <td>SubstantialStuff</td>\n",
       "      <td>NO FLAIR</td>\n",
       "      <td>644</td>\n",
       "      <td>My grandma does that all the time... \"Well  my...</td>\n",
       "    </tr>\n",
       "    <tr>\n",
       "      <th>t1_du8x25l</th>\n",
       "      <td>0</td>\n",
       "      <td>elena1099</td>\n",
       "      <td>NO FLAIR</td>\n",
       "      <td>1512</td>\n",
       "      <td>I hate this so much I want to cry</td>\n",
       "    </tr>\n",
       "    <tr>\n",
       "      <th>t1_du8rkiz</th>\n",
       "      <td>0</td>\n",
       "      <td>crowscountingspades</td>\n",
       "      <td>NO FLAIR</td>\n",
       "      <td>2744</td>\n",
       "      <td>You don't have to be a teenager to experience ...</td>\n",
       "    </tr>\n",
       "    <tr>\n",
       "      <th>t1_du8rvxr</th>\n",
       "      <td>0</td>\n",
       "      <td>elliotman48</td>\n",
       "      <td>NO FLAIR</td>\n",
       "      <td>625</td>\n",
       "      <td>Most fucking relatable meme of 2018</td>\n",
       "    </tr>\n",
       "  </tbody>\n",
       "</table>\n",
       "</div>"
      ],
      "text/plain": [
       "            Depth                 User     Flair  Score  \\\n",
       "ID                                                        \n",
       "t1_du96gap      0            Ubahootah  NO FLAIR   2393   \n",
       "t1_du95t93      0     SubstantialStuff  NO FLAIR    644   \n",
       "t1_du8x25l      0            elena1099  NO FLAIR   1512   \n",
       "t1_du8rkiz      0  crowscountingspades  NO FLAIR   2744   \n",
       "t1_du8rvxr      0          elliotman48  NO FLAIR    625   \n",
       "\n",
       "                                                         Body  \n",
       "ID                                                             \n",
       "t1_du96gap  God  my mother gets upset whenever I call her ...  \n",
       "t1_du95t93  My grandma does that all the time... \"Well  my...  \n",
       "t1_du8x25l                 I hate this so much I want to cry   \n",
       "t1_du8rkiz  You don't have to be a teenager to experience ...  \n",
       "t1_du8rvxr                Most fucking relatable meme of 2018  "
      ]
     },
     "execution_count": 29,
     "metadata": {},
     "output_type": "execute_result"
    }
   ],
   "source": [
    "df.head()"
   ]
  },
  {
   "cell_type": "code",
   "execution_count": 30,
   "metadata": {},
   "outputs": [
    {
     "data": {
      "text/html": [
       "<div>\n",
       "<style scoped>\n",
       "    .dataframe tbody tr th:only-of-type {\n",
       "        vertical-align: middle;\n",
       "    }\n",
       "\n",
       "    .dataframe tbody tr th {\n",
       "        vertical-align: top;\n",
       "    }\n",
       "\n",
       "    .dataframe thead th {\n",
       "        text-align: right;\n",
       "    }\n",
       "</style>\n",
       "<table border=\"1\" class=\"dataframe\">\n",
       "  <thead>\n",
       "    <tr style=\"text-align: right;\">\n",
       "      <th></th>\n",
       "      <th>Depth</th>\n",
       "      <th>User</th>\n",
       "      <th>Flair</th>\n",
       "      <th>Score</th>\n",
       "      <th>Body</th>\n",
       "    </tr>\n",
       "    <tr>\n",
       "      <th>ID</th>\n",
       "      <th></th>\n",
       "      <th></th>\n",
       "      <th></th>\n",
       "      <th></th>\n",
       "      <th></th>\n",
       "    </tr>\n",
       "  </thead>\n",
       "  <tbody>\n",
       "    <tr>\n",
       "      <th>t1_du9ftnb</th>\n",
       "      <td>1</td>\n",
       "      <td>NO AUTHOR</td>\n",
       "      <td>NO FLAIR</td>\n",
       "      <td>-13</td>\n",
       "      <td>Haha listen to this arm chair psychologist. Yo...</td>\n",
       "    </tr>\n",
       "    <tr>\n",
       "      <th>t1_du91q0l</th>\n",
       "      <td>1</td>\n",
       "      <td>BOLD_1</td>\n",
       "      <td>NO FLAIR</td>\n",
       "      <td>-11</td>\n",
       "      <td>youre old lol</td>\n",
       "    </tr>\n",
       "    <tr>\n",
       "      <th>t1_du9d8mc</th>\n",
       "      <td>1</td>\n",
       "      <td>NO AUTHOR</td>\n",
       "      <td>NO FLAIR</td>\n",
       "      <td>-1</td>\n",
       "      <td>Your wife sounds like a cunt.</td>\n",
       "    </tr>\n",
       "    <tr>\n",
       "      <th>t1_du9ayxc</th>\n",
       "      <td>1</td>\n",
       "      <td>primovero</td>\n",
       "      <td>NO FLAIR</td>\n",
       "      <td>0</td>\n",
       "      <td>POSER</td>\n",
       "    </tr>\n",
       "    <tr>\n",
       "      <th>t1_du9gwj5</th>\n",
       "      <td>1</td>\n",
       "      <td>CollectableRat</td>\n",
       "      <td>NO FLAIR</td>\n",
       "      <td>0</td>\n",
       "      <td>Your wife needs to understand that even if she...</td>\n",
       "    </tr>\n",
       "  </tbody>\n",
       "</table>\n",
       "</div>"
      ],
      "text/plain": [
       "            Depth            User     Flair  Score  \\\n",
       "ID                                                   \n",
       "t1_du9ftnb      1       NO AUTHOR  NO FLAIR    -13   \n",
       "t1_du91q0l      1          BOLD_1  NO FLAIR    -11   \n",
       "t1_du9d8mc      1       NO AUTHOR  NO FLAIR     -1   \n",
       "t1_du9ayxc      1       primovero  NO FLAIR      0   \n",
       "t1_du9gwj5      1  CollectableRat  NO FLAIR      0   \n",
       "\n",
       "                                                         Body  \n",
       "ID                                                             \n",
       "t1_du9ftnb  Haha listen to this arm chair psychologist. Yo...  \n",
       "t1_du91q0l                                      youre old lol  \n",
       "t1_du9d8mc                      Your wife sounds like a cunt.  \n",
       "t1_du9ayxc                                              POSER  \n",
       "t1_du9gwj5  Your wife needs to understand that even if she...  "
      ]
     },
     "execution_count": 30,
     "metadata": {},
     "output_type": "execute_result"
    }
   ],
   "source": [
    "df.loc[df['Depth'] == 1].sort_values('Score').head()"
   ]
  },
  {
   "cell_type": "markdown",
   "metadata": {},
   "source": [
    "## Plot Depth/Score"
   ]
  },
  {
   "cell_type": "code",
   "execution_count": 31,
   "metadata": {},
   "outputs": [
    {
     "data": {
      "text/plain": [
       "<matplotlib.axes._subplots.AxesSubplot at 0x7f1565c69518>"
      ]
     },
     "execution_count": 31,
     "metadata": {},
     "output_type": "execute_result"
    }
   ],
   "source": [
    "df.plot(x='Depth', y='Score', kind='scatter', figsize=(15,10))"
   ]
  },
  {
   "cell_type": "markdown",
   "metadata": {},
   "source": [
    "### Groupby Flair"
   ]
  },
  {
   "cell_type": "code",
   "execution_count": 32,
   "metadata": {},
   "outputs": [],
   "source": [
    "df['First Flair'] = df.apply(lambda x: x['Flair'].split(' / ')[0], axis=1)\n",
    "#df['Second Flair'] = df.apply(lambda x: x['Flair'].split(' / ')[1], axis=1)"
   ]
  },
  {
   "cell_type": "code",
   "execution_count": 33,
   "metadata": {},
   "outputs": [],
   "source": [
    "grouped_by_flair = df.groupby('First Flair')"
   ]
  },
  {
   "cell_type": "code",
   "execution_count": 34,
   "metadata": {},
   "outputs": [],
   "source": [
    "average_score = grouped_by_flair.aggregate(np.average).sort_values('Score')"
   ]
  },
  {
   "cell_type": "code",
   "execution_count": 37,
   "metadata": {},
   "outputs": [
    {
     "data": {
      "text/plain": [
       "<matplotlib.axes._subplots.AxesSubplot at 0x7f155faf3278>"
      ]
     },
     "execution_count": 37,
     "metadata": {},
     "output_type": "execute_result"
    },
    {
     "data": {
      "image/png": "[encoded data removed]",
      "text/plain": [
       "<Figure size 1440x360 with 1 Axes>"
      ]
     },
     "metadata": {},
     "output_type": "display_data"
    }
   ],
   "source": [
    "average_score.loc[average_score['Score'] < 100].plot(y='Score', kind='bar',figsize=(20,5))"
   ]
  },
  {
   "cell_type": "code",
   "execution_count": 36,
   "metadata": {},
   "outputs": [
    {
     "data": {
      "text/plain": [
       "<matplotlib.axes._subplots.AxesSubplot at 0x7f155f20d128>"
      ]
     },
     "execution_count": 36,
     "metadata": {},
     "output_type": "execute_result"
    },
    {
     "data": {
      "image/png": "[encoded data removed]",
      "text/plain": [
       "<Figure size 1440x360 with 1 Axes>"
      ]
     },
     "metadata": {},
     "output_type": "display_data"
    }
   ],
   "source": [
    "average_score.loc[average_score['Score']< 10].plot(y='Score', kind='bar',figsize=(20,5))"
   ]
  }
 ],
 "metadata": {
  "kernelspec": {
   "display_name": "Python 3",
   "language": "python",
   "name": "python3"
  },
  "language_info": {
   "codemirror_mode": {
    "name": "ipython",
    "version": 3
   },
   "file_extension": ".py",
   "mimetype": "text/x-python",
   "name": "python",
   "nbconvert_exporter": "python",
   "pygments_lexer": "ipython3",
   "version": "3.6.5"
  }
 },
 "nbformat": 4,
 "nbformat_minor": 2
}
