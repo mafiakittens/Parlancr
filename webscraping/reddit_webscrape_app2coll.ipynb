{
 "cells": [
  {
   "cell_type": "markdown",
   "metadata": {},
   "source": [
    "### Topic Ideas\n",
    "* Interviews\n",
    "* Rejections\n",
    "* Prefrosh (flair)\n",
    "* [GUIDE]"
   ]
  },
  {
   "cell_type": "markdown",
   "metadata": {},
   "source": [
    "# Scraping Reddit Comments"
   ]
  },
  {
   "cell_type": "code",
   "execution_count": 2,
   "metadata": {},
   "outputs": [],
   "source": [
    "import praw\n",
    "import pandas as pd\n",
    "import configparser\n",
    "import numpy as np\n",
    "from praw.models import MoreComments"
   ]
  },
  {
   "cell_type": "code",
   "execution_count": 3,
   "metadata": {},
   "outputs": [
    {
     "name": "stdout",
     "output_type": "stream",
     "text": [
      "/home/chadharness/w210/webscraping\n"
     ]
    }
   ],
   "source": [
    "!pwd"
   ]
  },
  {
   "cell_type": "markdown",
   "metadata": {},
   "source": [
    "## Get Configuration Parameters"
   ]
  },
  {
   "cell_type": "code",
   "execution_count": 4,
   "metadata": {},
   "outputs": [
    {
     "data": {
      "text/plain": [
       "['../config/reddit.config']"
      ]
     },
     "execution_count": 4,
     "metadata": {},
     "output_type": "execute_result"
    }
   ],
   "source": [
    "config = configparser.ConfigParser()\n",
    "config.read('../config/reddit.config')"
   ]
  },
  {
   "cell_type": "markdown",
   "metadata": {},
   "source": [
    "## Instantiate PRAW Object"
   ]
  },
  {
   "cell_type": "code",
   "execution_count": 5,
   "metadata": {},
   "outputs": [],
   "source": [
    "reddit = praw.Reddit(client_id=config['REDDIT_CONFIG']['client_id'],\n",
    "                     client_secret=config['REDDIT_CONFIG']['client_secret'],\n",
    "                     password=config['REDDIT_CONFIG']['password'],\n",
    "                     user_agent=config['REDDIT_CONFIG']['user_agent'],\n",
    "                     username=config['REDDIT_CONFIG']['username'])"
   ]
  },
  {
   "cell_type": "code",
   "execution_count": 7,
   "metadata": {},
   "outputs": [
    {
     "name": "stdout",
     "output_type": "stream",
     "text": [
      "Tips and advice from A2C Fall 2016 seniors\n",
      "Admissions Journey Timeline starting Junior Summer\n",
      "To write a better essay, throw away EVERYTHING you learned in AP English\n",
      "Will doing lots of drugs help me stand out?\n",
      "Is it just me or has college admissions gotten way harder in the past few years?\n",
      "If I were to go through the college application process again, I would tell myself\n",
      "Best schools with merit aid for a 30 ACT?\n",
      "prestige vs practicality\n",
      "Professor called me deceptive?\n",
      "How overcrowded are the UCs\n"
     ]
    }
   ],
   "source": [
    "for submission in reddit.subreddit('ApplyingToCollege').hot(limit=10):\n",
    "    print(submission.title)"
   ]
  },
  {
   "cell_type": "markdown",
   "metadata": {},
   "source": [
    "### Take a Peek at ApplyingToCollege Subreddit"
   ]
  },
  {
   "cell_type": "code",
   "execution_count": 8,
   "metadata": {},
   "outputs": [],
   "source": [
    "subreddit = reddit.subreddit('ApplyingToCollege')"
   ]
  },
  {
   "cell_type": "code",
   "execution_count": 9,
   "metadata": {},
   "outputs": [
    {
     "name": "stdout",
     "output_type": "stream",
     "text": [
      "ApplyingToCollege\n",
      "ApplyingToCollege\n"
     ]
    }
   ],
   "source": [
    "print(subreddit.display_name)  # Output: redditdev\n",
    "print(subreddit.title)         # Output: reddit Development"
   ]
  },
  {
   "cell_type": "markdown",
   "metadata": {},
   "source": [
    "## Grab Some Posts"
   ]
  },
  {
   "cell_type": "code",
   "execution_count": 12,
   "metadata": {},
   "outputs": [
    {
     "name": "stdout",
     "output_type": "stream",
     "text": [
      "My theory: Stanford doesn't exist. Let me explain why.\n",
      "10494\n",
      "62bgi8\n",
      "https://www.reddit.com/r/ApplyingToCollege/comments/62bgi8/my_theory_stanford_doesnt_exist_let_me_explain_why/\n",
      "sigh\n",
      "2327\n",
      "87wi0k\n",
      "https://www.reddit.com/r/ApplyingToCollege/comments/87wi0k/sigh/\n",
      "UCLA rejection with a 1600\n",
      "2315\n",
      "850jbj\n",
      "https://www.reddit.com/r/ApplyingToCollege/comments/850jbj/ucla_rejection_with_a_1600/\n",
      "Can't Go to My Dream School Because a Man Lied to Me\n",
      "1920\n",
      "65qmqo\n",
      "https://www.reddit.com/r/ApplyingToCollege/comments/65qmqo/cant_go_to_my_dream_school_because_a_man_lied_to/\n",
      "5 months ago, I poured my heart into my Stanford application. Today, I found out I'll be going there next year.\n",
      "1607\n",
      "854mqc\n",
      "https://www.reddit.com/r/ApplyingToCollege/comments/854mqc/5_months_ago_i_poured_my_heart_into_my_stanford/\n"
     ]
    }
   ],
   "source": [
    "for submission in subreddit.top(limit=5):\n",
    "    print(submission.title)  # Output: the submission's title\n",
    "    print(submission.score)  # Output: the submission's score\n",
    "    print(submission.id)     # Output: the submission's ID\n",
    "    print(submission.url)    # Output: the URL the submission points to"
   ]
  },
  {
   "cell_type": "markdown",
   "metadata": {},
   "source": [
    "## View Comments"
   ]
  },
  {
   "cell_type": "code",
   "execution_count": 14,
   "metadata": {},
   "outputs": [
    {
     "name": "stdout",
     "output_type": "stream",
     "text": [
      ">216 points (100% upvoted)\n",
      "I gave up as soon as I saw my first semester GPA lol\n",
      "lmao L after L\n",
      "current top post: \n",
      "\n",
      ">sigh\n",
      "s**L**igh\n"
     ]
    }
   ],
   "source": [
    "submission = reddit.submission(id='87wi0k')\n",
    "line = 0\n",
    "for top_level_comment in submission.comments:\n",
    "    line += 1\n",
    "    print(top_level_comment.body)\n",
    "    if line == 5:\n",
    "        break"
   ]
  },
  {
   "cell_type": "markdown",
   "metadata": {},
   "source": [
    "## Selected Thread Comments"
   ]
  },
  {
   "cell_type": "code",
   "execution_count": 42,
   "metadata": {},
   "outputs": [],
   "source": [
    "submission_url = 'https://www.reddit.com/r/ApplyingToCollege/comments/8qkr9u/to_write_a_better_essay_throw_away_everything_you/'"
   ]
  },
  {
   "cell_type": "code",
   "execution_count": 43,
   "metadata": {},
   "outputs": [],
   "source": [
    "submission = reddit.submission(url=submission_url)"
   ]
  },
  {
   "cell_type": "code",
   "execution_count": 16,
   "metadata": {},
   "outputs": [
    {
     "name": "stdout",
     "output_type": "stream",
     "text": [
      "=============NEW COMMMENT=============\n",
      "Comment ID: e0jxq9j\n",
      "Comment Body: joke's on you, I didn't learn anything in AP English\n",
      "Comment Author: echoacm\n",
      "Comment Author Flair CSS: \n",
      "Comment Author Flair Text Prefrosh\n",
      "Comment Body Controversaility: 0\n",
      "Comment Created: 1528853813.0\n",
      "Comment Created UTC: 1528825013.0\n",
      "Comment Depth 0\n",
      "Comment Downvotes 0\n",
      "Comment UpVotes 290\n",
      "Comment Score 290\n",
      "Comment Submission 8qkr9u\n",
      "Comment User Reports []\n",
      "Comment Subreddit ApplyingToCollege\n",
      "Comment Post 8qkr9u\n",
      "Submission Title:  To write a better essay, throw away EVERYTHING you learned in AP English\n",
      "Submission Score:  410\n"
     ]
    }
   ],
   "source": [
    "x = 0\n",
    "\n",
    "from collections import defaultdict\n",
    "\n",
    "comments_dict = defaultdict()\n",
    "for top_level_comment in submission.comments:\n",
    "    print(\"=============NEW COMMMENT=============\")\n",
    "    print('Comment ID:',top_level_comment)\n",
    "    print('Comment Body:', top_level_comment.body)\n",
    "    print('Comment Author:', top_level_comment.author)\n",
    "    print('Comment Author Flair CSS:',top_level_comment.author_flair_css_class)\n",
    "    print('Comment Author Flair Text',top_level_comment.author_flair_text)\n",
    "    print('Comment Body Controversaility:', top_level_comment.controversiality)\n",
    "    print('Comment Created:', top_level_comment.created)\n",
    "    print('Comment Created UTC:', top_level_comment.created_utc)\n",
    "    print('Comment Depth', top_level_comment.depth)\n",
    "    print('Comment Downvotes', top_level_comment.downs)\n",
    "    print('Comment UpVotes', top_level_comment.ups)\n",
    "    print('Comment Score', top_level_comment.score)\n",
    "    print('Comment Submission', top_level_comment.submission)\n",
    "    print('Comment User Reports', top_level_comment.user_reports)\n",
    "    print('Comment Subreddit', top_level_comment.subreddit)\n",
    "    print('Comment Post', top_level_comment.submission)\n",
    "    print('Submission Title: ', submission.title)\n",
    "    print('Submission Score: ', submission.score)\n",
    "    \n",
    "    comments_dict['Comment ID'] = top_level_comment\n",
    "    comments_dict['Comment Body'] = top_level_comment\n",
    "    break"
   ]
  },
  {
   "cell_type": "markdown",
   "metadata": {},
   "source": [
    "## Write to CSV"
   ]
  },
  {
   "cell_type": "code",
   "execution_count": 17,
   "metadata": {},
   "outputs": [],
   "source": [
    "submission.comments.replace_more(limit=1)\n",
    "with open('test.csv', 'w') as f:\n",
    "    for top_level_comment in submission.comments:\n",
    "        f.write(top_level_comment.name)\n",
    "        f.write(',')        \n",
    "        comment_parsed = top_level_comment.body.replace('\\n',' ').replace('\\t',' ').replace(',',' ')\n",
    "        if top_level_comment.author is None:\n",
    "            f.write('NO AUTHOR')\n",
    "        else:\n",
    "            f.write(top_level_comment.author.name)\n",
    "        f.write(',')\n",
    "        if top_level_comment.author_flair_text is None:\n",
    "            f.write('NO FLAIR')\n",
    "        else:\n",
    "            f.write(top_level_comment.author_flair_text)\n",
    "        f.write(',')\n",
    "        f.write(str(top_level_comment.score))\n",
    "        f.write(',')\n",
    "        f.write(comment_parsed)\n",
    "        f.write('\\n')"
   ]
  },
  {
   "cell_type": "markdown",
   "metadata": {},
   "source": [
    "# Read Results"
   ]
  },
  {
   "cell_type": "code",
   "execution_count": 18,
   "metadata": {},
   "outputs": [
    {
     "data": {
      "text/html": [
       "<div>\n",
       "<style scoped>\n",
       "    .dataframe tbody tr th:only-of-type {\n",
       "        vertical-align: middle;\n",
       "    }\n",
       "\n",
       "    .dataframe tbody tr th {\n",
       "        vertical-align: top;\n",
       "    }\n",
       "\n",
       "    .dataframe thead th {\n",
       "        text-align: right;\n",
       "    }\n",
       "</style>\n",
       "<table border=\"1\" class=\"dataframe\">\n",
       "  <thead>\n",
       "    <tr style=\"text-align: right;\">\n",
       "      <th></th>\n",
       "      <th>User</th>\n",
       "      <th>Flair</th>\n",
       "      <th>Score</th>\n",
       "      <th>Body</th>\n",
       "    </tr>\n",
       "    <tr>\n",
       "      <th>ID</th>\n",
       "      <th></th>\n",
       "      <th></th>\n",
       "      <th></th>\n",
       "      <th></th>\n",
       "    </tr>\n",
       "  </thead>\n",
       "  <tbody>\n",
       "    <tr>\n",
       "      <th>t1_e0jxq9j</th>\n",
       "      <td>echoacm</td>\n",
       "      <td>Prefrosh</td>\n",
       "      <td>290</td>\n",
       "      <td>joke's on you  I didn't learn anything in AP E...</td>\n",
       "    </tr>\n",
       "    <tr>\n",
       "      <th>t1_e0k9qsr</th>\n",
       "      <td>CornHellUniversity</td>\n",
       "      <td>NO FLAIR</td>\n",
       "      <td>48</td>\n",
       "      <td>All I remember from AP Eng is Ethos  Pathos  L...</td>\n",
       "    </tr>\n",
       "    <tr>\n",
       "      <th>t1_e0jy6sx</th>\n",
       "      <td>OwenLeaf</td>\n",
       "      <td>HS Junior</td>\n",
       "      <td>94</td>\n",
       "      <td>I feel bad for you guys if this is what your A...</td>\n",
       "    </tr>\n",
       "    <tr>\n",
       "      <th>t1_e0k27ct</th>\n",
       "      <td>holdenthe</td>\n",
       "      <td>NO FLAIR</td>\n",
       "      <td>23</td>\n",
       "      <td>i kinda realized this when i tried to write my...</td>\n",
       "    </tr>\n",
       "    <tr>\n",
       "      <th>t1_e0k5gtx</th>\n",
       "      <td>pachacuti092</td>\n",
       "      <td>HS Senior</td>\n",
       "      <td>18</td>\n",
       "      <td>Jokes on u cuz I didn’t even take ap English</td>\n",
       "    </tr>\n",
       "  </tbody>\n",
       "</table>\n",
       "</div>"
      ],
      "text/plain": [
       "                          User      Flair  Score  \\\n",
       "ID                                                 \n",
       "t1_e0jxq9j             echoacm   Prefrosh    290   \n",
       "t1_e0k9qsr  CornHellUniversity   NO FLAIR     48   \n",
       "t1_e0jy6sx            OwenLeaf  HS Junior     94   \n",
       "t1_e0k27ct           holdenthe   NO FLAIR     23   \n",
       "t1_e0k5gtx        pachacuti092  HS Senior     18   \n",
       "\n",
       "                                                         Body  \n",
       "ID                                                             \n",
       "t1_e0jxq9j  joke's on you  I didn't learn anything in AP E...  \n",
       "t1_e0k9qsr  All I remember from AP Eng is Ethos  Pathos  L...  \n",
       "t1_e0jy6sx  I feel bad for you guys if this is what your A...  \n",
       "t1_e0k27ct  i kinda realized this when i tried to write my...  \n",
       "t1_e0k5gtx      Jokes on u cuz I didn’t even take ap English   "
      ]
     },
     "execution_count": 18,
     "metadata": {},
     "output_type": "execute_result"
    }
   ],
   "source": [
    "df = pd.read_csv('test.csv', index_col=0, names=['ID','User','Flair','Score','Body'])\n",
    "df.head()"
   ]
  },
  {
   "cell_type": "code",
   "execution_count": 19,
   "metadata": {},
   "outputs": [
    {
     "data": {
      "text/plain": [
       "(16, 4)"
      ]
     },
     "execution_count": 19,
     "metadata": {},
     "output_type": "execute_result"
    }
   ],
   "source": [
    "df.shape"
   ]
  },
  {
   "cell_type": "code",
   "execution_count": 20,
   "metadata": {},
   "outputs": [
    {
     "data": {
      "text/plain": [
       "'... crap and my life is too boring to draw a picture with welp'"
      ]
     },
     "execution_count": 20,
     "metadata": {},
     "output_type": "execute_result"
    }
   ],
   "source": [
    "df.sort_values('Score')['Body'][0]"
   ]
  },
  {
   "cell_type": "code",
   "execution_count": 44,
   "metadata": {
    "scrolled": false
   },
   "outputs": [],
   "source": [
    "submission = reddit.submission(url=submission_url)\n",
    "submission.comments.replace_more(limit=1)\n",
    "comment_queue = submission.comments[:]  # Seed with top-level\n",
    "comment_number = 1\n",
    "with open('test.csv', 'w') as f:\n",
    "    while comment_queue:\n",
    "        comment = comment_queue.pop(0)\n",
    "        f.write(comment.name)\n",
    "        f.write(',')\n",
    "        f.write(str(comment.depth))\n",
    "        f.write(',')\n",
    "        comment_parsed = comment.body.replace('\\n',' ').replace('\\t',' ').replace(',',' ')\n",
    "        if comment.author is None:\n",
    "            f.write('NO AUTHOR')\n",
    "        else:\n",
    "            f.write(comment.author.name)\n",
    "        f.write(',')\n",
    "        if comment.author_flair_text is None:\n",
    "            f.write('NO FLAIR')\n",
    "        else:\n",
    "            f.write(comment.author_flair_text)\n",
    "        f.write(',')\n",
    "        f.write(str(comment.score))\n",
    "        f.write(',')\n",
    "        f.write(comment_parsed)\n",
    "        f.write('\\n')\n",
    "        #print('=============Comment Number {}============='.format(comment_number))\n",
    "        #print('=========Comment Depth: {}======='.format(comment.depth))\n",
    "        # print(comment.body)\n",
    "        comment_queue.extend(comment.replies)\n",
    "        comment_number += 1"
   ]
  },
  {
   "cell_type": "code",
   "execution_count": 22,
   "metadata": {},
   "outputs": [],
   "source": [
    "df = pd.read_csv('test.csv', index_col=0, names=['ID','Depth','User','Flair','Score','Body'])"
   ]
  },
  {
   "cell_type": "code",
   "execution_count": 31,
   "metadata": {},
   "outputs": [
    {
     "data": {
      "text/plain": [
       "(34, 5)"
      ]
     },
     "execution_count": 31,
     "metadata": {},
     "output_type": "execute_result"
    }
   ],
   "source": [
    "df.shape"
   ]
  },
  {
   "cell_type": "code",
   "execution_count": 23,
   "metadata": {},
   "outputs": [
    {
     "data": {
      "text/html": [
       "<div>\n",
       "<style scoped>\n",
       "    .dataframe tbody tr th:only-of-type {\n",
       "        vertical-align: middle;\n",
       "    }\n",
       "\n",
       "    .dataframe tbody tr th {\n",
       "        vertical-align: top;\n",
       "    }\n",
       "\n",
       "    .dataframe thead th {\n",
       "        text-align: right;\n",
       "    }\n",
       "</style>\n",
       "<table border=\"1\" class=\"dataframe\">\n",
       "  <thead>\n",
       "    <tr style=\"text-align: right;\">\n",
       "      <th></th>\n",
       "      <th>Depth</th>\n",
       "      <th>User</th>\n",
       "      <th>Flair</th>\n",
       "      <th>Score</th>\n",
       "      <th>Body</th>\n",
       "    </tr>\n",
       "    <tr>\n",
       "      <th>ID</th>\n",
       "      <th></th>\n",
       "      <th></th>\n",
       "      <th></th>\n",
       "      <th></th>\n",
       "      <th></th>\n",
       "    </tr>\n",
       "  </thead>\n",
       "  <tbody>\n",
       "    <tr>\n",
       "      <th>t1_e0jxq9j</th>\n",
       "      <td>0</td>\n",
       "      <td>echoacm</td>\n",
       "      <td>Prefrosh</td>\n",
       "      <td>293</td>\n",
       "      <td>joke's on you  I didn't learn anything in AP E...</td>\n",
       "    </tr>\n",
       "    <tr>\n",
       "      <th>t1_e0k9qsr</th>\n",
       "      <td>0</td>\n",
       "      <td>CornHellUniversity</td>\n",
       "      <td>NO FLAIR</td>\n",
       "      <td>45</td>\n",
       "      <td>All I remember from AP Eng is Ethos  Pathos  L...</td>\n",
       "    </tr>\n",
       "    <tr>\n",
       "      <th>t1_e0jy6sx</th>\n",
       "      <td>0</td>\n",
       "      <td>OwenLeaf</td>\n",
       "      <td>HS Junior</td>\n",
       "      <td>95</td>\n",
       "      <td>I feel bad for you guys if this is what your A...</td>\n",
       "    </tr>\n",
       "    <tr>\n",
       "      <th>t1_e0k27ct</th>\n",
       "      <td>0</td>\n",
       "      <td>holdenthe</td>\n",
       "      <td>NO FLAIR</td>\n",
       "      <td>23</td>\n",
       "      <td>i kinda realized this when i tried to write my...</td>\n",
       "    </tr>\n",
       "    <tr>\n",
       "      <th>t1_e0k5gtx</th>\n",
       "      <td>0</td>\n",
       "      <td>pachacuti092</td>\n",
       "      <td>HS Senior</td>\n",
       "      <td>19</td>\n",
       "      <td>Jokes on u cuz I didn’t even take ap English</td>\n",
       "    </tr>\n",
       "  </tbody>\n",
       "</table>\n",
       "</div>"
      ],
      "text/plain": [
       "            Depth                User      Flair  Score  \\\n",
       "ID                                                        \n",
       "t1_e0jxq9j      0             echoacm   Prefrosh    293   \n",
       "t1_e0k9qsr      0  CornHellUniversity   NO FLAIR     45   \n",
       "t1_e0jy6sx      0            OwenLeaf  HS Junior     95   \n",
       "t1_e0k27ct      0           holdenthe   NO FLAIR     23   \n",
       "t1_e0k5gtx      0        pachacuti092  HS Senior     19   \n",
       "\n",
       "                                                         Body  \n",
       "ID                                                             \n",
       "t1_e0jxq9j  joke's on you  I didn't learn anything in AP E...  \n",
       "t1_e0k9qsr  All I remember from AP Eng is Ethos  Pathos  L...  \n",
       "t1_e0jy6sx  I feel bad for you guys if this is what your A...  \n",
       "t1_e0k27ct  i kinda realized this when i tried to write my...  \n",
       "t1_e0k5gtx      Jokes on u cuz I didn’t even take ap English   "
      ]
     },
     "execution_count": 23,
     "metadata": {},
     "output_type": "execute_result"
    }
   ],
   "source": [
    "df.head()"
   ]
  },
  {
   "cell_type": "code",
   "execution_count": 30,
   "metadata": {},
   "outputs": [
    {
     "data": {
      "text/html": [
       "<div>\n",
       "<style scoped>\n",
       "    .dataframe tbody tr th:only-of-type {\n",
       "        vertical-align: middle;\n",
       "    }\n",
       "\n",
       "    .dataframe tbody tr th {\n",
       "        vertical-align: top;\n",
       "    }\n",
       "\n",
       "    .dataframe thead th {\n",
       "        text-align: right;\n",
       "    }\n",
       "</style>\n",
       "<table border=\"1\" class=\"dataframe\">\n",
       "  <thead>\n",
       "    <tr style=\"text-align: right;\">\n",
       "      <th></th>\n",
       "      <th>Depth</th>\n",
       "      <th>User</th>\n",
       "      <th>Flair</th>\n",
       "      <th>Score</th>\n",
       "      <th>Body</th>\n",
       "    </tr>\n",
       "    <tr>\n",
       "      <th>ID</th>\n",
       "      <th></th>\n",
       "      <th></th>\n",
       "      <th></th>\n",
       "      <th></th>\n",
       "      <th></th>\n",
       "    </tr>\n",
       "  </thead>\n",
       "  <tbody>\n",
       "    <tr>\n",
       "      <th>t1_e0lc77o</th>\n",
       "      <td>1</td>\n",
       "      <td>N4_IS_PLS</td>\n",
       "      <td>Senior</td>\n",
       "      <td>1</td>\n",
       "      <td>Read  write  revise.   Read at least 30 minute...</td>\n",
       "    </tr>\n",
       "    <tr>\n",
       "      <th>t1_e0lasgb</th>\n",
       "      <td>1</td>\n",
       "      <td>305rose</td>\n",
       "      <td>Prefrosh</td>\n",
       "      <td>2</td>\n",
       "      <td>record yourself speaking your essay and then c...</td>\n",
       "    </tr>\n",
       "    <tr>\n",
       "      <th>t1_e0kzfsa</th>\n",
       "      <td>1</td>\n",
       "      <td>ScholarGrade</td>\n",
       "      <td>MBA</td>\n",
       "      <td>3</td>\n",
       "      <td>I mean  ee cummings went to Harvard without it...</td>\n",
       "    </tr>\n",
       "    <tr>\n",
       "      <th>t1_e0kz9dh</th>\n",
       "      <td>1</td>\n",
       "      <td>ScholarGrade</td>\n",
       "      <td>MBA</td>\n",
       "      <td>3</td>\n",
       "      <td>Wow you had a great teacher then.  I've heard ...</td>\n",
       "    </tr>\n",
       "    <tr>\n",
       "      <th>t1_e0kmdl6</th>\n",
       "      <td>1</td>\n",
       "      <td>ScholarGrade</td>\n",
       "      <td>MBA</td>\n",
       "      <td>4</td>\n",
       "      <td>Many AOs will go back periodically throughout ...</td>\n",
       "    </tr>\n",
       "  </tbody>\n",
       "</table>\n",
       "</div>"
      ],
      "text/plain": [
       "            Depth          User     Flair  Score  \\\n",
       "ID                                                 \n",
       "t1_e0lc77o      1     N4_IS_PLS    Senior      1   \n",
       "t1_e0lasgb      1       305rose  Prefrosh      2   \n",
       "t1_e0kzfsa      1  ScholarGrade       MBA      3   \n",
       "t1_e0kz9dh      1  ScholarGrade       MBA      3   \n",
       "t1_e0kmdl6      1  ScholarGrade       MBA      4   \n",
       "\n",
       "                                                         Body  \n",
       "ID                                                             \n",
       "t1_e0lc77o  Read  write  revise.   Read at least 30 minute...  \n",
       "t1_e0lasgb  record yourself speaking your essay and then c...  \n",
       "t1_e0kzfsa  I mean  ee cummings went to Harvard without it...  \n",
       "t1_e0kz9dh  Wow you had a great teacher then.  I've heard ...  \n",
       "t1_e0kmdl6  Many AOs will go back periodically throughout ...  "
      ]
     },
     "execution_count": 30,
     "metadata": {},
     "output_type": "execute_result"
    }
   ],
   "source": [
    "df.loc[df['Depth'] == 1].sort_values('Score').head()"
   ]
  },
  {
   "cell_type": "markdown",
   "metadata": {},
   "source": [
    "## Plot Depth/Score"
   ]
  },
  {
   "cell_type": "code",
   "execution_count": 32,
   "metadata": {},
   "outputs": [
    {
     "data": {
      "text/plain": [
       "<matplotlib.axes._subplots.AxesSubplot at 0x7fbcae478668>"
      ]
     },
     "execution_count": 32,
     "metadata": {},
     "output_type": "execute_result"
    }
   ],
   "source": [
    "df.plot(x='Depth', y='Score', kind='scatter', figsize=(15,10))"
   ]
  },
  {
   "cell_type": "markdown",
   "metadata": {},
   "source": [
    "### Groupby Flair"
   ]
  },
  {
   "cell_type": "code",
   "execution_count": 46,
   "metadata": {},
   "outputs": [],
   "source": [
    "df['First Flair'] = df.apply(lambda x: x['Flair'].split(' / ')[0], axis=1)\n",
    "#df['Second Flair'] = df.apply(lambda x: x['Flair'].split(' / ')[1], axis=1)"
   ]
  },
  {
   "cell_type": "code",
   "execution_count": 47,
   "metadata": {},
   "outputs": [],
   "source": [
    "grouped_by_flair = df.groupby('First Flair')"
   ]
  },
  {
   "cell_type": "code",
   "execution_count": 48,
   "metadata": {},
   "outputs": [],
   "source": [
    "average_score = grouped_by_flair.aggregate(np.average).sort_values('Score')"
   ]
  },
  {
   "cell_type": "code",
   "execution_count": 53,
   "metadata": {},
   "outputs": [
    {
     "data": {
      "text/plain": [
       "<matplotlib.axes._subplots.AxesSubplot at 0x7fbcad41a438>"
      ]
     },
     "execution_count": 53,
     "metadata": {},
     "output_type": "execute_result"
    },
    {
     "data": {
      "image/png": "[encoded data removed]",
      "text/plain": [
       "<Figure size 1440x360 with 1 Axes>"
      ]
     },
     "metadata": {},
     "output_type": "display_data"
    }
   ],
   "source": [
    "average_score.loc[average_score['Score'] < 1000].plot(y='Score', kind='bar',figsize=(20,5))"
   ]
  },
  {
   "cell_type": "code",
   "execution_count": 41,
   "metadata": {},
   "outputs": [
    {
     "data": {
      "text/plain": [
       "<matplotlib.axes._subplots.AxesSubplot at 0x7fbcad56e1d0>"
      ]
     },
     "execution_count": 41,
     "metadata": {},
     "output_type": "execute_result"
    },
    {
     "data": {
      "image/png": "[encoded data removed]",
      "text/plain": [
       "<Figure size 1440x360 with 1 Axes>"
      ]
     },
     "metadata": {},
     "output_type": "display_data"
    }
   ],
   "source": [
    "average_score.loc[average_score['Score']< 10].plot(y='Score', kind='bar',figsize=(20,5))"
   ]
  }
 ],
 "metadata": {
  "kernelspec": {
   "display_name": "Python 3",
   "language": "python",
   "name": "python3"
  },
  "language_info": {
   "codemirror_mode": {
    "name": "ipython",
    "version": 3
   },
   "file_extension": ".py",
   "mimetype": "text/x-python",
   "name": "python",
   "nbconvert_exporter": "python",
   "pygments_lexer": "ipython3",
   "version": "3.6.5"
  }
 },
 "nbformat": 4,
 "nbformat_minor": 2
}
