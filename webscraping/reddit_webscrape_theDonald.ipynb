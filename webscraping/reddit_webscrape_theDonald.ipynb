{
 "cells": [
  {
   "cell_type": "markdown",
   "metadata": {},
   "source": [
    "### Topic Ideas\n",
    "* Interviews\n",
    "* Rejections\n",
    "* Prefrosh (flair)\n",
    "* [GUIDE]"
   ]
  },
  {
   "cell_type": "markdown",
   "metadata": {},
   "source": [
    "# Scraping Reddit Comments"
   ]
  },
  {
   "cell_type": "code",
   "execution_count": 1,
   "metadata": {},
   "outputs": [],
   "source": [
    "import praw\n",
    "import pandas as pd\n",
    "import configparser\n",
    "import numpy as np\n",
    "from praw.models import MoreComments"
   ]
  },
  {
   "cell_type": "code",
   "execution_count": 2,
   "metadata": {},
   "outputs": [
    {
     "name": "stdout",
     "output_type": "stream",
     "text": [
      "/home/chadharness/w210/webscraping\n"
     ]
    }
   ],
   "source": [
    "!pwd"
   ]
  },
  {
   "cell_type": "markdown",
   "metadata": {},
   "source": [
    "## Get Configuration Parameters"
   ]
  },
  {
   "cell_type": "code",
   "execution_count": 3,
   "metadata": {},
   "outputs": [
    {
     "data": {
      "text/plain": [
       "['../config/reddit.config']"
      ]
     },
     "execution_count": 3,
     "metadata": {},
     "output_type": "execute_result"
    }
   ],
   "source": [
    "config = configparser.ConfigParser()\n",
    "config.read('../config/reddit.config')"
   ]
  },
  {
   "cell_type": "markdown",
   "metadata": {},
   "source": [
    "## Instantiate PRAW Object"
   ]
  },
  {
   "cell_type": "code",
   "execution_count": 4,
   "metadata": {},
   "outputs": [],
   "source": [
    "reddit = praw.Reddit(client_id=config['REDDIT_CONFIG']['client_id'],\n",
    "                     client_secret=config['REDDIT_CONFIG']['client_secret'],\n",
    "                     password=config['REDDIT_CONFIG']['password'],\n",
    "                     user_agent=config['REDDIT_CONFIG']['user_agent'],\n",
    "                     username=config['REDDIT_CONFIG']['username'])"
   ]
  },
  {
   "cell_type": "code",
   "execution_count": 5,
   "metadata": {},
   "outputs": [
    {
     "name": "stdout",
     "output_type": "stream",
     "text": [
      "So funny to watch the Fake News, especially NBC and CNN. They are fighting hard to downplay the deal with North Korea. 500 days ago they would have “begged” for this deal-looked like war would break out. Our Country’s biggest enemy is the Fake News so easily promulgated by fools!\n",
      "Tomorrow (June 14th) is the 72nd Birthday of our VSG God Emperor - President Donald John Trump! Which means it's time for a POTUS BIRTHDAY SIDEBAR CONTEST!!\n",
      "My political representatives didn’t want me to get involved in the Mark Sanford primary thinking that Sanford would easily win - but with a few hours left I felt that Katie was such a good candidate, and Sanford was so bad, I had to give it a shot. Congrats to Katie Arrington!\n",
      "The Pulse Nightclub shooting was not the work of a self-loathing gay man or mentally ill individual. It was, say it with me, RADICAL 👏 ISLAMIC 👏 TERRORISM 👏\n",
      "Muslims complain about being subjected to airport security measures that all passengers face because of Muslims\n",
      "Before taking office people were assuming that we were going to War with North Korea. President Obama said that North Korea was our biggest and most dangerous problem. No longer - sleep well tonight!\n",
      "5 Living ex-Presidents' silence on the NK Summit speaks louder than their silence on NK during their administrations #HorriblePresidents\n",
      "Food Stamp Enrollment Dips to Lowest Level in 8 Years\n",
      "Back home and looking like a man who just saved the World.\n",
      "No outrage for Weinstein? Hmmm\n"
     ]
    }
   ],
   "source": [
    "for submission in reddit.subreddit('The_Donald').hot(limit=10):\n",
    "    print(submission.title)"
   ]
  },
  {
   "cell_type": "markdown",
   "metadata": {},
   "source": [
    "### Take a Peek at The_Donald Subreddit"
   ]
  },
  {
   "cell_type": "code",
   "execution_count": 6,
   "metadata": {},
   "outputs": [],
   "source": [
    "subreddit = reddit.subreddit('The_Donald')"
   ]
  },
  {
   "cell_type": "code",
   "execution_count": 7,
   "metadata": {},
   "outputs": [
    {
     "name": "stdout",
     "output_type": "stream",
     "text": [
      "The_Donald\n",
      "The Donald - America First!\n"
     ]
    }
   ],
   "source": [
    "print(subreddit.display_name)  # Output: redditdev\n",
    "print(subreddit.title)         # Output: reddit Development"
   ]
  },
  {
   "cell_type": "markdown",
   "metadata": {},
   "source": [
    "## Grab Some Posts"
   ]
  },
  {
   "cell_type": "code",
   "execution_count": 8,
   "metadata": {},
   "outputs": [
    {
     "name": "stdout",
     "output_type": "stream",
     "text": [
      "DONALD J. TRUMP DECLARED THE WINNER!\n",
      "66712\n",
      "5bzjv5\n",
      "https://www.reddit.com/r/The_Donald/comments/5bzjv5/donald_j_trump_declared_the_winner/\n",
      "I’m Donald J. Trump and I'm Your Next President of the United States.\n",
      "42116\n",
      "4uxdbn\n",
      "https://www.reddit.com/r/The_Donald/comments/4uxdbn/im_donald_j_trump_and_im_your_next_president_of/\n",
      "The New Algorithm Was Designed To Keep President Trump From The Front Page... But Sadly, That Won't Happen.\n",
      "40970\n",
      "5gvy1j\n",
      "https://i.sli.mg/gu0oHA.png\n",
      "CNN will soon be #1...when searching for the term \"Fake News\". Congratulations to CNN on this major achievement.\n",
      "37276\n",
      "5jt9xs\n",
      "https://i.redd.it/7jeyhzgku65y.png\n",
      "ALL CELEBRITIES THAT VOWED TO LEAVE THE U.S.A. IF TRUMP WINS, WE NOW DEMAND YOU TO FOLLOW THROUGH!!!! OUT! OUT! OUT!\n",
      "36618\n",
      "5bz5ds\n",
      "https://www.reddit.com/r/The_Donald/comments/5bz5ds/all_celebrities_that_vowed_to_leave_the_usa_if/\n"
     ]
    }
   ],
   "source": [
    "for submission in subreddit.top(limit=5):\n",
    "    print(submission.title)  # Output: the submission's title\n",
    "    print(submission.score)  # Output: the submission's score\n",
    "    print(submission.id)     # Output: the submission's ID\n",
    "    print(submission.url)    # Output: the URL the submission points to"
   ]
  },
  {
   "cell_type": "markdown",
   "metadata": {},
   "source": [
    "## View Comments"
   ]
  },
  {
   "cell_type": "code",
   "execution_count": 11,
   "metadata": {},
   "outputs": [
    {
     "name": "stdout",
     "output_type": "stream",
     "text": [
      "Can anyone eli5 with this vote fuzzing and why we have 10k and 16k uptendies on our threads?\n",
      "We are going to lose our minds once we get real pics of him in the oval office\n",
      "Upvote everything!\n",
      "fuck the front page of reddit. DONALD J. TRUMP IS GOING TO BE ON THE FRONT PAGE OF THE WORLD. \n",
      "I'm not sure about that.  The_donald isn't in the top 200 on my front page.  I had to come here to figure out what's going on.  Definitely some censorship going on.  AGAIN, this is my home page not r/all.\n",
      "\n",
      "Edit: I came back 2 hours later and checked again.  I stopped looking after I found not one the_donald post in my top 700 on my home page.\n",
      "\n",
      "2nd Edit:  On r/all there's one T_D post at #2. But if logged out and go with incognito mode the #2 post disappears all together and T_D no more.\n"
     ]
    }
   ],
   "source": [
    "submission = reddit.submission(id='5gvy1j')\n",
    "line = 0\n",
    "for top_level_comment in submission.comments:\n",
    "    line += 1\n",
    "    print(top_level_comment.body)\n",
    "    if line == 5:\n",
    "        break"
   ]
  },
  {
   "cell_type": "markdown",
   "metadata": {},
   "source": [
    "## Selected Thread Comments"
   ]
  },
  {
   "cell_type": "code",
   "execution_count": 12,
   "metadata": {},
   "outputs": [],
   "source": [
    "submission_url = 'https://www.reddit.com/r/The_Donald/comments/5gvy1j/the_new_algorithm_was_designed_to_keep_president/'"
   ]
  },
  {
   "cell_type": "code",
   "execution_count": 13,
   "metadata": {},
   "outputs": [],
   "source": [
    "submission = reddit.submission(url=submission_url)"
   ]
  },
  {
   "cell_type": "code",
   "execution_count": 14,
   "metadata": {},
   "outputs": [
    {
     "name": "stdout",
     "output_type": "stream",
     "text": [
      "=============NEW COMMMENT=============\n",
      "Comment ID: davk6hv\n",
      "Comment Body: Can anyone eli5 with this vote fuzzing and why we have 10k and 16k uptendies on our threads?\n",
      "Comment Author: lord-helmet\n",
      "Comment Author Flair CSS: None\n",
      "Comment Author Flair Text None\n",
      "Comment Body Controversaility: 0\n",
      "Comment Created: 1481095977.0\n",
      "Comment Created UTC: 1481067177.0\n",
      "Comment Depth 0\n",
      "Comment Downvotes 0\n",
      "Comment UpVotes 1146\n",
      "Comment Score 1146\n",
      "Comment Submission 5gvy1j\n",
      "Comment User Reports []\n",
      "Comment Subreddit The_Donald\n",
      "Comment Post 5gvy1j\n",
      "Submission Title:  The New Algorithm Was Designed To Keep President Trump From The Front Page... But Sadly, That Won't Happen.\n",
      "Submission Score:  40965\n"
     ]
    }
   ],
   "source": [
    "x = 0\n",
    "\n",
    "from collections import defaultdict\n",
    "\n",
    "comments_dict = defaultdict()\n",
    "for top_level_comment in submission.comments:\n",
    "    print(\"=============NEW COMMMENT=============\")\n",
    "    print('Comment ID:',top_level_comment)\n",
    "    print('Comment Body:', top_level_comment.body)\n",
    "    print('Comment Author:', top_level_comment.author)\n",
    "    print('Comment Author Flair CSS:',top_level_comment.author_flair_css_class)\n",
    "    print('Comment Author Flair Text',top_level_comment.author_flair_text)\n",
    "    print('Comment Body Controversaility:', top_level_comment.controversiality)\n",
    "    print('Comment Created:', top_level_comment.created)\n",
    "    print('Comment Created UTC:', top_level_comment.created_utc)\n",
    "    print('Comment Depth', top_level_comment.depth)\n",
    "    print('Comment Downvotes', top_level_comment.downs)\n",
    "    print('Comment UpVotes', top_level_comment.ups)\n",
    "    print('Comment Score', top_level_comment.score)\n",
    "    print('Comment Submission', top_level_comment.submission)\n",
    "    print('Comment User Reports', top_level_comment.user_reports)\n",
    "    print('Comment Subreddit', top_level_comment.subreddit)\n",
    "    print('Comment Post', top_level_comment.submission)\n",
    "    print('Submission Title: ', submission.title)\n",
    "    print('Submission Score: ', submission.score)\n",
    "    \n",
    "    comments_dict['Comment ID'] = top_level_comment\n",
    "    comments_dict['Comment Body'] = top_level_comment\n",
    "    break"
   ]
  },
  {
   "cell_type": "markdown",
   "metadata": {},
   "source": [
    "## Write to CSV"
   ]
  },
  {
   "cell_type": "code",
   "execution_count": 15,
   "metadata": {},
   "outputs": [],
   "source": [
    "submission.comments.replace_more(limit=1)\n",
    "with open('test.csv', 'w') as f:\n",
    "    for top_level_comment in submission.comments:\n",
    "        f.write(top_level_comment.name)\n",
    "        f.write(',')        \n",
    "        comment_parsed = top_level_comment.body.replace('\\n',' ').replace('\\t',' ').replace(',',' ')\n",
    "        if top_level_comment.author is None:\n",
    "            f.write('NO AUTHOR')\n",
    "        else:\n",
    "            f.write(top_level_comment.author.name)\n",
    "        f.write(',')\n",
    "        if top_level_comment.author_flair_text is None:\n",
    "            f.write('NO FLAIR')\n",
    "        else:\n",
    "            f.write(top_level_comment.author_flair_text)\n",
    "        f.write(',')\n",
    "        f.write(str(top_level_comment.score))\n",
    "        f.write(',')\n",
    "        f.write(comment_parsed)\n",
    "        f.write('\\n')"
   ]
  },
  {
   "cell_type": "markdown",
   "metadata": {},
   "source": [
    "# Read Results"
   ]
  },
  {
   "cell_type": "code",
   "execution_count": 16,
   "metadata": {},
   "outputs": [
    {
     "data": {
      "text/html": [
       "<div>\n",
       "<style scoped>\n",
       "    .dataframe tbody tr th:only-of-type {\n",
       "        vertical-align: middle;\n",
       "    }\n",
       "\n",
       "    .dataframe tbody tr th {\n",
       "        vertical-align: top;\n",
       "    }\n",
       "\n",
       "    .dataframe thead th {\n",
       "        text-align: right;\n",
       "    }\n",
       "</style>\n",
       "<table border=\"1\" class=\"dataframe\">\n",
       "  <thead>\n",
       "    <tr style=\"text-align: right;\">\n",
       "      <th></th>\n",
       "      <th>User</th>\n",
       "      <th>Flair</th>\n",
       "      <th>Score</th>\n",
       "      <th>Body</th>\n",
       "    </tr>\n",
       "    <tr>\n",
       "      <th>ID</th>\n",
       "      <th></th>\n",
       "      <th></th>\n",
       "      <th></th>\n",
       "      <th></th>\n",
       "    </tr>\n",
       "  </thead>\n",
       "  <tbody>\n",
       "    <tr>\n",
       "      <th>t1_davk6hv</th>\n",
       "      <td>lord-helmet</td>\n",
       "      <td>NO FLAIR</td>\n",
       "      <td>1146</td>\n",
       "      <td>Can anyone eli5 with this vote fuzzing and why...</td>\n",
       "    </tr>\n",
       "    <tr>\n",
       "      <th>t1_davmr3f</th>\n",
       "      <td>dawilly97</td>\n",
       "      <td>CO</td>\n",
       "      <td>318</td>\n",
       "      <td>We are going to lose our minds once we get rea...</td>\n",
       "    </tr>\n",
       "    <tr>\n",
       "      <th>t1_davhapd</th>\n",
       "      <td>NO AUTHOR</td>\n",
       "      <td>NO FLAIR</td>\n",
       "      <td>1183</td>\n",
       "      <td>Upvote everything!</td>\n",
       "    </tr>\n",
       "    <tr>\n",
       "      <th>t1_davq0kr</th>\n",
       "      <td>smawwww</td>\n",
       "      <td>CA</td>\n",
       "      <td>126</td>\n",
       "      <td>fuck the front page of reddit. DONALD J. TRUMP...</td>\n",
       "    </tr>\n",
       "    <tr>\n",
       "      <th>t1_davjzsi</th>\n",
       "      <td>neutralstrike</td>\n",
       "      <td>NO FLAIR</td>\n",
       "      <td>279</td>\n",
       "      <td>I'm not sure about that.  The_donald isn't in ...</td>\n",
       "    </tr>\n",
       "  </tbody>\n",
       "</table>\n",
       "</div>"
      ],
      "text/plain": [
       "                     User     Flair  Score  \\\n",
       "ID                                           \n",
       "t1_davk6hv    lord-helmet  NO FLAIR   1146   \n",
       "t1_davmr3f      dawilly97        CO    318   \n",
       "t1_davhapd      NO AUTHOR  NO FLAIR   1183   \n",
       "t1_davq0kr        smawwww        CA    126   \n",
       "t1_davjzsi  neutralstrike  NO FLAIR    279   \n",
       "\n",
       "                                                         Body  \n",
       "ID                                                             \n",
       "t1_davk6hv  Can anyone eli5 with this vote fuzzing and why...  \n",
       "t1_davmr3f  We are going to lose our minds once we get rea...  \n",
       "t1_davhapd                                 Upvote everything!  \n",
       "t1_davq0kr  fuck the front page of reddit. DONALD J. TRUMP...  \n",
       "t1_davjzsi  I'm not sure about that.  The_donald isn't in ...  "
      ]
     },
     "execution_count": 16,
     "metadata": {},
     "output_type": "execute_result"
    }
   ],
   "source": [
    "df = pd.read_csv('test.csv', index_col=0, names=['ID','User','Flair','Score','Body'])\n",
    "df.head()"
   ]
  },
  {
   "cell_type": "code",
   "execution_count": 17,
   "metadata": {},
   "outputs": [
    {
     "data": {
      "text/plain": [
       "(238, 4)"
      ]
     },
     "execution_count": 17,
     "metadata": {},
     "output_type": "execute_result"
    }
   ],
   "source": [
    "df.shape"
   ]
  },
  {
   "cell_type": "code",
   "execution_count": 18,
   "metadata": {},
   "outputs": [
    {
     "data": {
      "text/plain": [
       "'[removed]'"
      ]
     },
     "execution_count": 18,
     "metadata": {},
     "output_type": "execute_result"
    }
   ],
   "source": [
    "df.sort_values('Score')['Body'][0]"
   ]
  },
  {
   "cell_type": "code",
   "execution_count": 21,
   "metadata": {
    "scrolled": false
   },
   "outputs": [],
   "source": [
    "submission = reddit.submission(url=submission_url)\n",
    "submission.comments.replace_more(limit=1)\n",
    "comment_queue = submission.comments[:]  # Seed with top-level\n",
    "comment_number = 1\n",
    "with open('test.csv', 'w') as f:\n",
    "    while comment_queue:\n",
    "        comment = comment_queue.pop(0)\n",
    "        f.write(comment.name)\n",
    "        f.write(',')\n",
    "        f.write(str(comment.depth))\n",
    "        f.write(',')\n",
    "        comment_parsed = comment.body.replace('\\n',' ').replace('\\t',' ').replace(',',' ')\n",
    "        if comment.author is None:\n",
    "            f.write('NO AUTHOR')\n",
    "        else:\n",
    "            f.write(comment.author.name)\n",
    "        f.write(',')\n",
    "        if comment.author_flair_text is None:\n",
    "            f.write('NO FLAIR')\n",
    "        else:\n",
    "            f.write(comment.author_flair_text)\n",
    "        f.write(',')\n",
    "        f.write(str(comment.score))\n",
    "        f.write(',')\n",
    "        f.write(comment_parsed)\n",
    "        f.write('\\n')\n",
    "        #print('=============Comment Number {}============='.format(comment_number))\n",
    "        #print('=========Comment Depth: {}======='.format(comment.depth))\n",
    "        # print(comment.body)\n",
    "        comment_queue.extend(comment.replies)\n",
    "        comment_number += 1"
   ]
  },
  {
   "cell_type": "code",
   "execution_count": 22,
   "metadata": {},
   "outputs": [
    {
     "ename": "ParserError",
     "evalue": "Error tokenizing data. C error: Buffer overflow caught - possible malformed input file.\n",
     "output_type": "error",
     "traceback": [
      "\u001b[0;31m---------------------------------------------------------------------------\u001b[0m",
      "\u001b[0;31mParserError\u001b[0m                               Traceback (most recent call last)",
      "\u001b[0;32m<ipython-input-22-2fde78e4ae57>\u001b[0m in \u001b[0;36m<module>\u001b[0;34m()\u001b[0m\n\u001b[0;32m----> 1\u001b[0;31m \u001b[0mdf\u001b[0m \u001b[0;34m=\u001b[0m \u001b[0mpd\u001b[0m\u001b[0;34m.\u001b[0m\u001b[0mread_csv\u001b[0m\u001b[0;34m(\u001b[0m\u001b[0;34m'test.csv'\u001b[0m\u001b[0;34m,\u001b[0m \u001b[0mindex_col\u001b[0m\u001b[0;34m=\u001b[0m\u001b[0;36m0\u001b[0m\u001b[0;34m,\u001b[0m \u001b[0mnames\u001b[0m\u001b[0;34m=\u001b[0m\u001b[0;34m[\u001b[0m\u001b[0;34m'ID'\u001b[0m\u001b[0;34m,\u001b[0m\u001b[0;34m'Depth'\u001b[0m\u001b[0;34m,\u001b[0m\u001b[0;34m'User'\u001b[0m\u001b[0;34m,\u001b[0m\u001b[0;34m'Flair'\u001b[0m\u001b[0;34m,\u001b[0m\u001b[0;34m'Score'\u001b[0m\u001b[0;34m,\u001b[0m\u001b[0;34m'Body'\u001b[0m\u001b[0;34m]\u001b[0m\u001b[0;34m)\u001b[0m\u001b[0;34m\u001b[0m\u001b[0m\n\u001b[0m",
      "\u001b[0;32m~/anaconda3/lib/python3.6/site-packages/pandas/io/parsers.py\u001b[0m in \u001b[0;36mparser_f\u001b[0;34m(filepath_or_buffer, sep, delimiter, header, names, index_col, usecols, squeeze, prefix, mangle_dupe_cols, dtype, engine, converters, true_values, false_values, skipinitialspace, skiprows, nrows, na_values, keep_default_na, na_filter, verbose, skip_blank_lines, parse_dates, infer_datetime_format, keep_date_col, date_parser, dayfirst, iterator, chunksize, compression, thousands, decimal, lineterminator, quotechar, quoting, escapechar, comment, encoding, dialect, tupleize_cols, error_bad_lines, warn_bad_lines, skipfooter, doublequote, delim_whitespace, low_memory, memory_map, float_precision)\u001b[0m\n\u001b[1;32m    676\u001b[0m                     skip_blank_lines=skip_blank_lines)\n\u001b[1;32m    677\u001b[0m \u001b[0;34m\u001b[0m\u001b[0m\n\u001b[0;32m--> 678\u001b[0;31m         \u001b[0;32mreturn\u001b[0m \u001b[0m_read\u001b[0m\u001b[0;34m(\u001b[0m\u001b[0mfilepath_or_buffer\u001b[0m\u001b[0;34m,\u001b[0m \u001b[0mkwds\u001b[0m\u001b[0;34m)\u001b[0m\u001b[0;34m\u001b[0m\u001b[0m\n\u001b[0m\u001b[1;32m    679\u001b[0m \u001b[0;34m\u001b[0m\u001b[0m\n\u001b[1;32m    680\u001b[0m     \u001b[0mparser_f\u001b[0m\u001b[0;34m.\u001b[0m\u001b[0m__name__\u001b[0m \u001b[0;34m=\u001b[0m \u001b[0mname\u001b[0m\u001b[0;34m\u001b[0m\u001b[0m\n",
      "\u001b[0;32m~/anaconda3/lib/python3.6/site-packages/pandas/io/parsers.py\u001b[0m in \u001b[0;36m_read\u001b[0;34m(filepath_or_buffer, kwds)\u001b[0m\n\u001b[1;32m    444\u001b[0m \u001b[0;34m\u001b[0m\u001b[0m\n\u001b[1;32m    445\u001b[0m     \u001b[0;32mtry\u001b[0m\u001b[0;34m:\u001b[0m\u001b[0;34m\u001b[0m\u001b[0m\n\u001b[0;32m--> 446\u001b[0;31m         \u001b[0mdata\u001b[0m \u001b[0;34m=\u001b[0m \u001b[0mparser\u001b[0m\u001b[0;34m.\u001b[0m\u001b[0mread\u001b[0m\u001b[0;34m(\u001b[0m\u001b[0mnrows\u001b[0m\u001b[0;34m)\u001b[0m\u001b[0;34m\u001b[0m\u001b[0m\n\u001b[0m\u001b[1;32m    447\u001b[0m     \u001b[0;32mfinally\u001b[0m\u001b[0;34m:\u001b[0m\u001b[0;34m\u001b[0m\u001b[0m\n\u001b[1;32m    448\u001b[0m         \u001b[0mparser\u001b[0m\u001b[0;34m.\u001b[0m\u001b[0mclose\u001b[0m\u001b[0;34m(\u001b[0m\u001b[0;34m)\u001b[0m\u001b[0;34m\u001b[0m\u001b[0m\n",
      "\u001b[0;32m~/anaconda3/lib/python3.6/site-packages/pandas/io/parsers.py\u001b[0m in \u001b[0;36mread\u001b[0;34m(self, nrows)\u001b[0m\n\u001b[1;32m   1034\u001b[0m                 \u001b[0;32mraise\u001b[0m \u001b[0mValueError\u001b[0m\u001b[0;34m(\u001b[0m\u001b[0;34m'skipfooter not supported for iteration'\u001b[0m\u001b[0;34m)\u001b[0m\u001b[0;34m\u001b[0m\u001b[0m\n\u001b[1;32m   1035\u001b[0m \u001b[0;34m\u001b[0m\u001b[0m\n\u001b[0;32m-> 1036\u001b[0;31m         \u001b[0mret\u001b[0m \u001b[0;34m=\u001b[0m \u001b[0mself\u001b[0m\u001b[0;34m.\u001b[0m\u001b[0m_engine\u001b[0m\u001b[0;34m.\u001b[0m\u001b[0mread\u001b[0m\u001b[0;34m(\u001b[0m\u001b[0mnrows\u001b[0m\u001b[0;34m)\u001b[0m\u001b[0;34m\u001b[0m\u001b[0m\n\u001b[0m\u001b[1;32m   1037\u001b[0m \u001b[0;34m\u001b[0m\u001b[0m\n\u001b[1;32m   1038\u001b[0m         \u001b[0;31m# May alter columns / col_dict\u001b[0m\u001b[0;34m\u001b[0m\u001b[0;34m\u001b[0m\u001b[0m\n",
      "\u001b[0;32m~/anaconda3/lib/python3.6/site-packages/pandas/io/parsers.py\u001b[0m in \u001b[0;36mread\u001b[0;34m(self, nrows)\u001b[0m\n\u001b[1;32m   1846\u001b[0m     \u001b[0;32mdef\u001b[0m \u001b[0mread\u001b[0m\u001b[0;34m(\u001b[0m\u001b[0mself\u001b[0m\u001b[0;34m,\u001b[0m \u001b[0mnrows\u001b[0m\u001b[0;34m=\u001b[0m\u001b[0;32mNone\u001b[0m\u001b[0;34m)\u001b[0m\u001b[0;34m:\u001b[0m\u001b[0;34m\u001b[0m\u001b[0m\n\u001b[1;32m   1847\u001b[0m         \u001b[0;32mtry\u001b[0m\u001b[0;34m:\u001b[0m\u001b[0;34m\u001b[0m\u001b[0m\n\u001b[0;32m-> 1848\u001b[0;31m             \u001b[0mdata\u001b[0m \u001b[0;34m=\u001b[0m \u001b[0mself\u001b[0m\u001b[0;34m.\u001b[0m\u001b[0m_reader\u001b[0m\u001b[0;34m.\u001b[0m\u001b[0mread\u001b[0m\u001b[0;34m(\u001b[0m\u001b[0mnrows\u001b[0m\u001b[0;34m)\u001b[0m\u001b[0;34m\u001b[0m\u001b[0m\n\u001b[0m\u001b[1;32m   1849\u001b[0m         \u001b[0;32mexcept\u001b[0m \u001b[0mStopIteration\u001b[0m\u001b[0;34m:\u001b[0m\u001b[0;34m\u001b[0m\u001b[0m\n\u001b[1;32m   1850\u001b[0m             \u001b[0;32mif\u001b[0m \u001b[0mself\u001b[0m\u001b[0;34m.\u001b[0m\u001b[0m_first_chunk\u001b[0m\u001b[0;34m:\u001b[0m\u001b[0;34m\u001b[0m\u001b[0m\n",
      "\u001b[0;32mpandas/_libs/parsers.pyx\u001b[0m in \u001b[0;36mpandas._libs.parsers.TextReader.read\u001b[0;34m()\u001b[0m\n",
      "\u001b[0;32mpandas/_libs/parsers.pyx\u001b[0m in \u001b[0;36mpandas._libs.parsers.TextReader._read_low_memory\u001b[0;34m()\u001b[0m\n",
      "\u001b[0;32mpandas/_libs/parsers.pyx\u001b[0m in \u001b[0;36mpandas._libs.parsers.TextReader._read_rows\u001b[0;34m()\u001b[0m\n",
      "\u001b[0;32mpandas/_libs/parsers.pyx\u001b[0m in \u001b[0;36mpandas._libs.parsers.TextReader._tokenize_rows\u001b[0;34m()\u001b[0m\n",
      "\u001b[0;32mpandas/_libs/parsers.pyx\u001b[0m in \u001b[0;36mpandas._libs.parsers.raise_parser_error\u001b[0;34m()\u001b[0m\n",
      "\u001b[0;31mParserError\u001b[0m: Error tokenizing data. C error: Buffer overflow caught - possible malformed input file.\n"
     ]
    }
   ],
   "source": [
    "df = pd.read_csv('test.csv', index_col=0, names=['ID','Depth','User','Flair','Score','Body'])"
   ]
  },
  {
   "cell_type": "code",
   "execution_count": 31,
   "metadata": {},
   "outputs": [
    {
     "data": {
      "text/plain": [
       "(34, 5)"
      ]
     },
     "execution_count": 31,
     "metadata": {},
     "output_type": "execute_result"
    }
   ],
   "source": [
    "df.shape"
   ]
  },
  {
   "cell_type": "code",
   "execution_count": 23,
   "metadata": {},
   "outputs": [
    {
     "data": {
      "text/html": [
       "<div>\n",
       "<style scoped>\n",
       "    .dataframe tbody tr th:only-of-type {\n",
       "        vertical-align: middle;\n",
       "    }\n",
       "\n",
       "    .dataframe tbody tr th {\n",
       "        vertical-align: top;\n",
       "    }\n",
       "\n",
       "    .dataframe thead th {\n",
       "        text-align: right;\n",
       "    }\n",
       "</style>\n",
       "<table border=\"1\" class=\"dataframe\">\n",
       "  <thead>\n",
       "    <tr style=\"text-align: right;\">\n",
       "      <th></th>\n",
       "      <th>Depth</th>\n",
       "      <th>User</th>\n",
       "      <th>Flair</th>\n",
       "      <th>Score</th>\n",
       "      <th>Body</th>\n",
       "    </tr>\n",
       "    <tr>\n",
       "      <th>ID</th>\n",
       "      <th></th>\n",
       "      <th></th>\n",
       "      <th></th>\n",
       "      <th></th>\n",
       "      <th></th>\n",
       "    </tr>\n",
       "  </thead>\n",
       "  <tbody>\n",
       "    <tr>\n",
       "      <th>t1_e0jxq9j</th>\n",
       "      <td>0</td>\n",
       "      <td>echoacm</td>\n",
       "      <td>Prefrosh</td>\n",
       "      <td>293</td>\n",
       "      <td>joke's on you  I didn't learn anything in AP E...</td>\n",
       "    </tr>\n",
       "    <tr>\n",
       "      <th>t1_e0k9qsr</th>\n",
       "      <td>0</td>\n",
       "      <td>CornHellUniversity</td>\n",
       "      <td>NO FLAIR</td>\n",
       "      <td>45</td>\n",
       "      <td>All I remember from AP Eng is Ethos  Pathos  L...</td>\n",
       "    </tr>\n",
       "    <tr>\n",
       "      <th>t1_e0jy6sx</th>\n",
       "      <td>0</td>\n",
       "      <td>OwenLeaf</td>\n",
       "      <td>HS Junior</td>\n",
       "      <td>95</td>\n",
       "      <td>I feel bad for you guys if this is what your A...</td>\n",
       "    </tr>\n",
       "    <tr>\n",
       "      <th>t1_e0k27ct</th>\n",
       "      <td>0</td>\n",
       "      <td>holdenthe</td>\n",
       "      <td>NO FLAIR</td>\n",
       "      <td>23</td>\n",
       "      <td>i kinda realized this when i tried to write my...</td>\n",
       "    </tr>\n",
       "    <tr>\n",
       "      <th>t1_e0k5gtx</th>\n",
       "      <td>0</td>\n",
       "      <td>pachacuti092</td>\n",
       "      <td>HS Senior</td>\n",
       "      <td>19</td>\n",
       "      <td>Jokes on u cuz I didn’t even take ap English</td>\n",
       "    </tr>\n",
       "  </tbody>\n",
       "</table>\n",
       "</div>"
      ],
      "text/plain": [
       "            Depth                User      Flair  Score  \\\n",
       "ID                                                        \n",
       "t1_e0jxq9j      0             echoacm   Prefrosh    293   \n",
       "t1_e0k9qsr      0  CornHellUniversity   NO FLAIR     45   \n",
       "t1_e0jy6sx      0            OwenLeaf  HS Junior     95   \n",
       "t1_e0k27ct      0           holdenthe   NO FLAIR     23   \n",
       "t1_e0k5gtx      0        pachacuti092  HS Senior     19   \n",
       "\n",
       "                                                         Body  \n",
       "ID                                                             \n",
       "t1_e0jxq9j  joke's on you  I didn't learn anything in AP E...  \n",
       "t1_e0k9qsr  All I remember from AP Eng is Ethos  Pathos  L...  \n",
       "t1_e0jy6sx  I feel bad for you guys if this is what your A...  \n",
       "t1_e0k27ct  i kinda realized this when i tried to write my...  \n",
       "t1_e0k5gtx      Jokes on u cuz I didn’t even take ap English   "
      ]
     },
     "execution_count": 23,
     "metadata": {},
     "output_type": "execute_result"
    }
   ],
   "source": [
    "df.head()"
   ]
  },
  {
   "cell_type": "code",
   "execution_count": 30,
   "metadata": {},
   "outputs": [
    {
     "data": {
      "text/html": [
       "<div>\n",
       "<style scoped>\n",
       "    .dataframe tbody tr th:only-of-type {\n",
       "        vertical-align: middle;\n",
       "    }\n",
       "\n",
       "    .dataframe tbody tr th {\n",
       "        vertical-align: top;\n",
       "    }\n",
       "\n",
       "    .dataframe thead th {\n",
       "        text-align: right;\n",
       "    }\n",
       "</style>\n",
       "<table border=\"1\" class=\"dataframe\">\n",
       "  <thead>\n",
       "    <tr style=\"text-align: right;\">\n",
       "      <th></th>\n",
       "      <th>Depth</th>\n",
       "      <th>User</th>\n",
       "      <th>Flair</th>\n",
       "      <th>Score</th>\n",
       "      <th>Body</th>\n",
       "    </tr>\n",
       "    <tr>\n",
       "      <th>ID</th>\n",
       "      <th></th>\n",
       "      <th></th>\n",
       "      <th></th>\n",
       "      <th></th>\n",
       "      <th></th>\n",
       "    </tr>\n",
       "  </thead>\n",
       "  <tbody>\n",
       "    <tr>\n",
       "      <th>t1_e0lc77o</th>\n",
       "      <td>1</td>\n",
       "      <td>N4_IS_PLS</td>\n",
       "      <td>Senior</td>\n",
       "      <td>1</td>\n",
       "      <td>Read  write  revise.   Read at least 30 minute...</td>\n",
       "    </tr>\n",
       "    <tr>\n",
       "      <th>t1_e0lasgb</th>\n",
       "      <td>1</td>\n",
       "      <td>305rose</td>\n",
       "      <td>Prefrosh</td>\n",
       "      <td>2</td>\n",
       "      <td>record yourself speaking your essay and then c...</td>\n",
       "    </tr>\n",
       "    <tr>\n",
       "      <th>t1_e0kzfsa</th>\n",
       "      <td>1</td>\n",
       "      <td>ScholarGrade</td>\n",
       "      <td>MBA</td>\n",
       "      <td>3</td>\n",
       "      <td>I mean  ee cummings went to Harvard without it...</td>\n",
       "    </tr>\n",
       "    <tr>\n",
       "      <th>t1_e0kz9dh</th>\n",
       "      <td>1</td>\n",
       "      <td>ScholarGrade</td>\n",
       "      <td>MBA</td>\n",
       "      <td>3</td>\n",
       "      <td>Wow you had a great teacher then.  I've heard ...</td>\n",
       "    </tr>\n",
       "    <tr>\n",
       "      <th>t1_e0kmdl6</th>\n",
       "      <td>1</td>\n",
       "      <td>ScholarGrade</td>\n",
       "      <td>MBA</td>\n",
       "      <td>4</td>\n",
       "      <td>Many AOs will go back periodically throughout ...</td>\n",
       "    </tr>\n",
       "  </tbody>\n",
       "</table>\n",
       "</div>"
      ],
      "text/plain": [
       "            Depth          User     Flair  Score  \\\n",
       "ID                                                 \n",
       "t1_e0lc77o      1     N4_IS_PLS    Senior      1   \n",
       "t1_e0lasgb      1       305rose  Prefrosh      2   \n",
       "t1_e0kzfsa      1  ScholarGrade       MBA      3   \n",
       "t1_e0kz9dh      1  ScholarGrade       MBA      3   \n",
       "t1_e0kmdl6      1  ScholarGrade       MBA      4   \n",
       "\n",
       "                                                         Body  \n",
       "ID                                                             \n",
       "t1_e0lc77o  Read  write  revise.   Read at least 30 minute...  \n",
       "t1_e0lasgb  record yourself speaking your essay and then c...  \n",
       "t1_e0kzfsa  I mean  ee cummings went to Harvard without it...  \n",
       "t1_e0kz9dh  Wow you had a great teacher then.  I've heard ...  \n",
       "t1_e0kmdl6  Many AOs will go back periodically throughout ...  "
      ]
     },
     "execution_count": 30,
     "metadata": {},
     "output_type": "execute_result"
    }
   ],
   "source": [
    "df.loc[df['Depth'] == 1].sort_values('Score').head()"
   ]
  },
  {
   "cell_type": "markdown",
   "metadata": {},
   "source": [
    "## Plot Depth/Score"
   ]
  },
  {
   "cell_type": "code",
   "execution_count": 32,
   "metadata": {},
   "outputs": [
    {
     "data": {
      "text/plain": [
       "<matplotlib.axes._subplots.AxesSubplot at 0x7fbcae478668>"
      ]
     },
     "execution_count": 32,
     "metadata": {},
     "output_type": "execute_result"
    }
   ],
   "source": [
    "df.plot(x='Depth', y='Score', kind='scatter', figsize=(15,10))"
   ]
  },
  {
   "cell_type": "markdown",
   "metadata": {},
   "source": [
    "### Groupby Flair"
   ]
  },
  {
   "cell_type": "code",
   "execution_count": 33,
   "metadata": {},
   "outputs": [],
   "source": [
    "df['First Flair'] = df.apply(lambda x: x['Flair'].split(' / ')[0], axis=1)\n",
    "#df['Second Flair'] = df.apply(lambda x: x['Flair'].split(' / ')[1], axis=1)"
   ]
  },
  {
   "cell_type": "code",
   "execution_count": 34,
   "metadata": {},
   "outputs": [],
   "source": [
    "grouped_by_flair = df.groupby('First Flair')"
   ]
  },
  {
   "cell_type": "code",
   "execution_count": 35,
   "metadata": {},
   "outputs": [],
   "source": [
    "average_score = grouped_by_flair.aggregate(np.average).sort_values('Score')"
   ]
  },
  {
   "cell_type": "code",
   "execution_count": 40,
   "metadata": {},
   "outputs": [
    {
     "data": {
      "text/plain": [
       "<matplotlib.axes._subplots.AxesSubplot at 0x7fbcad754828>"
      ]
     },
     "execution_count": 40,
     "metadata": {},
     "output_type": "execute_result"
    },
    {
     "data": {
      "image/png": "[encoded data removed]",
      "text/plain": [
       "<Figure size 1440x360 with 1 Axes>"
      ]
     },
     "metadata": {},
     "output_type": "display_data"
    }
   ],
   "source": [
    "average_score.loc[average_score['Score']>=10].plot(y='Score', kind='bar',figsize=(20,5))"
   ]
  },
  {
   "cell_type": "code",
   "execution_count": 41,
   "metadata": {},
   "outputs": [
    {
     "data": {
      "text/plain": [
       "<matplotlib.axes._subplots.AxesSubplot at 0x7fbcad56e1d0>"
      ]
     },
     "execution_count": 41,
     "metadata": {},
     "output_type": "execute_result"
    },
    {
     "data": {
      "image/png": "[encoded data removed]",
      "text/plain": [
       "<Figure size 1440x360 with 1 Axes>"
      ]
     },
     "metadata": {},
     "output_type": "display_data"
    }
   ],
   "source": [
    "average_score.loc[average_score['Score']< 10].plot(y='Score', kind='bar',figsize=(20,5))"
   ]
  }
 ],
 "metadata": {
  "kernelspec": {
   "display_name": "Python 3",
   "language": "python",
   "name": "python3"
  },
  "language_info": {
   "codemirror_mode": {
    "name": "ipython",
    "version": 3
   },
   "file_extension": ".py",
   "mimetype": "text/x-python",
   "name": "python",
   "nbconvert_exporter": "python",
   "pygments_lexer": "ipython3",
   "version": "3.6.5"
  }
 },
 "nbformat": 4,
 "nbformat_minor": 2
}
