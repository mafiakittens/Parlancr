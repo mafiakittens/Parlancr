{
 "cells": [
  {
   "cell_type": "markdown",
   "metadata": {},
   "source": [
    "### Topic Ideas\n",
    "* Interviews\n",
    "* Rejections\n",
    "* Prefrosh (flair)\n",
    "* [GUIDE]"
   ]
  },
  {
   "cell_type": "markdown",
   "metadata": {},
   "source": [
    "# Scraping Reddit Comments"
   ]
  },
  {
   "cell_type": "code",
   "execution_count": 1,
   "metadata": {},
   "outputs": [],
   "source": [
    "import praw\n",
    "import pandas as pd\n",
    "import configparser\n",
    "import numpy as np\n",
    "from praw.models import MoreComments"
   ]
  },
  {
   "cell_type": "code",
   "execution_count": 2,
   "metadata": {},
   "outputs": [
    {
     "name": "stdout",
     "output_type": "stream",
     "text": [
      "/home/chadharness/w210/webscraping\n"
     ]
    }
   ],
   "source": [
    "!pwd"
   ]
  },
  {
   "cell_type": "markdown",
   "metadata": {},
   "source": [
    "## Get Configuration Parameters"
   ]
  },
  {
   "cell_type": "code",
   "execution_count": 3,
   "metadata": {},
   "outputs": [
    {
     "data": {
      "text/plain": [
       "['../config/reddit.config']"
      ]
     },
     "execution_count": 3,
     "metadata": {},
     "output_type": "execute_result"
    }
   ],
   "source": [
    "config = configparser.ConfigParser()\n",
    "config.read('../config/reddit.config')"
   ]
  },
  {
   "cell_type": "markdown",
   "metadata": {},
   "source": [
    "## Instantiate PRAW Object"
   ]
  },
  {
   "cell_type": "code",
   "execution_count": 4,
   "metadata": {},
   "outputs": [],
   "source": [
    "reddit = praw.Reddit(client_id=config['REDDIT_CONFIG']['client_id'],\n",
    "                     client_secret=config['REDDIT_CONFIG']['client_secret'],\n",
    "                     password=config['REDDIT_CONFIG']['password'],\n",
    "                     user_agent=config['REDDIT_CONFIG']['user_agent'],\n",
    "                     username=config['REDDIT_CONFIG']['username'])"
   ]
  },
  {
   "cell_type": "code",
   "execution_count": 5,
   "metadata": {},
   "outputs": [
    {
     "name": "stdout",
     "output_type": "stream",
     "text": [
      "[Q&A Megathread] North Korea Summit\n",
      "Do you agree with Trump that NK no longer poses a nuclear threat and that they are no longer our biggest and most dangerous problem?\n",
      "The DNC will refuse donations from PACs with connections to fossil fuel - should the RNC do the same? Do you think this will have any interesting social or political effects?\n",
      "What do you think if the March For Out Lives movement started by the Parkland students?\n",
      "What are your thoughts on Jared and Ivanka making $82 million last year and $3.9 million from Trump Hotel DC alone?\n",
      "What do you personally think of Justin Trudeau?\n",
      "What are your thoughts on the AT&T/Time Warner Merger?\n",
      "Mueller has warned that Russia has \"active interference operations\" and wants to limit the evidence that charged/sanctioned Russian companies can see. Would you support this?\n",
      "What are your thoughts on the article written by Kellyanne Conway's husband, lawyer George Conway, defending the constitutionality of Robert Mueller's appointment and probe.\n",
      "Is Donald at risk of being hacked?\n"
     ]
    }
   ],
   "source": [
    "for submission in reddit.subreddit('AskTrumpSupporters').hot(limit=10):\n",
    "    print(submission.title)"
   ]
  },
  {
   "cell_type": "markdown",
   "metadata": {},
   "source": [
    "### Take a Peek at AskTrumpSupporters Subreddit"
   ]
  },
  {
   "cell_type": "code",
   "execution_count": 6,
   "metadata": {},
   "outputs": [],
   "source": [
    "subreddit = reddit.subreddit('AskTrumpSupporters')"
   ]
  },
  {
   "cell_type": "code",
   "execution_count": 7,
   "metadata": {},
   "outputs": [
    {
     "name": "stdout",
     "output_type": "stream",
     "text": [
      "AskTrumpSupporters\n",
      "AskTrumpSupporters\n"
     ]
    }
   ],
   "source": [
    "print(subreddit.display_name)  # Output: redditdev\n",
    "print(subreddit.title)         # Output: reddit Development"
   ]
  },
  {
   "cell_type": "markdown",
   "metadata": {},
   "source": [
    "## Grab Some Posts"
   ]
  },
  {
   "cell_type": "code",
   "execution_count": 13,
   "metadata": {},
   "outputs": [
    {
     "name": "stdout",
     "output_type": "stream",
     "text": [
      "What are your thoughts on Trump lying about visiting Rep. Scalise in the hospital?\n",
      "11\n",
      "6i25v9\n",
      "https://www.reddit.com/r/AskTrumpSupporters/comments/6i25v9/what_are_your_thoughts_on_trump_lying_about/\n",
      "President Trump's Support Among Black Men Has Doubled. Thoughts?\n",
      "3\n",
      "8gvejg\n",
      "https://www.reddit.com/r/AskTrumpSupporters/comments/8gvejg/president_trumps_support_among_black_men_has/\n",
      "Did Trump win the debate? [Open Discussion]\n",
      "4\n",
      "54qx4p\n",
      "https://www.reddit.com/r/AskTrumpSupporters/comments/54qx4p/did_trump_win_the_debate_open_discussion/\n",
      "What should I say on Walkout Day on Wednesday?\n",
      "0\n",
      "83yswt\n",
      "https://www.reddit.com/r/AskTrumpSupporters/comments/83yswt/what_should_i_say_on_walkout_day_on_wednesday/\n",
      "What do you think of Samantha Bee's comments on Ivanka Trump? Should she be fired?\n",
      "0\n",
      "8njnl3\n",
      "https://www.reddit.com/r/AskTrumpSupporters/comments/8njnl3/what_do_you_think_of_samantha_bees_comments_on/\n"
     ]
    }
   ],
   "source": [
    "for submission in subreddit.controversial(limit=5):\n",
    "    print(submission.title)  # Output: the submission's title\n",
    "    print(submission.score)  # Output: the submission's score\n",
    "    print(submission.id)     # Output: the submission's ID\n",
    "    print(submission.url)    # Output: the URL the submission points to"
   ]
  },
  {
   "cell_type": "markdown",
   "metadata": {},
   "source": [
    "## View Comments"
   ]
  },
  {
   "cell_type": "code",
   "execution_count": 14,
   "metadata": {},
   "outputs": [
    {
     "name": "stdout",
     "output_type": "stream",
     "text": [
      "> I don't get it. He won, not matter how many media outlets try to paint their narrative.\n",
      "\n",
      "It's not the 'media narrative' if r/conservative, this sub, and even fox news all admit he lost... \n",
      "\n",
      "He had some great lines, but the problem is it was 2 or 3 in the first 25 minutes whereas Clinton kept her composure the entire debate and didn't lower herself down at all. Trump missed so many opportunities to jump on stuff like the foundation, emails, benghazi, and just let her get off all those subjects. Then bringing up Rosie o donnel and saying she deserved it? Then praising himself for not bringing up Bill's affairs? How can anyone pretend those are good lines? No one is getting swayed to Trump by the debate except the base he already had. \n",
      "\n",
      "His lack of preparation showed and it showed badly. \n",
      "> Hillary tried to come back at Donald about why we don't have money to rebuild our cities with maybe because you have not paid any federal income tax for a lot of years. I thought it was one of Trumps best moments when he said It would be squandered too, believe me. Does anyone have any reason to believe it wouldn't be squandered given the way our government has spent the taxpayers money? \n",
      "\n",
      ">A similar back and forth exchange that stood out was when Hillary attacked Donald for not paying his fair share in taxes . Or maybe he does not want the American people, all of you watching tonight, to know that he has paid nothing in federal taxes because the only years that anybody has ever seen for a couple of years where he had to turn them over to state authorities when he was trying to get a casino license. And they showed he did not pay any federal income tax. And Donald rebutted That makes me smart. A business person is supposed to pay the least amount in taxes he could, nobody is just paying more if they don't have to. If they are paying more they are stupid, and if they are minimizing their tax payments they are acting in their best interest; i.e smart.\n",
      "\n",
      "How can you say that it's smart for him to not pay taxes? How is that a good thing? How is that fair to the billions of people trying to make ends meet that have to pay their taxes? How is it fair for a billionaire to pay no income tax? You don't get to decide where your tax money goes to. You can't just not pay taxes because you feel it's a waste and would be squandered by the government. That's not how our society works. \n",
      "\n",
      "You can take advantage of tax breaks that apply to you sure, pay as little as possible, whatever. But paying NO income tax is NOT something to be proud of. It's a damn disgrace and an insult to the working poor and middle class.\n",
      "I think the best example of his lack of preparation was his response to the housing discrimination topic.\n",
      "\n",
      "> In Palm Beach, Florida -- tough community -- a brilliant community, a wealthy community, probably the wealthiest community there is in the world, I opened a club. And really got great credit for it. No discrimination against African-Americans, against Muslims, against anybody. And it's a tremendously successful club. And I'm so glad I did it. And I have been given great credit for what I did. And I'm very, very proud of it. And that's the way I feel. That is the true way I feel.\n",
      "\n",
      "You know that he's talking about the Mar-a-Lago and how he insisted on opening the club to black/Jewish patrons, even though there was push-back from the community. You are aware of this story already, which is why Trump's answer sounds good to you.\n",
      "\n",
      "Would anyone watching the debate understand that from his comment? No -- he basically just said that he opened a club and let black people go to it, and this is why he's not racist. That's a terrible answer, and one he could only possibly give because he was speaking off the cuff, didn't prepare, or was thrown off by Clinton. He looked even more racist after giving it. \n",
      "\n",
      "The debate isn't for you, since you're a Trump supporter; the debate is for the undecided voters in swing states, and Democrats that are on the line about Clinton. In that respect, the debate was a disaster. \n",
      "No.\n",
      "I posted this elsewhere in the sub but here goes:\n",
      "\n",
      "Okay so if I'm a Trump supporter I'm asking:\n",
      "\n",
      "1.Why didn't he go much, much harder on the emails? The water was awash with her blood on that one and he let her swim right to shore.\n",
      "\n",
      "\n",
      "2.Why spend so much time talking about freaking Sean Hannity?\n",
      "\n",
      "\n",
      "3.Birtherism: \"I got him to reveal his birth certificate. I regret saying more after that.\"  If he apologized and said something like \"hey, I'm human\" that would be a large focus of coverage today.\n",
      "\n",
      "\n",
      "4.Don't freakin' say this in response to a racial discrimination lawsuit (paraphrasing): we didn't admit guilt on that one and a lot of other people got sued. Say: \"We didn't discriminate against anyone and we settled amicably out of court.\"\n",
      "\n",
      "\n"
     ]
    }
   ],
   "source": [
    "submission = reddit.submission(id='54qx4p')\n",
    "line = 0\n",
    "for top_level_comment in submission.comments:\n",
    "    line += 1\n",
    "    print(top_level_comment.body)\n",
    "    if line == 5:\n",
    "        break"
   ]
  },
  {
   "cell_type": "markdown",
   "metadata": {},
   "source": [
    "## Selected Thread Comments"
   ]
  },
  {
   "cell_type": "code",
   "execution_count": 15,
   "metadata": {},
   "outputs": [],
   "source": [
    "submission_url = 'https://www.reddit.com/r/AskTrumpSupporters/comments/54qx4p/did_trump_win_the_debate_open_discussion/'"
   ]
  },
  {
   "cell_type": "code",
   "execution_count": 16,
   "metadata": {},
   "outputs": [],
   "source": [
    "submission = reddit.submission(url=submission_url)"
   ]
  },
  {
   "cell_type": "code",
   "execution_count": 17,
   "metadata": {},
   "outputs": [
    {
     "name": "stdout",
     "output_type": "stream",
     "text": [
      "=============NEW COMMMENT=============\n",
      "Comment ID: d845n7j\n",
      "Comment Body: > I don't get it. He won, not matter how many media outlets try to paint their narrative.\n",
      "\n",
      "It's not the 'media narrative' if r/conservative, this sub, and even fox news all admit he lost... \n",
      "\n",
      "He had some great lines, but the problem is it was 2 or 3 in the first 25 minutes whereas Clinton kept her composure the entire debate and didn't lower herself down at all. Trump missed so many opportunities to jump on stuff like the foundation, emails, benghazi, and just let her get off all those subjects. Then bringing up Rosie o donnel and saying she deserved it? Then praising himself for not bringing up Bill's affairs? How can anyone pretend those are good lines? No one is getting swayed to Trump by the debate except the base he already had. \n",
      "\n",
      "His lack of preparation showed and it showed badly. \n",
      "Comment Author: MGPA\n",
      "Comment Author Flair CSS: None\n",
      "Comment Author Flair Text None\n",
      "Comment Body Controversaility: 0\n",
      "Comment Created: 1475017052.0\n",
      "Comment Created UTC: 1474988252.0\n",
      "Comment Depth 0\n",
      "Comment Downvotes 0\n",
      "Comment UpVotes 85\n",
      "Comment Score 85\n",
      "Comment Submission 54qx4p\n",
      "Comment User Reports []\n",
      "Comment Subreddit AskTrumpSupporters\n",
      "Comment Post 54qx4p\n",
      "Submission Title:  Did Trump win the debate? [Open Discussion]\n",
      "Submission Score:  4\n"
     ]
    }
   ],
   "source": [
    "x = 0\n",
    "\n",
    "from collections import defaultdict\n",
    "\n",
    "comments_dict = defaultdict()\n",
    "for top_level_comment in submission.comments:\n",
    "    print(\"=============NEW COMMMENT=============\")\n",
    "    print('Comment ID:',top_level_comment)\n",
    "    print('Comment Body:', top_level_comment.body)\n",
    "    print('Comment Author:', top_level_comment.author)\n",
    "    print('Comment Author Flair CSS:',top_level_comment.author_flair_css_class)\n",
    "    print('Comment Author Flair Text',top_level_comment.author_flair_text)\n",
    "    print('Comment Body Controversaility:', top_level_comment.controversiality)\n",
    "    print('Comment Created:', top_level_comment.created)\n",
    "    print('Comment Created UTC:', top_level_comment.created_utc)\n",
    "    print('Comment Depth', top_level_comment.depth)\n",
    "    print('Comment Downvotes', top_level_comment.downs)\n",
    "    print('Comment UpVotes', top_level_comment.ups)\n",
    "    print('Comment Score', top_level_comment.score)\n",
    "    print('Comment Submission', top_level_comment.submission)\n",
    "    print('Comment User Reports', top_level_comment.user_reports)\n",
    "    print('Comment Subreddit', top_level_comment.subreddit)\n",
    "    print('Comment Post', top_level_comment.submission)\n",
    "    print('Submission Title: ', submission.title)\n",
    "    print('Submission Score: ', submission.score)\n",
    "    \n",
    "    comments_dict['Comment ID'] = top_level_comment\n",
    "    comments_dict['Comment Body'] = top_level_comment\n",
    "    break"
   ]
  },
  {
   "cell_type": "markdown",
   "metadata": {},
   "source": [
    "## Write to CSV"
   ]
  },
  {
   "cell_type": "code",
   "execution_count": 18,
   "metadata": {},
   "outputs": [],
   "source": [
    "submission.comments.replace_more(limit=1)\n",
    "with open('test.csv', 'w') as f:\n",
    "    for top_level_comment in submission.comments:\n",
    "        f.write(top_level_comment.name)\n",
    "        f.write(',')        \n",
    "        comment_parsed = top_level_comment.body.replace('\\n',' ').replace('\\t',' ').replace(',',' ')\n",
    "        if top_level_comment.author is None:\n",
    "            f.write('NO AUTHOR')\n",
    "        else:\n",
    "            f.write(top_level_comment.author.name)\n",
    "        f.write(',')\n",
    "        if top_level_comment.author_flair_text is None:\n",
    "            f.write('NO FLAIR')\n",
    "        else:\n",
    "            f.write(top_level_comment.author_flair_text)\n",
    "        f.write(',')\n",
    "        f.write(str(top_level_comment.score))\n",
    "        f.write(',')\n",
    "        f.write(comment_parsed)\n",
    "        f.write('\\n')"
   ]
  },
  {
   "cell_type": "markdown",
   "metadata": {},
   "source": [
    "# Read Results"
   ]
  },
  {
   "cell_type": "code",
   "execution_count": 19,
   "metadata": {},
   "outputs": [
    {
     "data": {
      "text/html": [
       "<div>\n",
       "<style scoped>\n",
       "    .dataframe tbody tr th:only-of-type {\n",
       "        vertical-align: middle;\n",
       "    }\n",
       "\n",
       "    .dataframe tbody tr th {\n",
       "        vertical-align: top;\n",
       "    }\n",
       "\n",
       "    .dataframe thead th {\n",
       "        text-align: right;\n",
       "    }\n",
       "</style>\n",
       "<table border=\"1\" class=\"dataframe\">\n",
       "  <thead>\n",
       "    <tr style=\"text-align: right;\">\n",
       "      <th></th>\n",
       "      <th>User</th>\n",
       "      <th>Flair</th>\n",
       "      <th>Score</th>\n",
       "      <th>Body</th>\n",
       "    </tr>\n",
       "    <tr>\n",
       "      <th>ID</th>\n",
       "      <th></th>\n",
       "      <th></th>\n",
       "      <th></th>\n",
       "      <th></th>\n",
       "    </tr>\n",
       "  </thead>\n",
       "  <tbody>\n",
       "    <tr>\n",
       "      <th>t1_d845n7j</th>\n",
       "      <td>MGPA</td>\n",
       "      <td>NO FLAIR</td>\n",
       "      <td>85</td>\n",
       "      <td>&gt; I don't get it. He won  not matter how many ...</td>\n",
       "    </tr>\n",
       "    <tr>\n",
       "      <th>t1_d849ie1</th>\n",
       "      <td>Equipoisonous</td>\n",
       "      <td>Non-Trump Supporter</td>\n",
       "      <td>25</td>\n",
       "      <td>&gt; Hillary tried to come back at Donald about w...</td>\n",
       "    </tr>\n",
       "    <tr>\n",
       "      <th>t1_d84dafu</th>\n",
       "      <td>dyskgo</td>\n",
       "      <td>NO FLAIR</td>\n",
       "      <td>20</td>\n",
       "      <td>I think the best example of his lack of prepar...</td>\n",
       "    </tr>\n",
       "    <tr>\n",
       "      <th>t1_d84beym</th>\n",
       "      <td>LairdAvocado</td>\n",
       "      <td>Nonsupporter</td>\n",
       "      <td>11</td>\n",
       "      <td>No.</td>\n",
       "    </tr>\n",
       "    <tr>\n",
       "      <th>t1_d849ai0</th>\n",
       "      <td>Johnny_Swiftlove</td>\n",
       "      <td>NO FLAIR</td>\n",
       "      <td>10</td>\n",
       "      <td>I posted this elsewhere in the sub but here go...</td>\n",
       "    </tr>\n",
       "  </tbody>\n",
       "</table>\n",
       "</div>"
      ],
      "text/plain": [
       "                        User                Flair  Score  \\\n",
       "ID                                                         \n",
       "t1_d845n7j              MGPA             NO FLAIR     85   \n",
       "t1_d849ie1     Equipoisonous  Non-Trump Supporter     25   \n",
       "t1_d84dafu            dyskgo             NO FLAIR     20   \n",
       "t1_d84beym      LairdAvocado        Nonsupporter      11   \n",
       "t1_d849ai0  Johnny_Swiftlove             NO FLAIR     10   \n",
       "\n",
       "                                                         Body  \n",
       "ID                                                             \n",
       "t1_d845n7j  > I don't get it. He won  not matter how many ...  \n",
       "t1_d849ie1  > Hillary tried to come back at Donald about w...  \n",
       "t1_d84dafu  I think the best example of his lack of prepar...  \n",
       "t1_d84beym                                                No.  \n",
       "t1_d849ai0  I posted this elsewhere in the sub but here go...  "
      ]
     },
     "execution_count": 19,
     "metadata": {},
     "output_type": "execute_result"
    }
   ],
   "source": [
    "df = pd.read_csv('test.csv', index_col=0, names=['ID','User','Flair','Score','Body'])\n",
    "df.head()"
   ]
  },
  {
   "cell_type": "code",
   "execution_count": 20,
   "metadata": {},
   "outputs": [
    {
     "data": {
      "text/plain": [
       "(26, 4)"
      ]
     },
     "execution_count": 20,
     "metadata": {},
     "output_type": "execute_result"
    }
   ],
   "source": [
    "df.shape"
   ]
  },
  {
   "cell_type": "code",
   "execution_count": 21,
   "metadata": {},
   "outputs": [
    {
     "data": {
      "text/plain": [
       "\"Ultimately  the vast majority of polls show that most people thought Trump won the debate. That's the important part. We all might have different criteria for what winning looks like but the purpose of the debate is to influence the voters  and it seems that most people do believe that Trump came out on top. Could Trump have done better? Sure  we can Monday morning quarterback this all we want. But the question is whether he won or not  and judging by the response to the debate  I'm sure he did.\""
      ]
     },
     "execution_count": 21,
     "metadata": {},
     "output_type": "execute_result"
    }
   ],
   "source": [
    "df.sort_values('Score')['Body'][0]"
   ]
  },
  {
   "cell_type": "code",
   "execution_count": 22,
   "metadata": {
    "scrolled": false
   },
   "outputs": [],
   "source": [
    "submission = reddit.submission(url=submission_url)\n",
    "submission.comments.replace_more(limit=1)\n",
    "comment_queue = submission.comments[:]  # Seed with top-level\n",
    "comment_number = 1\n",
    "with open('test.csv', 'w') as f:\n",
    "    while comment_queue:\n",
    "        comment = comment_queue.pop(0)\n",
    "        f.write(comment.name)\n",
    "        f.write(',')\n",
    "        f.write(str(comment.depth))\n",
    "        f.write(',')\n",
    "        comment_parsed = comment.body.replace('\\n',' ').replace('\\t',' ').replace(',',' ')\n",
    "        if comment.author is None:\n",
    "            f.write('NO AUTHOR')\n",
    "        else:\n",
    "            f.write(comment.author.name)\n",
    "        f.write(',')\n",
    "        if comment.author_flair_text is None:\n",
    "            f.write('NO FLAIR')\n",
    "        else:\n",
    "            f.write(comment.author_flair_text)\n",
    "        f.write(',')\n",
    "        f.write(str(comment.score))\n",
    "        f.write(',')\n",
    "        f.write(comment_parsed)\n",
    "        f.write('\\n')\n",
    "        #print('=============Comment Number {}============='.format(comment_number))\n",
    "        #print('=========Comment Depth: {}======='.format(comment.depth))\n",
    "        # print(comment.body)\n",
    "        comment_queue.extend(comment.replies)\n",
    "        comment_number += 1"
   ]
  },
  {
   "cell_type": "code",
   "execution_count": 23,
   "metadata": {},
   "outputs": [],
   "source": [
    "df = pd.read_csv('test.csv', index_col=0, names=['ID','Depth','User','Flair','Score','Body'])"
   ]
  },
  {
   "cell_type": "code",
   "execution_count": 24,
   "metadata": {},
   "outputs": [
    {
     "data": {
      "text/plain": [
       "(302, 5)"
      ]
     },
     "execution_count": 24,
     "metadata": {},
     "output_type": "execute_result"
    }
   ],
   "source": [
    "df.shape"
   ]
  },
  {
   "cell_type": "code",
   "execution_count": 25,
   "metadata": {},
   "outputs": [
    {
     "data": {
      "text/html": [
       "<div>\n",
       "<style scoped>\n",
       "    .dataframe tbody tr th:only-of-type {\n",
       "        vertical-align: middle;\n",
       "    }\n",
       "\n",
       "    .dataframe tbody tr th {\n",
       "        vertical-align: top;\n",
       "    }\n",
       "\n",
       "    .dataframe thead th {\n",
       "        text-align: right;\n",
       "    }\n",
       "</style>\n",
       "<table border=\"1\" class=\"dataframe\">\n",
       "  <thead>\n",
       "    <tr style=\"text-align: right;\">\n",
       "      <th></th>\n",
       "      <th>Depth</th>\n",
       "      <th>User</th>\n",
       "      <th>Flair</th>\n",
       "      <th>Score</th>\n",
       "      <th>Body</th>\n",
       "    </tr>\n",
       "    <tr>\n",
       "      <th>ID</th>\n",
       "      <th></th>\n",
       "      <th></th>\n",
       "      <th></th>\n",
       "      <th></th>\n",
       "      <th></th>\n",
       "    </tr>\n",
       "  </thead>\n",
       "  <tbody>\n",
       "    <tr>\n",
       "      <th>t1_d845n7j</th>\n",
       "      <td>0</td>\n",
       "      <td>MGPA</td>\n",
       "      <td>NO FLAIR</td>\n",
       "      <td>85</td>\n",
       "      <td>&gt; I don't get it. He won  not matter how many ...</td>\n",
       "    </tr>\n",
       "    <tr>\n",
       "      <th>t1_d849ie1</th>\n",
       "      <td>0</td>\n",
       "      <td>Equipoisonous</td>\n",
       "      <td>Non-Trump Supporter</td>\n",
       "      <td>23</td>\n",
       "      <td>&gt; Hillary tried to come back at Donald about w...</td>\n",
       "    </tr>\n",
       "    <tr>\n",
       "      <th>t1_d84dafu</th>\n",
       "      <td>0</td>\n",
       "      <td>dyskgo</td>\n",
       "      <td>NO FLAIR</td>\n",
       "      <td>22</td>\n",
       "      <td>I think the best example of his lack of prepar...</td>\n",
       "    </tr>\n",
       "    <tr>\n",
       "      <th>t1_d84beym</th>\n",
       "      <td>0</td>\n",
       "      <td>LairdAvocado</td>\n",
       "      <td>Nonsupporter</td>\n",
       "      <td>8</td>\n",
       "      <td>No.</td>\n",
       "    </tr>\n",
       "    <tr>\n",
       "      <th>t1_d849ai0</th>\n",
       "      <td>0</td>\n",
       "      <td>Johnny_Swiftlove</td>\n",
       "      <td>NO FLAIR</td>\n",
       "      <td>10</td>\n",
       "      <td>I posted this elsewhere in the sub but here go...</td>\n",
       "    </tr>\n",
       "  </tbody>\n",
       "</table>\n",
       "</div>"
      ],
      "text/plain": [
       "            Depth              User                Flair  Score  \\\n",
       "ID                                                                \n",
       "t1_d845n7j      0              MGPA             NO FLAIR     85   \n",
       "t1_d849ie1      0     Equipoisonous  Non-Trump Supporter     23   \n",
       "t1_d84dafu      0            dyskgo             NO FLAIR     22   \n",
       "t1_d84beym      0      LairdAvocado        Nonsupporter       8   \n",
       "t1_d849ai0      0  Johnny_Swiftlove             NO FLAIR     10   \n",
       "\n",
       "                                                         Body  \n",
       "ID                                                             \n",
       "t1_d845n7j  > I don't get it. He won  not matter how many ...  \n",
       "t1_d849ie1  > Hillary tried to come back at Donald about w...  \n",
       "t1_d84dafu  I think the best example of his lack of prepar...  \n",
       "t1_d84beym                                                No.  \n",
       "t1_d849ai0  I posted this elsewhere in the sub but here go...  "
      ]
     },
     "execution_count": 25,
     "metadata": {},
     "output_type": "execute_result"
    }
   ],
   "source": [
    "df.head()"
   ]
  },
  {
   "cell_type": "code",
   "execution_count": 35,
   "metadata": {},
   "outputs": [
    {
     "data": {
      "text/html": [
       "<div>\n",
       "<style scoped>\n",
       "    .dataframe tbody tr th:only-of-type {\n",
       "        vertical-align: middle;\n",
       "    }\n",
       "\n",
       "    .dataframe tbody tr th {\n",
       "        vertical-align: top;\n",
       "    }\n",
       "\n",
       "    .dataframe thead th {\n",
       "        text-align: right;\n",
       "    }\n",
       "</style>\n",
       "<table border=\"1\" class=\"dataframe\">\n",
       "  <thead>\n",
       "    <tr style=\"text-align: right;\">\n",
       "      <th></th>\n",
       "      <th>Depth</th>\n",
       "      <th>User</th>\n",
       "      <th>Flair</th>\n",
       "      <th>Score</th>\n",
       "      <th>Body</th>\n",
       "    </tr>\n",
       "    <tr>\n",
       "      <th>ID</th>\n",
       "      <th></th>\n",
       "      <th></th>\n",
       "      <th></th>\n",
       "      <th></th>\n",
       "      <th></th>\n",
       "    </tr>\n",
       "  </thead>\n",
       "  <tbody>\n",
       "    <tr>\n",
       "      <th>t1_d846dp1</th>\n",
       "      <td>1</td>\n",
       "      <td>oldie101</td>\n",
       "      <td>Nimble Navigator</td>\n",
       "      <td>-17</td>\n",
       "      <td>&gt; It's not the 'media narrative' if r/conserva...</td>\n",
       "    </tr>\n",
       "    <tr>\n",
       "      <th>t1_d84kxm6</th>\n",
       "      <td>1</td>\n",
       "      <td>oldie101</td>\n",
       "      <td>Nimble Navigator</td>\n",
       "      <td>-4</td>\n",
       "      <td>Hillary is the one that allows rich people to ...</td>\n",
       "    </tr>\n",
       "    <tr>\n",
       "      <th>t1_d84a30z</th>\n",
       "      <td>1</td>\n",
       "      <td>oldie101</td>\n",
       "      <td>Nimble Navigator</td>\n",
       "      <td>-3</td>\n",
       "      <td>&gt; How can you say that it's smart for him to n...</td>\n",
       "    </tr>\n",
       "    <tr>\n",
       "      <th>t1_d846mh4</th>\n",
       "      <td>1</td>\n",
       "      <td>oldie101</td>\n",
       "      <td>Nimble Navigator</td>\n",
       "      <td>-2</td>\n",
       "      <td>&gt; I appreciate the thorough analysis  but you ...</td>\n",
       "    </tr>\n",
       "    <tr>\n",
       "      <th>t1_d846zkz</th>\n",
       "      <td>1</td>\n",
       "      <td>oldie101</td>\n",
       "      <td>Nimble Navigator</td>\n",
       "      <td>-1</td>\n",
       "      <td>The reason I say it was a win is because I fel...</td>\n",
       "    </tr>\n",
       "  </tbody>\n",
       "</table>\n",
       "</div>"
      ],
      "text/plain": [
       "            Depth      User             Flair  Score  \\\n",
       "ID                                                     \n",
       "t1_d846dp1      1  oldie101  Nimble Navigator    -17   \n",
       "t1_d84kxm6      1  oldie101  Nimble Navigator     -4   \n",
       "t1_d84a30z      1  oldie101  Nimble Navigator     -3   \n",
       "t1_d846mh4      1  oldie101  Nimble Navigator     -2   \n",
       "t1_d846zkz      1  oldie101  Nimble Navigator     -1   \n",
       "\n",
       "                                                         Body  \n",
       "ID                                                             \n",
       "t1_d846dp1  > It's not the 'media narrative' if r/conserva...  \n",
       "t1_d84kxm6  Hillary is the one that allows rich people to ...  \n",
       "t1_d84a30z  > How can you say that it's smart for him to n...  \n",
       "t1_d846mh4  > I appreciate the thorough analysis  but you ...  \n",
       "t1_d846zkz  The reason I say it was a win is because I fel...  "
      ]
     },
     "execution_count": 35,
     "metadata": {},
     "output_type": "execute_result"
    }
   ],
   "source": [
    "df.loc[df['Depth'] == 1].sort_values('Score').head()"
   ]
  },
  {
   "cell_type": "markdown",
   "metadata": {},
   "source": [
    "## Plot Depth/Score"
   ]
  },
  {
   "cell_type": "code",
   "execution_count": 36,
   "metadata": {},
   "outputs": [
    {
     "data": {
      "text/plain": [
       "<matplotlib.axes._subplots.AxesSubplot at 0x7f218dc015f8>"
      ]
     },
     "execution_count": 36,
     "metadata": {},
     "output_type": "execute_result"
    }
   ],
   "source": [
    "df.plot(x='Depth', y='Score', kind='scatter', figsize=(15,10))"
   ]
  },
  {
   "cell_type": "markdown",
   "metadata": {},
   "source": [
    "### Groupby Flair"
   ]
  },
  {
   "cell_type": "code",
   "execution_count": 37,
   "metadata": {},
   "outputs": [],
   "source": [
    "df['First Flair'] = df.apply(lambda x: x['Flair'].split(' / ')[0], axis=1)\n",
    "#df['Second Flair'] = df.apply(lambda x: x['Flair'].split(' / ')[1], axis=1)"
   ]
  },
  {
   "cell_type": "code",
   "execution_count": 38,
   "metadata": {},
   "outputs": [],
   "source": [
    "grouped_by_flair = df.groupby('First Flair')"
   ]
  },
  {
   "cell_type": "code",
   "execution_count": 39,
   "metadata": {},
   "outputs": [],
   "source": [
    "average_score = grouped_by_flair.aggregate(np.average).sort_values('Score')"
   ]
  },
  {
   "cell_type": "code",
   "execution_count": 47,
   "metadata": {},
   "outputs": [
    {
     "data": {
      "text/plain": [
       "<matplotlib.axes._subplots.AxesSubplot at 0x7f218961bcf8>"
      ]
     },
     "execution_count": 47,
     "metadata": {},
     "output_type": "execute_result"
    },
    {
     "data": {
      "image/png": "[encoded data removed]",
      "text/plain": [
       "<Figure size 1440x360 with 1 Axes>"
      ]
     },
     "metadata": {},
     "output_type": "display_data"
    }
   ],
   "source": [
    "average_score.loc[average_score['Score'] < 10].plot(y='Score', kind='bar',figsize=(20,5))"
   ]
  },
  {
   "cell_type": "code",
   "execution_count": 45,
   "metadata": {},
   "outputs": [
    {
     "data": {
      "text/plain": [
       "<matplotlib.axes._subplots.AxesSubplot at 0x7f21896e85c0>"
      ]
     },
     "execution_count": 45,
     "metadata": {},
     "output_type": "execute_result"
    },
    {
     "data": {
      "image/png": "[encoded data removed]",
      "text/plain": [
       "<Figure size 1440x360 with 1 Axes>"
      ]
     },
     "metadata": {},
     "output_type": "display_data"
    }
   ],
   "source": [
    "average_score.loc[average_score['Score']< 3].plot(y='Score', kind='bar',figsize=(20,5))"
   ]
  },
  {
   "cell_type": "code",
   "execution_count": null,
   "metadata": {},
   "outputs": [],
   "source": []
  }
 ],
 "metadata": {
  "kernelspec": {
   "display_name": "Python 3",
   "language": "python",
   "name": "python3"
  },
  "language_info": {
   "codemirror_mode": {
    "name": "ipython",
    "version": 3
   },
   "file_extension": ".py",
   "mimetype": "text/x-python",
   "name": "python",
   "nbconvert_exporter": "python",
   "pygments_lexer": "ipython3",
   "version": "3.6.5"
  }
 },
 "nbformat": 4,
 "nbformat_minor": 2
}
