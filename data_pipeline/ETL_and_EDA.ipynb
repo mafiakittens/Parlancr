{
 "cells": [
  {
   "cell_type": "code",
   "execution_count": null,
   "metadata": {},
   "outputs": [],
   "source": []
  },
  {
   "cell_type": "code",
   "execution_count": 1,
   "metadata": {},
   "outputs": [],
   "source": [
    "# importing libraries for data loading and visualization\n",
    "\n",
    "import pandas as pd\n",
    "import numpy as np\n",
    "import matplotlib.pyplot as plt\n",
    "import glob as glob\n",
    "import pickle as pickle\n",
    "from nltk.tokenize import sent_tokenize, word_tokenize\n"
   ]
  },
  {
   "cell_type": "code",
   "execution_count": 2,
   "metadata": {},
   "outputs": [],
   "source": [
    "# Function to aggregate all of the comments for a given subreddit(s)\n",
    "\n",
    "# Data location example: reddit data for March 2018 downloaded to ~/parlancr/data/reddit/2018_03/\n",
    "# File names: reddit_2018_03000000000000.csv - reddit_2018_03000000000047.csv\n",
    "\n",
    "def export_subreddits(subs):\n",
    "    \n",
    "    selected_subreddits = pd.DataFrame()\n",
    "    file_stem = './data/reddit/*/reddit_*.csv'\n",
    "    \n",
    "    for f in sorted(glob.glob(file_stem)):\n",
    "        \n",
    "        print('Loading comments from: ', f)\n",
    "        partition_comments = pd.read_csv(f)\n",
    "        selected_subreddits = selected_subreddits.append(partition_comments[partition_comments['subreddit'].isin(subs)], ignore_index = True)\n",
    "        \n",
    "    return selected_subreddits\n"
   ]
  },
  {
   "cell_type": "code",
   "execution_count": null,
   "metadata": {
    "scrolled": true
   },
   "outputs": [],
   "source": [
    "# Create data frame with all of the selected subreddit's (r/teenagers and r/The_Donald) comments\n",
    "# Store the filtered data frame as a pickle / .pkl file for later EDA\n",
    "\n",
    "reddit_data = export_subreddits(subs = ['teenagers','The_Donald'])\n",
    "\n",
    "print(reddit_data['subreddit'].value_counts())\n",
    "\n",
    "reddit_data.to_pickle('./data/reddit/subsets/reddit_data_all-teenagers-The_Donald.pkl')\n"
   ]
  },
  {
   "cell_type": "code",
   "execution_count": 3,
   "metadata": {},
   "outputs": [
    {
     "name": "stdout",
     "output_type": "stream",
     "text": [
      "Loading comments from:  ./data/reddit/2017_10/reddit_2017_10000000000000.csv\n",
      "Loading comments from:  ./data/reddit/2017_10/reddit_2017_10000000000001.csv\n",
      "Loading comments from:  ./data/reddit/2017_10/reddit_2017_10000000000002.csv\n",
      "Loading comments from:  ./data/reddit/2017_10/reddit_2017_10000000000003.csv\n",
      "Loading comments from:  ./data/reddit/2017_10/reddit_2017_10000000000004.csv\n",
      "Loading comments from:  ./data/reddit/2017_10/reddit_2017_10000000000005.csv\n",
      "Loading comments from:  ./data/reddit/2017_10/reddit_2017_10000000000006.csv\n",
      "Loading comments from:  ./data/reddit/2017_10/reddit_2017_10000000000007.csv\n",
      "Loading comments from:  ./data/reddit/2017_10/reddit_2017_10000000000008.csv\n",
      "Loading comments from:  ./data/reddit/2017_10/reddit_2017_10000000000009.csv\n",
      "Loading comments from:  ./data/reddit/2017_10/reddit_2017_10000000000010.csv\n",
      "Loading comments from:  ./data/reddit/2017_10/reddit_2017_10000000000011.csv\n",
      "Loading comments from:  ./data/reddit/2017_10/reddit_2017_10000000000012.csv\n",
      "Loading comments from:  ./data/reddit/2017_10/reddit_2017_10000000000013.csv\n",
      "Loading comments from:  ./data/reddit/2017_10/reddit_2017_10000000000014.csv\n",
      "Loading comments from:  ./data/reddit/2017_10/reddit_2017_10000000000015.csv\n",
      "Loading comments from:  ./data/reddit/2017_10/reddit_2017_10000000000016.csv\n",
      "Loading comments from:  ./data/reddit/2017_10/reddit_2017_10000000000017.csv\n",
      "Loading comments from:  ./data/reddit/2017_10/reddit_2017_10000000000018.csv\n",
      "Loading comments from:  ./data/reddit/2017_10/reddit_2017_10000000000019.csv\n",
      "Loading comments from:  ./data/reddit/2017_10/reddit_2017_10000000000020.csv\n",
      "Loading comments from:  ./data/reddit/2017_10/reddit_2017_10000000000021.csv\n",
      "Loading comments from:  ./data/reddit/2017_10/reddit_2017_10000000000022.csv\n",
      "Loading comments from:  ./data/reddit/2017_10/reddit_2017_10000000000023.csv\n",
      "Loading comments from:  ./data/reddit/2017_10/reddit_2017_10000000000025.csv\n",
      "Loading comments from:  ./data/reddit/2017_10/reddit_2017_10000000000026.csv\n",
      "Loading comments from:  ./data/reddit/2017_10/reddit_2017_10000000000027.csv\n",
      "Loading comments from:  ./data/reddit/2017_10/reddit_2017_10000000000028.csv\n",
      "Loading comments from:  ./data/reddit/2017_10/reddit_2017_10000000000029.csv\n",
      "Loading comments from:  ./data/reddit/2017_10/reddit_2017_10000000000030.csv\n",
      "Loading comments from:  ./data/reddit/2017_11/reddit_2017_11000000000000.csv\n",
      "Loading comments from:  ./data/reddit/2017_11/reddit_2017_11000000000001.csv\n",
      "Loading comments from:  ./data/reddit/2017_11/reddit_2017_11000000000002.csv\n",
      "Loading comments from:  ./data/reddit/2017_11/reddit_2017_11000000000003.csv\n",
      "Loading comments from:  ./data/reddit/2017_11/reddit_2017_11000000000004.csv\n",
      "Loading comments from:  ./data/reddit/2017_11/reddit_2017_11000000000005.csv\n",
      "Loading comments from:  ./data/reddit/2017_11/reddit_2017_11000000000006.csv\n",
      "Loading comments from:  ./data/reddit/2017_11/reddit_2017_11000000000007.csv\n",
      "Loading comments from:  ./data/reddit/2017_11/reddit_2017_11000000000008.csv\n",
      "Loading comments from:  ./data/reddit/2017_11/reddit_2017_11000000000009.csv\n",
      "Loading comments from:  ./data/reddit/2017_11/reddit_2017_11000000000010.csv\n",
      "Loading comments from:  ./data/reddit/2017_11/reddit_2017_11000000000011.csv\n",
      "Loading comments from:  ./data/reddit/2017_11/reddit_2017_11000000000012.csv\n",
      "Loading comments from:  ./data/reddit/2017_11/reddit_2017_11000000000013.csv\n",
      "Loading comments from:  ./data/reddit/2017_11/reddit_2017_11000000000014.csv\n",
      "Loading comments from:  ./data/reddit/2017_11/reddit_2017_11000000000015.csv\n",
      "Loading comments from:  ./data/reddit/2017_11/reddit_2017_11000000000016.csv\n",
      "Loading comments from:  ./data/reddit/2017_11/reddit_2017_11000000000017.csv\n",
      "Loading comments from:  ./data/reddit/2017_11/reddit_2017_11000000000018.csv\n",
      "Loading comments from:  ./data/reddit/2017_11/reddit_2017_11000000000019.csv\n",
      "Loading comments from:  ./data/reddit/2017_11/reddit_2017_11000000000020.csv\n",
      "Loading comments from:  ./data/reddit/2017_11/reddit_2017_11000000000021.csv\n",
      "Loading comments from:  ./data/reddit/2017_11/reddit_2017_11000000000022.csv\n",
      "Loading comments from:  ./data/reddit/2017_11/reddit_2017_11000000000023.csv\n",
      "Loading comments from:  ./data/reddit/2017_11/reddit_2017_11000000000024.csv\n",
      "Loading comments from:  ./data/reddit/2017_11/reddit_2017_11000000000025.csv\n",
      "Loading comments from:  ./data/reddit/2017_11/reddit_2017_11000000000026.csv\n",
      "Loading comments from:  ./data/reddit/2017_11/reddit_2017_11000000000027.csv\n",
      "Loading comments from:  ./data/reddit/2017_11/reddit_2017_11000000000028.csv\n",
      "Loading comments from:  ./data/reddit/2017_11/reddit_2017_11000000000029.csv\n",
      "Loading comments from:  ./data/reddit/2017_12/reddit_2017_12000000000000.csv\n",
      "Loading comments from:  ./data/reddit/2017_12/reddit_2017_12000000000001.csv\n",
      "Loading comments from:  ./data/reddit/2017_12/reddit_2017_12000000000002.csv\n",
      "Loading comments from:  ./data/reddit/2017_12/reddit_2017_12000000000003.csv\n",
      "Loading comments from:  ./data/reddit/2017_12/reddit_2017_12000000000004.csv\n",
      "Loading comments from:  ./data/reddit/2017_12/reddit_2017_12000000000005.csv\n",
      "Loading comments from:  ./data/reddit/2017_12/reddit_2017_12000000000006.csv\n",
      "Loading comments from:  ./data/reddit/2017_12/reddit_2017_12000000000007.csv\n",
      "Loading comments from:  ./data/reddit/2017_12/reddit_2017_12000000000008.csv\n",
      "Loading comments from:  ./data/reddit/2017_12/reddit_2017_12000000000009.csv\n",
      "Loading comments from:  ./data/reddit/2017_12/reddit_2017_12000000000010.csv\n",
      "Loading comments from:  ./data/reddit/2017_12/reddit_2017_12000000000011.csv\n",
      "Loading comments from:  ./data/reddit/2017_12/reddit_2017_12000000000012.csv\n",
      "Loading comments from:  ./data/reddit/2017_12/reddit_2017_12000000000013.csv\n",
      "Loading comments from:  ./data/reddit/2017_12/reddit_2017_12000000000014.csv\n",
      "Loading comments from:  ./data/reddit/2017_12/reddit_2017_12000000000015.csv\n",
      "Loading comments from:  ./data/reddit/2017_12/reddit_2017_12000000000016.csv\n",
      "Loading comments from:  ./data/reddit/2017_12/reddit_2017_12000000000017.csv\n",
      "Loading comments from:  ./data/reddit/2017_12/reddit_2017_12000000000018.csv\n",
      "Loading comments from:  ./data/reddit/2017_12/reddit_2017_12000000000019.csv\n",
      "Loading comments from:  ./data/reddit/2017_12/reddit_2017_12000000000020.csv\n",
      "Loading comments from:  ./data/reddit/2017_12/reddit_2017_12000000000021.csv\n",
      "Loading comments from:  ./data/reddit/2017_12/reddit_2017_12000000000022.csv\n",
      "Loading comments from:  ./data/reddit/2017_12/reddit_2017_12000000000023.csv\n",
      "Loading comments from:  ./data/reddit/2017_12/reddit_2017_12000000000024.csv\n",
      "Loading comments from:  ./data/reddit/2017_12/reddit_2017_12000000000025.csv\n",
      "Loading comments from:  ./data/reddit/2017_12/reddit_2017_12000000000026.csv\n",
      "Loading comments from:  ./data/reddit/2017_12/reddit_2017_12000000000027.csv\n",
      "Loading comments from:  ./data/reddit/2017_12/reddit_2017_12000000000028.csv\n",
      "Loading comments from:  ./data/reddit/2017_12/reddit_2017_12000000000029.csv\n",
      "Loading comments from:  ./data/reddit/2017_12/reddit_2017_12000000000030.csv\n",
      "Loading comments from:  ./data/reddit/2018_01/reddit_2018_01000000000000.csv\n",
      "Loading comments from:  ./data/reddit/2018_01/reddit_2018_01000000000001.csv\n",
      "Loading comments from:  ./data/reddit/2018_01/reddit_2018_01000000000002.csv\n",
      "Loading comments from:  ./data/reddit/2018_01/reddit_2018_01000000000003.csv\n",
      "Loading comments from:  ./data/reddit/2018_01/reddit_2018_01000000000004.csv\n",
      "Loading comments from:  ./data/reddit/2018_01/reddit_2018_01000000000005.csv\n",
      "Loading comments from:  ./data/reddit/2018_01/reddit_2018_01000000000006.csv\n",
      "Loading comments from:  ./data/reddit/2018_01/reddit_2018_01000000000007.csv\n",
      "Loading comments from:  ./data/reddit/2018_01/reddit_2018_01000000000008.csv\n",
      "Loading comments from:  ./data/reddit/2018_01/reddit_2018_01000000000009.csv\n",
      "Loading comments from:  ./data/reddit/2018_01/reddit_2018_01000000000010.csv\n",
      "Loading comments from:  ./data/reddit/2018_01/reddit_2018_01000000000011.csv\n",
      "Loading comments from:  ./data/reddit/2018_01/reddit_2018_01000000000012.csv\n",
      "Loading comments from:  ./data/reddit/2018_01/reddit_2018_01000000000013.csv\n",
      "Loading comments from:  ./data/reddit/2018_01/reddit_2018_01000000000014.csv\n",
      "Loading comments from:  ./data/reddit/2018_01/reddit_2018_01000000000015.csv\n"
     ]
    },
    {
     "name": "stdout",
     "output_type": "stream",
     "text": [
      "Loading comments from:  ./data/reddit/2018_01/reddit_2018_01000000000016.csv\n",
      "Loading comments from:  ./data/reddit/2018_01/reddit_2018_01000000000017.csv\n",
      "Loading comments from:  ./data/reddit/2018_01/reddit_2018_01000000000018.csv\n",
      "Loading comments from:  ./data/reddit/2018_01/reddit_2018_01000000000019.csv\n",
      "Loading comments from:  ./data/reddit/2018_01/reddit_2018_01000000000020.csv\n",
      "Loading comments from:  ./data/reddit/2018_01/reddit_2018_01000000000021.csv\n",
      "Loading comments from:  ./data/reddit/2018_01/reddit_2018_01000000000022.csv\n",
      "Loading comments from:  ./data/reddit/2018_01/reddit_2018_01000000000023.csv\n",
      "Loading comments from:  ./data/reddit/2018_01/reddit_2018_01000000000024.csv\n",
      "Loading comments from:  ./data/reddit/2018_01/reddit_2018_01000000000025.csv\n",
      "Loading comments from:  ./data/reddit/2018_01/reddit_2018_01000000000026.csv\n",
      "Loading comments from:  ./data/reddit/2018_01/reddit_2018_01000000000027.csv\n",
      "Loading comments from:  ./data/reddit/2018_01/reddit_2018_01000000000028.csv\n",
      "Loading comments from:  ./data/reddit/2018_01/reddit_2018_01000000000029.csv\n",
      "Loading comments from:  ./data/reddit/2018_01/reddit_2018_01000000000030.csv\n",
      "Loading comments from:  ./data/reddit/2018_02/reddit_2018_02000000000000.csv\n",
      "Loading comments from:  ./data/reddit/2018_02/reddit_2018_02000000000001.csv\n",
      "Loading comments from:  ./data/reddit/2018_02/reddit_2018_02000000000002.csv\n",
      "Loading comments from:  ./data/reddit/2018_02/reddit_2018_02000000000003.csv\n",
      "Loading comments from:  ./data/reddit/2018_02/reddit_2018_02000000000004.csv\n",
      "Loading comments from:  ./data/reddit/2018_02/reddit_2018_02000000000005.csv\n",
      "Loading comments from:  ./data/reddit/2018_02/reddit_2018_02000000000006.csv\n",
      "Loading comments from:  ./data/reddit/2018_02/reddit_2018_02000000000007.csv\n",
      "Loading comments from:  ./data/reddit/2018_02/reddit_2018_02000000000008.csv\n",
      "Loading comments from:  ./data/reddit/2018_02/reddit_2018_02000000000009.csv\n",
      "Loading comments from:  ./data/reddit/2018_02/reddit_2018_02000000000010.csv\n",
      "Loading comments from:  ./data/reddit/2018_02/reddit_2018_02000000000011.csv\n",
      "Loading comments from:  ./data/reddit/2018_02/reddit_2018_02000000000012.csv\n",
      "Loading comments from:  ./data/reddit/2018_02/reddit_2018_02000000000013.csv\n",
      "Loading comments from:  ./data/reddit/2018_02/reddit_2018_02000000000014.csv\n",
      "Loading comments from:  ./data/reddit/2018_02/reddit_2018_02000000000015.csv\n",
      "Loading comments from:  ./data/reddit/2018_02/reddit_2018_02000000000016.csv\n",
      "Loading comments from:  ./data/reddit/2018_02/reddit_2018_02000000000017.csv\n",
      "Loading comments from:  ./data/reddit/2018_02/reddit_2018_02000000000018.csv\n",
      "Loading comments from:  ./data/reddit/2018_02/reddit_2018_02000000000019.csv\n",
      "Loading comments from:  ./data/reddit/2018_02/reddit_2018_02000000000020.csv\n",
      "Loading comments from:  ./data/reddit/2018_02/reddit_2018_02000000000021.csv\n",
      "Loading comments from:  ./data/reddit/2018_02/reddit_2018_02000000000022.csv\n",
      "Loading comments from:  ./data/reddit/2018_02/reddit_2018_02000000000023.csv\n",
      "Loading comments from:  ./data/reddit/2018_02/reddit_2018_02000000000024.csv\n",
      "Loading comments from:  ./data/reddit/2018_02/reddit_2018_02000000000025.csv\n",
      "Loading comments from:  ./data/reddit/2018_02/reddit_2018_02000000000026.csv\n",
      "Loading comments from:  ./data/reddit/2018_02/reddit_2018_02000000000027.csv\n",
      "Loading comments from:  ./data/reddit/2018_03/reddit_2018_03000000000000.csv\n",
      "Loading comments from:  ./data/reddit/2018_03/reddit_2018_03000000000001.csv\n",
      "Loading comments from:  ./data/reddit/2018_03/reddit_2018_03000000000002.csv\n",
      "Loading comments from:  ./data/reddit/2018_03/reddit_2018_03000000000003.csv\n",
      "Loading comments from:  ./data/reddit/2018_03/reddit_2018_03000000000004.csv\n",
      "Loading comments from:  ./data/reddit/2018_03/reddit_2018_03000000000005.csv\n",
      "Loading comments from:  ./data/reddit/2018_03/reddit_2018_03000000000006.csv\n",
      "Loading comments from:  ./data/reddit/2018_03/reddit_2018_03000000000007.csv\n",
      "Loading comments from:  ./data/reddit/2018_03/reddit_2018_03000000000008.csv\n",
      "Loading comments from:  ./data/reddit/2018_03/reddit_2018_03000000000009.csv\n",
      "Loading comments from:  ./data/reddit/2018_03/reddit_2018_03000000000010.csv\n",
      "Loading comments from:  ./data/reddit/2018_03/reddit_2018_03000000000011.csv\n",
      "Loading comments from:  ./data/reddit/2018_03/reddit_2018_03000000000012.csv\n",
      "Loading comments from:  ./data/reddit/2018_03/reddit_2018_03000000000013.csv\n",
      "Loading comments from:  ./data/reddit/2018_03/reddit_2018_03000000000014.csv\n",
      "Loading comments from:  ./data/reddit/2018_03/reddit_2018_03000000000015.csv\n",
      "Loading comments from:  ./data/reddit/2018_03/reddit_2018_03000000000016.csv\n",
      "Loading comments from:  ./data/reddit/2018_03/reddit_2018_03000000000017.csv\n",
      "Loading comments from:  ./data/reddit/2018_03/reddit_2018_03000000000018.csv\n",
      "Loading comments from:  ./data/reddit/2018_03/reddit_2018_03000000000019.csv\n",
      "Loading comments from:  ./data/reddit/2018_03/reddit_2018_03000000000020.csv\n",
      "Loading comments from:  ./data/reddit/2018_03/reddit_2018_03000000000021.csv\n",
      "Loading comments from:  ./data/reddit/2018_03/reddit_2018_03000000000024.csv\n",
      "Loading comments from:  ./data/reddit/2018_03/reddit_2018_03000000000025.csv\n",
      "Loading comments from:  ./data/reddit/2018_03/reddit_2018_03000000000026.csv\n",
      "Loading comments from:  ./data/reddit/2018_03/reddit_2018_03000000000027.csv\n",
      "Loading comments from:  ./data/reddit/2018_03/reddit_2018_03000000000028.csv\n",
      "Loading comments from:  ./data/reddit/2018_03/reddit_2018_03000000000029.csv\n",
      "Loading comments from:  ./data/reddit/2018_03/reddit_2018_03000000000030.csv\n",
      "Loading comments from:  ./data/reddit/2018_03/reddit_2018_03000000000031.csv\n",
      "Loading comments from:  ./data/reddit/2018_03/reddit_2018_03000000000032.csv\n",
      "Loading comments from:  ./data/reddit/2018_03/reddit_2018_03000000000033.csv\n",
      "Loading comments from:  ./data/reddit/2018_03/reddit_2018_03000000000034.csv\n",
      "Loading comments from:  ./data/reddit/2018_03/reddit_2018_03000000000035.csv\n",
      "Loading comments from:  ./data/reddit/2018_03/reddit_2018_03000000000036.csv\n",
      "Loading comments from:  ./data/reddit/2018_03/reddit_2018_03000000000037.csv\n",
      "Loading comments from:  ./data/reddit/2018_03/reddit_2018_03000000000038.csv\n",
      "Loading comments from:  ./data/reddit/2018_03/reddit_2018_03000000000039.csv\n",
      "Loading comments from:  ./data/reddit/2018_03/reddit_2018_03000000000040.csv\n",
      "Loading comments from:  ./data/reddit/2018_03/reddit_2018_03000000000041.csv\n",
      "Loading comments from:  ./data/reddit/2018_03/reddit_2018_03000000000042.csv\n",
      "Loading comments from:  ./data/reddit/2018_03/reddit_2018_03000000000043.csv\n",
      "Loading comments from:  ./data/reddit/2018_03/reddit_2018_03000000000044.csv\n",
      "Loading comments from:  ./data/reddit/2018_03/reddit_2018_03000000000045.csv\n",
      "Loading comments from:  ./data/reddit/2018_03/reddit_2018_03000000000046.csv\n",
      "Loading comments from:  ./data/reddit/2018_03/reddit_2018_03000000000047.csv\n",
      "Loading comments from:  ./data/reddit/2018_03/reddit_2018_03000000000048.csv\n",
      "Loading comments from:  ./data/reddit/2018_03/reddit_2018_03000000000049.csv\n",
      "news            5070571\n",
      "worldnews       4627125\n",
      "Conservative     322566\n",
      "democrats         41393\n",
      "Republican        17846\n",
      "Liberal           15876\n",
      "Name: subreddit, dtype: int64\n"
     ]
    }
   ],
   "source": [
    "# Create data frame with all of the selected subreddit's comments\n",
    "# Store the filtered data frame as a pickle / .pkl file for later EDA\n",
    "\n",
    "reddit_data = export_subreddits(subs = ['Republican','democrats','Conservative','Liberal','worldnews','news'])\n",
    "\n",
    "print(reddit_data['subreddit'].value_counts())\n",
    "\n",
    "reddit_data.to_pickle('./data/reddit/subsets/reddit_data_all-political.pkl')"
   ]
  },
  {
   "cell_type": "code",
   "execution_count": null,
   "metadata": {},
   "outputs": [],
   "source": [
    "# Load trump tweet data from csv file and create data frame\n",
    "# Store the data frame as a pickle / .pkl file for later EDA\n",
    "\n",
    "trump_tweet_data = pd.read_csv('./data/twitter/trump_tweets/tweets.csv')\n",
    "\n",
    "trump_tweet_data.to_pickle('./data/twitter/trump_tweets/trump_tweet_data.pkl')\n"
   ]
  },
  {
   "cell_type": "code",
   "execution_count": 2,
   "metadata": {},
   "outputs": [],
   "source": [
    "# Load pickled data frames\n",
    "\n",
    "reddit_all = pd.read_pickle('./data/reddit/subsets/reddit_data_all-teenagers-The_Donald.pkl')\n",
    "\n",
    "twitter_trump = pd.read_pickle('./data/twitter/trump_tweets/trump_tweet_data.pkl')\n"
   ]
  },
  {
   "cell_type": "code",
   "execution_count": 3,
   "metadata": {},
   "outputs": [],
   "source": [
    "# Filtering r/teenagers data to include only flared author's comments and loading The_Donald\n",
    "\n",
    "reddit_teenagers_all = reddit_all[reddit_all['subreddit'].isin(['teenagers'])]\n",
    "\n",
    "reddit_teenagers_filtered = reddit_teenagers_all[reddit_teenagers_all['author_flair_text'].str.match('1\\d', na=False)]\n",
    "\n",
    "reddit_theDonald = reddit_all[reddit_all['subreddit'].isin(['The_Donald'])]\n"
   ]
  },
  {
   "cell_type": "code",
   "execution_count": 4,
   "metadata": {},
   "outputs": [
    {
     "name": "stdout",
     "output_type": "stream",
     "text": [
      "r/teenagers (with flair filter): 1432570 comments\n",
      "r/The_Donald: 5679672 comments\n",
      "Trump Tweets: 30876 tweets\n"
     ]
    },
    {
     "data": {
      "image/png": "[encoded data removed]",
      "text/plain": [
       "<Figure size 432x288 with 1 Axes>"
      ]
     },
     "metadata": {},
     "output_type": "display_data"
    },
    {
     "data": {
      "image/png": "[encoded data removed]",
      "text/plain": [
       "<Figure size 432x288 with 1 Axes>"
      ]
     },
     "metadata": {},
     "output_type": "display_data"
    },
    {
     "data": {
      "image/png": "[encoded data removed]",
      "text/plain": [
       "<Figure size 432x288 with 1 Axes>"
      ]
     },
     "metadata": {},
     "output_type": "display_data"
    },
    {
     "name": "stdout",
     "output_type": "stream",
     "text": [
      "r/teenagers (with flair filter): 686192 comments between 5 - 50 words\n",
      "r/The_Donald: 3580324 comments between 5 - 50 words\n",
      "Trump Tweets: 28327 tweets between 5 - 50 words\n"
     ]
    }
   ],
   "source": [
    "# Preliminary EDA\n",
    "\n",
    "\n",
    "print('r/teenagers (with flair filter): ' + str(reddit_teenagers_filtered.shape[0]) + ' comments')\n",
    "print('r/The_Donald: ' + str(reddit_theDonald.shape[0]) + ' comments')\n",
    "print('Trump Tweets: ' + str(twitter_trump.shape[0]) + ' tweets')\n",
    "\n",
    "# Histograms of comment word length by source\n",
    "\n",
    "plt.figure()\n",
    "reddit_teenagers_filtered['body'].str.count(' ').plot.hist(color='k', \n",
    "                                                           alpha=0.5, \n",
    "                                                           bins=[0, 5, 10, 20, 25, 50, 75, 100], \n",
    "                                                           xlim = (0,100), \n",
    "                                                           xticks = [0, 5, 10, 20, 25, 50, 75, 100],\n",
    "                                                           title = 'r/teenagers comment word count frequency'\n",
    "                                                          )\n",
    "\n",
    "plt.figure()\n",
    "reddit_theDonald['body'].str.count(' ').plot.hist(color='k', \n",
    "                                                           alpha=0.5, \n",
    "                                                           bins=[0, 5, 10, 20, 25, 50, 75, 100], \n",
    "                                                           xlim = (0,100), \n",
    "                                                           xticks = [0, 5, 10, 20, 25, 50, 75, 100],\n",
    "                                                           title = 'r/The_Donald comment word count frequency'\n",
    "                                                          )\n",
    "\n",
    "plt.figure()\n",
    "twitter_trump['text'].str.count(' ').plot.hist(color='k', \n",
    "                                                           alpha=0.5, \n",
    "                                                           bins=[0, 5, 10, 20, 25, 50, 75, 100], \n",
    "                                                           xlim = (0,100), \n",
    "                                                           xticks = [0, 5, 10, 20, 25, 50, 75, 100],\n",
    "                                                           title = 'Trump tweet word count frequency'\n",
    "                                                          )\n",
    "\n",
    "\n",
    "plt.show()\n",
    "\n",
    "# Count of comments between 5 - 50 words from each source\n",
    "\n",
    "print('r/teenagers (with flair filter): ' + str(reddit_teenagers_filtered[reddit_teenagers_filtered['body'].str.count(' ').between(5,50)].shape[0]) + ' comments between 5 - 50 words')\n",
    "print('r/The_Donald: ' + str(reddit_theDonald[reddit_theDonald['body'].str.count(' ').between(5,50)].shape[0]) + ' comments between 5 - 50 words')\n",
    "print('Trump Tweets: ' + str(twitter_trump[twitter_trump['text'].str.count(' ').between(5,50)].shape[0]) + ' tweets between 5 - 50 words')\n"
   ]
  },
  {
   "cell_type": "code",
   "execution_count": null,
   "metadata": {},
   "outputs": [],
   "source": [
    "# Tokenizing text data to sentences and words and building vocabulary for each source\n",
    "\n",
    "def sent_plus_word_tokenize(series):\n",
    "    \n",
    "    sentences = []\n",
    "    words = []\n",
    "    \n",
    "    for comment in series:\n",
    "        sentences.append(sent_tokenize(comment))\n",
    "    \n",
    "    flat_sentences = [item for sublist in sentences for item in sublist]\n",
    "    \n",
    "    for comment_sentence in flat_sentences:\n",
    "        words.append(word_tokenize(comment_sentence))\n",
    "    \n",
    "    return words\n",
    "        \n",
    "reddit_teenagers_filtered_tokens = sent_plus_word_tokenize(reddit_teenagers_filtered['body'].dropna().values)\n",
    "reddit_theDonald_tokens = sent_plus_word_tokenize(reddit_theDonald['body'].dropna().values)\n",
    "twitter_trump_tokens = sent_plus_word_tokenize(twitter_trump['text'].dropna().values)\n",
    "\n"
   ]
  },
  {
   "cell_type": "code",
   "execution_count": null,
   "metadata": {},
   "outputs": [],
   "source": [
    "# Saving initial tokenized data to pickle files\n",
    "\n",
    "def autoPickle(objectPickle, file_path):\n",
    "    with open(file_path, 'wb') as pickle_file:\n",
    "        pickle.dump(objectPickle, pickle_file)\n",
    "\n",
    "autoPickle(reddit_teenagers_filtered_tokens, './data/model_data/reddit_teenagers_filtered_tokens.pkl')\n",
    "autoPickle(reddit_theDonald_tokens, './data/model_data/reddit_theDonald_tokens.pkl')\n",
    "autoPickle(twitter_trump_tokens, './data/model_data/twitter_trump_tokens.pkl')\n"
   ]
  },
  {
   "cell_type": "code",
   "execution_count": 25,
   "metadata": {},
   "outputs": [],
   "source": [
    "# Loading initial tokenized data from pickle files\n",
    "\n",
    "def loadPickle(file_path):\n",
    "    return pickle.load( open( file_path, \"rb\" ) )\n",
    "\n",
    "reddit_teenagers_filtered_tokens = loadPickle('./data/model_data/reddit_teenagers_filtered_tokens.pkl')\n",
    "reddit_theDonald_tokens = loadPickle('./data/model_data/reddit_theDonald_tokens.pkl')\n",
    "twitter_trump_tokens = loadPickle('./data/model_data/twitter_trump_tokens.pkl')"
   ]
  },
  {
   "cell_type": "code",
   "execution_count": 28,
   "metadata": {},
   "outputs": [],
   "source": [
    "# Take word tokens and turn them into alll-lowercase sentence strings for model input\n",
    "\n",
    "def untokenize_lower(tokens):\n",
    "    \n",
    "    untokenized_sents = []\n",
    "    \n",
    "    for i in tokens:\n",
    "        \n",
    "        sent_string = \" \".join(i)\n",
    "        untokenized_sents.append(sent_string.lower())\n",
    "        \n",
    "    return untokenized_sents\n",
    "\n",
    "reddit_teenagers_filtered_sentences = untokenize_lower(reddit_teenagers_filtered_tokens)\n",
    "reddit_theDonald_sentences = untokenize_lower(reddit_theDonald_tokens)\n",
    "twitter_trump_sentences = untokenize_lower(twitter_trump_tokens)\n"
   ]
  },
  {
   "cell_type": "code",
   "execution_count": 29,
   "metadata": {},
   "outputs": [],
   "source": [
    "# Exporting sentence strings to flat files\n",
    "\n",
    "def listExporter(list_data, file_path):\n",
    "    df = pd.DataFrame({'text':list_data})\n",
    "    df.to_csv(file_path, columns = ['text'], index = False)\n",
    "    \n",
    "listExporter(reddit_teenagers_filtered_sentences, './data/model_data/reddit_teenagers_filtered_sentences.csv')\n",
    "listExporter(reddit_theDonald_sentences, './data/model_data/reddit_theDonald_sentences.csv')\n",
    "listExporter(twitter_trump_sentences, './data/model_data/twitter_trump_sentences.csv')\n"
   ]
  },
  {
   "cell_type": "code",
   "execution_count": 30,
   "metadata": {},
   "outputs": [
    {
     "name": "stdout",
     "output_type": "stream",
     "text": [
      "['mood', 'ayyyyyyy big mouth', 'arrested development', 'i have a feeling you watched jacksfilms new video', 'what the fuck is this comment section', '\\\\ # metoo', 'holy shit are you gatekeeping fucking politics ?', 'you are a loser .', 'well hits like wonderwall and champagne supernova are still played pretty frequently on alternative radio here but i think i only truly got into britpop after falling in love with the soundtrack to the tv series my mad fat diary haha .', \"it 's chock-full of oasis , blur , the stone roses , pulp , etc .\", \"did n't work : /\", 'yea , she died .', 'sorry pal', \"but first you need some good ol ' **pain**\", \"ca n't i make a shitpost in piece ?\", \"ok cause i was thinking to myself `` there 's no way this is legit '' xd\", 'some girl posted a sexy snap on her story and i looked at for like 2 minutes and thought of dirty things', \"you 'd think he would know his 90 year old science teacher by know\", 'sure', 'i kicked a girls pin button down the stairs ha .', 'what ?', 'it was an accident .', 'woah', 'is the teacher hot ?', '100 on my wrist 80 on my wrist 100 on my wrist 80 on my wrist 100 on my wrist 80 on my wrist 100 on my wrist 80 on my wrist', 'what ?', \"it was an accident , it is n't like i reached out to touch her butt .\", 'funny quote here', 'bois *and grils*', 'nah unless u want ur teacher to fuck u then her get fired and go to jail', 'it depends.. can u give more info about the teacher', \"usually i just want to feel their respect and appreciation , but that 's pretty normal too i guess .\", 'yea , if she/he has a crush on the teacher .', 'its really weird though and i advise she/he to not do it', 'yay me too', 'make a gingerbread house together', 'imprisoning me', 'so edge .', '*yay woo', 'heck .', \"planning on taking her to nyc , it 's always nice in the winter if you 're nearby if not maybe the nearest city has seasonal attractions too ?\", 'snowman sex', 'making hot chocolate and having a movie night', 'all that i see ( also it took 28 minutes for someone to get this geez )', 'this sounds great until i remember the fits of rage i have while constructing gingerbread houses', 'whatever gril', 'proactive ?', 'i ’ ve told you 3 times ldrs don ’ t work .', 'repeat after me .', 'ldrs do not work']\n",
      "['my eye', '[ deleted ]', '[ removed ]', 'why did they drop bomb ?', 'is there even more incriminating evidence in their bank records ?', 'if we had a gun problem in this country , there wouldn ’ t be insurance agencies looking to make money off of the odds of a firearm not being used in a situation .', 'i love him .', '“ your faith is childlike and therefore impressive ” i died when he said that', 'wait .', 'north korea is actually the democratic peoples republic of korea .', 'they vote to not have food because eating is a waste of time .', \"he 's busy burying evidence on his buttbuddy shariacrats .\", 'yes , if it shuts them down even a little bit it will have been worth it .', 'that makes a lot of sense .', \"they 'd throw that old bitty under the bus fast as you could blink if it saved their black jesus .\", 'too bad he didn ’ t do this in california .', 'he ’ d probably just get 12 hours of community service .', '# # i shall be telling this with a sigh # # somewhere ages and ages hence : # # two sneks diverged in a wood , and i— # # i deported them , bye-bye , �� # # and that has made all the difference !', \"if we 're doing an office pool , i 'll take the bushes .\", \"do n't forget how dirty they fight .\", 'mccain received the dossier .', 'it had to be a senator or congressman to convey it to the feds .', \"could n't do that with a campaign operative .\", 'how are all of you uneducated , white fucking male , rural and suburban retards always 100 % right about things 6-months before anyone else can figure it out ?', \"especially when it 's the polar opposite of what the media is reporting ?\", '!', 'step 1 : call them trumpkins .', 'pic says otherwise .', 'ymmv', \"i 'm going with misdirection on this one .\", 'clinton/dnc will be attributed to politics as usual , so no big deal .', \"have to watch if the judge makes fusion produce the bank records , that 's where the real gold is buried .\", 'if fusion is allowed to keep their records private , then this story is just a bone thrown to the plebes to get in front of that decision .', '[ removed ]', 'she has shown no intent ... so no prosecutor would take this case ... reeeeeeeeeee', '“ scandal free , ”', 'allegedly he forcibly went down on a woman who was on her period , and told him to stop .', 'https : //pagesix.com/2017/10/24/new-accuser-weinstein-pulled-out-my-tampon-and-forced-oral-sex/', 'guliani has too much dirt and baggage .', 'bring trey gowdy in .', 'now .', '`` good afternoon ladies and gentlemen , and welcome aboard the maiden flight of hill-force one .', 'my name is hillary and i am so pleased to have most of you on board .', \"faa regulations prohibit the use of any cell phones , blackberries , or wireless devices that may be used to transmit a negative story about me . ''\", 'hc', 'but **my toe had a stroke** crutches .', \"probably thinks it 's because he 's a white male\", 'eh , ill still upvote ya since im handing them out', 'liberals are : 1 .', 'pretending this is old news just like crooked hillary is claiming the urainium deal is old news .']\n",
      "['today it was my great honor to welcome president moon jae-in of the republic of korea to the @ whitehouse ! 🇺🇸🇰🇷 https : //t.co/yvoxnia1dm', '.', '@ asahutchinson the great governor of arkansas is in a primary tomorrow .', 'he has done an incredible job with a focus on lower taxes border security and crime prevention .', 'asa loves our military and our veterans .', 'i fully endorse asa for governor !', 'under our potential deal with china they will purchase from our great american farmers practically as much as our farmers can produce .', 'the wall street journal asks “ where in the world was barack obama ? ” a very good question !', '... they then used to start an investigation about trump .', 'it is that simple .', 'this guy is the genesis of this whole debacle .', 'this was a political hit job this was not an intelligence investigation .', 'brennan has disgraced himself he ’ s worried about staying out of jail. ” dan bongino', '... .top of the fbi .', 'brennan started this entire debacle about president trump .', 'we now know that brennan had detailed knowledge of the ( phony ) dossier ... he knows about the dossier he denies knowledge of the dossier he briefs the gang of 8 on the hill about the dossier which ... .', '“ john brennan is panicking .', 'he has disgraced himself he has disgraced the country he has disgraced the entire intelligence community .', 'he is the one man who is largely responsible for the destruction of american ’ s faith in the intelligence community and in some people at the ... .', 'china must continue to be strong & amp ; tight on the border of north korea until a deal is made .', 'the word is that recently the border has become much more porous and more has been filtering in .', 'i want this to happen and north korea to be very successful but only after signing !', 'on china barriers and tariffs to come down for first time .', 'china has agreed to buy massive amounts of additional farm/agricultural products - would be one of the best things to happen to our farmers in many years !', 'i ask senator chuck schumer why didn ’ t president obama & amp ; the democrats do something about trade with china including theft of intellectual property etc . ?', 'they did nothing !', 'with that being said chuck & amp ; i have long agreed on this issue !', 'fair trade plus with china will happen !', 'i hereby demand and will do so officially tomorrow that the department of justice look into whether or not the fbi/doj infiltrated or surveilled the trump campaign for political purposes - and if any such demands or requests were made by people within the obama administration !', 'rt @ erictrump : it is emotional day being back at @ stjude in celebration of our dear friend colin !', 'he was a beautiful child who we will all…', 'the witch hunt finds no collusion with russia - so now they ’ re looking at the rest of the world .', 'oh ’ great !', '... .and why hasn ’ t the podesta brother been charged and arrested like others after being forced to close down his very large and successful firm ?', 'is it because he is a very well connected democrat working in the swamp of washington d.c. ?', 'what ever happened to the server at the center of so much corruption that the democratic national committee refused to hand over to the hard charging ( except in the case of democrats ) fbi ?', 'they broke into homes & amp ; offices early in the morning but were afraid to take the server ?', 'now that the witch hunt has given up on russia and is looking at the rest of the world they should easily be able to take it into the mid-term elections where they can put some hurt on the republican party .', 'don ’ t worry about dems fisa abuse missing emails or fraudulent dossier !', '... in the hillary clinton campaign where she deleted 33000 emails got $ 145000000 while secretary of state paid mccabes wife $ 700000 ( and got off the fbi hook along with terry m ) and so much more .', 'republicans and real americans should start getting tough on this scam .', '... .at what point does this soon to be $ 20000000 witch hunt composed of 13 angry and heavily conflicted democrats and two people who have worked for obama for 8 years stop !', 'they have found no collussion with russia no obstruction but they aren ’ t looking at the corruption ...', 'things are really getting ridiculous .', 'the failing and crooked ( but not as crooked as hillary clinton ) @ nytimes has done a long & amp ; boring story indicating that the world ’ s most expensive witch hunt has found nothing on russia & amp ; me so now they are looking at the rest of the world !', 'if the fbi or doj was infiltrating a campaign for the benefit of another campaign that is a really big deal .', 'only the release or review of documents that the house intelligence committee ( also senate judiciary ) is asking for can give the conclusive answers .', 'drain the swamp !', 'great to have our incredible first lady back home in the white house .', 'melania is feeling and doing really well .']\n"
     ]
    }
   ],
   "source": [
    "print(reddit_teenagers_filtered_sentences[0:50])\n",
    "print(reddit_theDonald_sentences[0:50])\n",
    "print(twitter_trump_sentences[0:50])"
   ]
  },
  {
   "cell_type": "code",
   "execution_count": null,
   "metadata": {},
   "outputs": [],
   "source": []
  }
 ],
 "metadata": {
  "kernelspec": {
   "display_name": "Python 3",
   "language": "python",
   "name": "python3"
  },
  "language_info": {
   "codemirror_mode": {
    "name": "ipython",
    "version": 3
   },
   "file_extension": ".py",
   "mimetype": "text/x-python",
   "name": "python",
   "nbconvert_exporter": "python",
   "pygments_lexer": "ipython3",
   "version": "3.6.5"
  }
 },
 "nbformat": 4,
 "nbformat_minor": 2
}
