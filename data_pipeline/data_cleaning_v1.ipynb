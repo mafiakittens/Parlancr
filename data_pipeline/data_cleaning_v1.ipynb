{
 "cells": [
  {
   "cell_type": "markdown",
   "metadata": {},
   "source": [
    "## Load Libraries and Helper Functions"
   ]
  },
  {
   "cell_type": "code",
   "execution_count": 41,
   "metadata": {},
   "outputs": [
    {
     "name": "stdout",
     "output_type": "stream",
     "text": [
      "[nltk_data] Downloading package punkt to\n",
      "[nltk_data]     /home/chadharness/nltk_data...\n",
      "[nltk_data]   Unzipping tokenizers/punkt.zip.\n"
     ]
    }
   ],
   "source": [
    "# The future\n",
    "#from __future__ import print_function, division, absolute_import\n",
    "\n",
    "# Data wrangling libraries\n",
    "import pandas as pd\n",
    "import numpy as np\n",
    "import re\n",
    "from io import StringIO\n",
    "\n",
    "import matplotlib.pyplot as plt\n",
    "import glob as glob\n",
    "import pickle as pickle\n",
    "\n",
    "# Numpy shorthand stuff\n",
    "from numpy import array\n",
    "\n",
    "# NLTK shorthand stuff\n",
    "import nltk\n",
    "nltk.download('punkt')\n",
    "from nltk.tokenize import TweetTokenizer, RegexpTokenizer, sent_tokenize, word_tokenize\n",
    "\n",
    "# SK-learn library for splitting data\n",
    "from sklearn.model_selection import train_test_split\n",
    "\n",
    "\n",
    "%matplotlib inline"
   ]
  },
  {
   "cell_type": "code",
   "execution_count": 238,
   "metadata": {},
   "outputs": [],
   "source": [
    "# Borrowed some functions from the w266 utils.py file\n",
    "# Miscellaneous helpers\n",
    "def flatten(list_of_lists):\n",
    "    \"\"\"Flatten a list-of-lists into a single list.\"\"\"\n",
    "    return list(itertools.chain.from_iterable(list_of_lists))\n",
    "\n",
    "\n",
    "# Word processing functions\n",
    "def canonicalize_digits(word):\n",
    "    if any([c.isalpha() for c in word]): return word\n",
    "    word = re.sub(\"\\d\", \"DG\", word)\n",
    "    if word.startswith(\"DG\"):\n",
    "        word = word.replace(\",\", \"\") # remove thousands separator\n",
    "        #word = re.sub(r\"(DG)+\", \"DG\", word)\n",
    "    return word\n",
    "\n",
    "\n",
    "def canonicalize_word(word, wordset=None, digits=True):\n",
    "    #word = re.sub(r\":\",\"\",word)\n",
    "    #word = re.sub(r\"https?\",\"\",word)\n",
    "    #word = re.sub(r\"\\/\",\"\",word)\n",
    "    #word = re.sub(r\"@\",\"\",word)\n",
    "    #word = re.sub(r\"/\\U0001.?'\",\"\",word)\n",
    "    #replace hyperlinks with one instance of \"postedhyperlinkvalue\"\n",
    "    word = re.sub(r\"(https?:\\/\\/)?([\\da-z\\.-]+)\\.([a-z\\.]{2,6})([\\/\\w\\.-]*)*\\/?\\S*\", \"postedhyperlinkvalue\", word)\n",
    "    word = re.sub(r\"(postedhyperlinkvalue)+\", \"postedhyperlinkvalue\", word)\n",
    "    #only lower case words (2 letters or longer) that are not all upper case\n",
    "    if not word.isupper() or len(word) == 1:\n",
    "        word = word.lower()\n",
    "    #replace things like haha with ha\n",
    "    word = re.sub(r\"([a-z]{2,})\\1{2,}\", r\"\\1\", word)\n",
    "    #replace any three consecutive, identical letters with two instances of that letter\n",
    "    word = re.sub(r\"([a-z])\\1{2,}\", r\"\\1\\1\", word)\n",
    "    #replace any two consecutive, identical consonants at the beginning of a string with one of that consonant\n",
    "    word = re.sub(r\"(^[^aeiou])\\1{1,}\", r\"\\1\", word)\n",
    "    \n",
    "    #replace digits with a stand-in token\n",
    "    if digits:\n",
    "        if (wordset != None) and (word in wordset): return word\n",
    "        word = canonicalize_digits(word) # try to canonicalize numbers\n",
    "    if (wordset == None) or (word in wordset):\n",
    "        return word\n",
    "    else:\n",
    "        return constants.UNK_TOKEN\n",
    "\n",
    "    \n",
    "def canonicalize_words(words, **kw):\n",
    "    return [canonicalize_word(word, **kw) for word in words]\n",
    "\n",
    "\n",
    "# Made some helper functions of our own\n",
    "from nltk.stem import PorterStemmer   \n",
    "def stem_sentence(token_sent, stemmer=PorterStemmer()):\n",
    "    stem_token_sent = []\n",
    "    for word in token_sent:\n",
    "        stem_token_sent.append(stemmer.stem(word))\n",
    "    return stem_token_sent\n",
    "\n",
    "\n",
    "def sent_plus_word_tokenize(series):\n",
    "    sentences = []\n",
    "    words = []\n",
    "    \n",
    "    for comment in series:\n",
    "        sentences.append(sent_tokenize(comment))\n",
    "    \n",
    "    flat_sentences = [item for sublist in sentences for item in sublist]\n",
    "    \n",
    "    for comment_sentence in flat_sentences:\n",
    "        words.append(word_tokenize(comment_sentence))\n",
    "    \n",
    "    return sentences, words\n",
    "\n",
    "\n",
    "def make_data(data, target='', commentfield='', tokenizer=TweetTokenizer(), canonize=True, stem=True):      \n",
    "    # Separate comments\n",
    "    comments = data.loc[:, commentfield]\n",
    "    #comments = data.loc[:, 'comment_body']\n",
    "    #labels = data.loc[:, target]\n",
    "    \n",
    "    # Convert to list\n",
    "    comment_list = comments.values.tolist()\n",
    "    \n",
    "    # Tokenize comments\n",
    "    tokenizer = tokenizer\n",
    "    # A list of lists of tokenized sentences: word == string/token; sentence == list of string/tokens\n",
    "    tokenized_sentences = [tokenizer.tokenize(sentence) for sentence in comment_list]\n",
    "    #tokenized_sentences_x = [tokenizer.tokenize(sentence) for sentence in comment_list]\n",
    "    #tokenized_sentences = []\n",
    "    #sentence = []\n",
    "    #last_tok = ''\n",
    "    #for comment in tokenized_sentences_x:\n",
    "    #    for tok in comment:\n",
    "    #        if last_tok in ('http', 'https',':','http:','https:','@'):\n",
    "    #            tok = last_tok + tok\n",
    "    #        if tok in ('http', 'https',':', '@'):\n",
    "    #            last_tok = tok\n",
    "    #        else:\n",
    "    #            last_tok = ''\n",
    "    #            sentence.append(tok)\n",
    "    #    tokenized_sentences.append(sentence)\n",
    "    \n",
    "    if stem:\n",
    "        # Stem words\n",
    "        comments_stem = []\n",
    "        for sentence in tokenized_sentences:\n",
    "            x_tokens_stem = stem_sentence(token_sent=sentence, stemmer=PorterStemmer())\n",
    "            comments_stem.append(x_tokens_stem)\n",
    "        tokenized_sentences = comments_stem\n",
    "    \n",
    "    if canonize:\n",
    "        # Canonize words\n",
    "        comments_canon = []\n",
    "        for sentence in tokenized_sentences:\n",
    "            x_tokens_canon = canonicalize_words(sentence)\n",
    "            comments_canon.append(x_tokens_canon)\n",
    "        # A list of lists of scrubbed tokens; token == word, list == sentence\n",
    "        tokenized_sentences = comments_canon\n",
    "    \n",
    "    x_tokens = tokenized_sentences  \n",
    "    #return comments, x_tokens, labels\n",
    "    return comments, x_tokens\n",
    "\n",
    "\n",
    "def rawlist_to_xtokens(rawlist=['default arg'], vocab_list=[]):\n",
    "    xtokens = []\n",
    "    for rawstring in rawlist:\n",
    "        xtoken = list(filter(lambda x: x in vocab_list, rawstring.split()))\n",
    "        xtokens.append(xtoken)   \n",
    "    return xtokens\n",
    "\n",
    "\n",
    "def xtoken_to_raw(xtoken=['default','arg']):  \n",
    "    raw_text_string = ' '.join(xtoken)\n",
    "    return raw_text_string\n",
    "\n",
    "\n",
    "def raw_to_xtoken(raw_string='default arg'):\n",
    "    xtoken = raw_string.split()\n",
    "    return xtoken\n",
    "\n",
    "\n",
    "def model_diagnostics(model, data, labels, target_names, random=False, test_size=0.10, random_state=42):\n",
    "    \n",
    "    # Split into test and train\n",
    "    # Designate random test_size% of data (rounded up to next obs) as test data\n",
    "    if random:\n",
    "        train_data, test_data, train_labels, test_labels = train_test_split(data, labels, \n",
    "                                                                            test_size=test_size, \n",
    "                                                                            random_state=random_state)\n",
    "    # Designate last test_size% of data (rounded up to next obs) as test data \n",
    "    else:\n",
    "        idx = round(test_size*len(data))\n",
    "        test_data = data[-idx:]\n",
    "        test_labels = labels[-idx:]\n",
    "    \n",
    "    \n",
    "    pred_labels = model.predict_classes(test_data)\n",
    "    \n",
    "    print(\"Test data length is: \", len(test_data))\n",
    "    print(\"Test label length is: \", len(test_labels))\n",
    "    print(\"Pred label length is: \", len(pred_labels))\n",
    "    \n",
    "    confusionMatrix = metrics.confusion_matrix(test_labels, pred_labels)\n",
    "    classificationReport = classification_report(test_labels, pred_labels, target_names=target_names)\n",
    "    \n",
    "    return confusionMatrix, classificationReport\n",
    "\n",
    "\n",
    "# Function to aggregate all of the comments for a given subreddit(s)\n",
    "\n",
    "# Data location example: reddit data for March 2018 downloaded to ~/parlancr/data/reddit/2018_03/\n",
    "# File names: reddit_2018_03000000000000.csv - reddit_2018_03000000000047.csv\n",
    "\n",
    "def export_subreddits(subs):\n",
    "    \n",
    "    selected_subreddits = pd.DataFrame()\n",
    "    file_stem = './data/reddit/*/reddit_*.csv'\n",
    "    \n",
    "    for f in sorted(glob.glob(file_stem)):\n",
    "        \n",
    "        print('Loading comments from: ', f)\n",
    "        partition_comments = pd.read_csv(f)\n",
    "        selected_subreddits = selected_subreddits.append(partition_comments[partition_comments['subreddit'].isin(subs)], ignore_index = True)\n",
    "        \n",
    "    return selected_subreddits\n",
    "\n",
    "\n",
    "def build_model_input(pandas_df, commentfield, post_length, sent_length):\n",
    "    \n",
    "    sentences, tokens = sent_plus_word_tokenize(pandas_df[commentfield].dropna().values)\n",
    "    \n",
    "    sents = [sents for line in sentences for sents in line if len(line) <= post_length]\n",
    "    \n",
    "    sents_pd = pd.DataFrame({commentfield:sents})\n",
    "    \n",
    "    comments, x_tokens = make_data(sents_pd, commentfield=commentfield, canonize=True, stem=False, tokenizer=TweetTokenizer())\n",
    "    \n",
    "    tokens = [sent for sent in x_tokens if len(sent) <= sent_length]\n",
    "    \n",
    "    raw_list = list(map(xtoken_to_raw, tokens))\n",
    "    \n",
    "    pd_final = pd.DataFrame({commentfield:raw_list})\n",
    "    \n",
    "    train, validate, test = np.split(pd_final.sample(frac=1), [int(.6*len(pd_final)), int(.8*len(pd_final))])\n",
    "    \n",
    "    return train, validate, test, pd_final\n",
    "    \n",
    "    \n",
    "    "
   ]
  },
  {
   "cell_type": "markdown",
   "metadata": {},
   "source": [
    "## Load Data"
   ]
  },
  {
   "cell_type": "code",
   "execution_count": 4,
   "metadata": {
    "scrolled": true
   },
   "outputs": [
    {
     "name": "stdout",
     "output_type": "stream",
     "text": [
      "/home/chadharness/w210/Parlancr/data_pipeline\r\n"
     ]
    }
   ],
   "source": [
    "!pwd"
   ]
  },
  {
   "cell_type": "code",
   "execution_count": 3,
   "metadata": {},
   "outputs": [],
   "source": [
    "# Load pickled data frames\n",
    "\n",
    "#reddit_all = pd.read_pickle('./data/reddit/subsets/reddit_data_all-teenagers-The_Donald.pkl')\n",
    "\n",
    "#twitter_trump = pd.read_pickle('./data/twitter/trump_tweets/trump_tweet_data.pkl')\n",
    "\n",
    "reddit_all = pd.read_pickle('../../data/reddit_data_all-teenagers-The_Donald.pkl')\n",
    "\n",
    "#reddit_pol = pd.read_pickle('../../data/reddit_data_all-political.pkl')"
   ]
  },
  {
   "cell_type": "code",
   "execution_count": 9,
   "metadata": {
    "scrolled": true
   },
   "outputs": [
    {
     "data": {
      "text/html": [
       "<div>\n",
       "<style scoped>\n",
       "    .dataframe tbody tr th:only-of-type {\n",
       "        vertical-align: middle;\n",
       "    }\n",
       "\n",
       "    .dataframe tbody tr th {\n",
       "        vertical-align: top;\n",
       "    }\n",
       "\n",
       "    .dataframe thead th {\n",
       "        text-align: right;\n",
       "    }\n",
       "</style>\n",
       "<table border=\"1\" class=\"dataframe\">\n",
       "  <thead>\n",
       "    <tr style=\"text-align: right;\">\n",
       "      <th></th>\n",
       "      <th>body</th>\n",
       "      <th>score_hidden</th>\n",
       "      <th>archived</th>\n",
       "      <th>name</th>\n",
       "      <th>author</th>\n",
       "      <th>author_flair_text</th>\n",
       "      <th>downs</th>\n",
       "      <th>created_utc</th>\n",
       "      <th>subreddit_id</th>\n",
       "      <th>link_id</th>\n",
       "      <th>parent_id</th>\n",
       "      <th>score</th>\n",
       "      <th>retrieved_on</th>\n",
       "      <th>controversiality</th>\n",
       "      <th>gilded</th>\n",
       "      <th>id</th>\n",
       "      <th>subreddit</th>\n",
       "      <th>ups</th>\n",
       "      <th>distinguished</th>\n",
       "      <th>author_flair_css_class</th>\n",
       "    </tr>\n",
       "  </thead>\n",
       "  <tbody>\n",
       "    <tr>\n",
       "      <th>0</th>\n",
       "      <td>Hey man, no need to be rude</td>\n",
       "      <td>NaN</td>\n",
       "      <td>NaN</td>\n",
       "      <td>NaN</td>\n",
       "      <td>thiccbagel</td>\n",
       "      <td>NaN</td>\n",
       "      <td>NaN</td>\n",
       "      <td>1508889606</td>\n",
       "      <td>t5_2rjli</td>\n",
       "      <td>t3_78jxo4</td>\n",
       "      <td>t1_doue4fo</td>\n",
       "      <td>14.0</td>\n",
       "      <td>1.510153e+09</td>\n",
       "      <td>0</td>\n",
       "      <td>0</td>\n",
       "      <td>doue4rn</td>\n",
       "      <td>teenagers</td>\n",
       "      <td>NaN</td>\n",
       "      <td>NaN</td>\n",
       "      <td>NaN</td>\n",
       "    </tr>\n",
       "    <tr>\n",
       "      <th>1</th>\n",
       "      <td>My eye</td>\n",
       "      <td>NaN</td>\n",
       "      <td>NaN</td>\n",
       "      <td>NaN</td>\n",
       "      <td>SoFunnyLookin</td>\n",
       "      <td>USA</td>\n",
       "      <td>NaN</td>\n",
       "      <td>1508889607</td>\n",
       "      <td>t5_38unr</td>\n",
       "      <td>t3_78jt7s</td>\n",
       "      <td>t1_doudf9c</td>\n",
       "      <td>5.0</td>\n",
       "      <td>1.510153e+09</td>\n",
       "      <td>0</td>\n",
       "      <td>0</td>\n",
       "      <td>doue4tr</td>\n",
       "      <td>The_Donald</td>\n",
       "      <td>NaN</td>\n",
       "      <td>NaN</td>\n",
       "      <td>MURICA</td>\n",
       "    </tr>\n",
       "    <tr>\n",
       "      <th>2</th>\n",
       "      <td>[deleted]</td>\n",
       "      <td>NaN</td>\n",
       "      <td>NaN</td>\n",
       "      <td>NaN</td>\n",
       "      <td>[deleted]</td>\n",
       "      <td>NaN</td>\n",
       "      <td>NaN</td>\n",
       "      <td>1508889609</td>\n",
       "      <td>t5_38unr</td>\n",
       "      <td>t3_78hszx</td>\n",
       "      <td>t3_78hszx</td>\n",
       "      <td>1.0</td>\n",
       "      <td>1.510153e+09</td>\n",
       "      <td>0</td>\n",
       "      <td>0</td>\n",
       "      <td>doue4vo</td>\n",
       "      <td>The_Donald</td>\n",
       "      <td>NaN</td>\n",
       "      <td>NaN</td>\n",
       "      <td>NaN</td>\n",
       "    </tr>\n",
       "    <tr>\n",
       "      <th>3</th>\n",
       "      <td>[removed]</td>\n",
       "      <td>NaN</td>\n",
       "      <td>NaN</td>\n",
       "      <td>NaN</td>\n",
       "      <td>[deleted]</td>\n",
       "      <td>NaN</td>\n",
       "      <td>NaN</td>\n",
       "      <td>1508889611</td>\n",
       "      <td>t5_38unr</td>\n",
       "      <td>t3_78j6c0</td>\n",
       "      <td>t1_doudnhp</td>\n",
       "      <td>1.0</td>\n",
       "      <td>1.510153e+09</td>\n",
       "      <td>0</td>\n",
       "      <td>0</td>\n",
       "      <td>doue4x4</td>\n",
       "      <td>The_Donald</td>\n",
       "      <td>NaN</td>\n",
       "      <td>NaN</td>\n",
       "      <td>NaN</td>\n",
       "    </tr>\n",
       "    <tr>\n",
       "      <th>4</th>\n",
       "      <td>Why did they drop bomb?  Is there even more in...</td>\n",
       "      <td>NaN</td>\n",
       "      <td>NaN</td>\n",
       "      <td>NaN</td>\n",
       "      <td>superguyguy</td>\n",
       "      <td>NaN</td>\n",
       "      <td>NaN</td>\n",
       "      <td>1508889612</td>\n",
       "      <td>t5_38unr</td>\n",
       "      <td>t3_78jijg</td>\n",
       "      <td>t3_78jijg</td>\n",
       "      <td>2.0</td>\n",
       "      <td>1.510153e+09</td>\n",
       "      <td>0</td>\n",
       "      <td>0</td>\n",
       "      <td>doue4xz</td>\n",
       "      <td>The_Donald</td>\n",
       "      <td>NaN</td>\n",
       "      <td>NaN</td>\n",
       "      <td>NaN</td>\n",
       "    </tr>\n",
       "  </tbody>\n",
       "</table>\n",
       "</div>"
      ],
      "text/plain": [
       "                                                body  score_hidden  archived  \\\n",
       "0                       Hey man, no need to be rude            NaN       NaN   \n",
       "1                                             My eye           NaN       NaN   \n",
       "2                                          [deleted]           NaN       NaN   \n",
       "3                                          [removed]           NaN       NaN   \n",
       "4  Why did they drop bomb?  Is there even more in...           NaN       NaN   \n",
       "\n",
       "   name         author author_flair_text  downs  created_utc subreddit_id  \\\n",
       "0   NaN     thiccbagel               NaN    NaN   1508889606     t5_2rjli   \n",
       "1   NaN  SoFunnyLookin               USA    NaN   1508889607     t5_38unr   \n",
       "2   NaN      [deleted]               NaN    NaN   1508889609     t5_38unr   \n",
       "3   NaN      [deleted]               NaN    NaN   1508889611     t5_38unr   \n",
       "4   NaN    superguyguy               NaN    NaN   1508889612     t5_38unr   \n",
       "\n",
       "     link_id   parent_id  score  retrieved_on  controversiality  gilded  \\\n",
       "0  t3_78jxo4  t1_doue4fo   14.0  1.510153e+09                 0       0   \n",
       "1  t3_78jt7s  t1_doudf9c    5.0  1.510153e+09                 0       0   \n",
       "2  t3_78hszx   t3_78hszx    1.0  1.510153e+09                 0       0   \n",
       "3  t3_78j6c0  t1_doudnhp    1.0  1.510153e+09                 0       0   \n",
       "4  t3_78jijg   t3_78jijg    2.0  1.510153e+09                 0       0   \n",
       "\n",
       "        id   subreddit  ups distinguished author_flair_css_class  \n",
       "0  doue4rn   teenagers  NaN           NaN                    NaN  \n",
       "1  doue4tr  The_Donald  NaN           NaN                 MURICA  \n",
       "2  doue4vo  The_Donald  NaN           NaN                    NaN  \n",
       "3  doue4x4  The_Donald  NaN           NaN                    NaN  \n",
       "4  doue4xz  The_Donald  NaN           NaN                    NaN  "
      ]
     },
     "execution_count": 9,
     "metadata": {},
     "output_type": "execute_result"
    }
   ],
   "source": [
    "reddit_all.head()"
   ]
  },
  {
   "cell_type": "code",
   "execution_count": 10,
   "metadata": {},
   "outputs": [
    {
     "data": {
      "text/plain": [
       "body                      8227161\n",
       "score_hidden                    0\n",
       "archived                        0\n",
       "name                            0\n",
       "author                    8227305\n",
       "author_flair_text         4555520\n",
       "downs                           0\n",
       "created_utc               8227305\n",
       "subreddit_id              8227305\n",
       "link_id                   8227305\n",
       "parent_id                 8227305\n",
       "score                     8227305\n",
       "retrieved_on              8227305\n",
       "controversiality          8227305\n",
       "gilded                    8227305\n",
       "id                        8227305\n",
       "subreddit                 8227305\n",
       "ups                             0\n",
       "distinguished               23321\n",
       "author_flair_css_class    2833388\n",
       "dtype: int64"
      ]
     },
     "execution_count": 10,
     "metadata": {},
     "output_type": "execute_result"
    }
   ],
   "source": [
    "reddit_all.count()"
   ]
  },
  {
   "cell_type": "code",
   "execution_count": 11,
   "metadata": {},
   "outputs": [
    {
     "data": {
      "text/plain": [
       "body                      7610939\n",
       "score_hidden                    0\n",
       "archived                        0\n",
       "name                            0\n",
       "author                    7610939\n",
       "author_flair_text         4555341\n",
       "downs                           0\n",
       "created_utc               7610939\n",
       "subreddit_id              7610939\n",
       "link_id                   7610939\n",
       "parent_id                 7610939\n",
       "score                     7610939\n",
       "retrieved_on              7610939\n",
       "controversiality          7610939\n",
       "gilded                    7610939\n",
       "id                        7610939\n",
       "subreddit                 7610939\n",
       "ups                             0\n",
       "distinguished               23321\n",
       "author_flair_css_class    2833336\n",
       "dtype: int64"
      ]
     },
     "execution_count": 11,
     "metadata": {},
     "output_type": "execute_result"
    }
   ],
   "source": [
    "# Remove problematic comments\n",
    "reddit_all = reddit_all[reddit_all.body.notnull()]\n",
    "reddit_all = reddit_all[reddit_all.body != '']\n",
    "reddit_all = reddit_all[reddit_all.body != \"no value\"]\n",
    "reddit_all = reddit_all[reddit_all.body !='[removed]']\n",
    "reddit_all = reddit_all[reddit_all.body != '[deleted]']\n",
    "reddit_all = reddit_all[~reddit_all.body.str.contains(\"\\^This\\^message\\^was\\^created\\^by\\^a\\^bot\")]\n",
    "reddit_all = reddit_all[~reddit_all.body.str.contains(\"\\*\\*Please review the rules for\")]\n",
    "reddit_all = reddit_all[reddit_all.notnull()]\n",
    "\n",
    "reddit_all.count()"
   ]
  },
  {
   "cell_type": "code",
   "execution_count": 5,
   "metadata": {},
   "outputs": [],
   "source": [
    "# Load pickled data frames\n",
    "\n",
    "#reddit_all = pd.read_pickle('./data/reddit/subsets/reddit_data_all-teenagers-The_Donald.pkl')\n",
    "\n",
    "#twitter_trump = pd.read_pickle('./data/twitter/trump_tweets/trump_tweet_data.pkl')\n",
    "\n",
    "#reddit_all = pd.read_pickle('../../data/reddit_data_all-teenagers-The_Donald.pkl')\n",
    "\n",
    "reddit_pol = pd.read_pickle('../../data/reddit_data_all-political.pkl')"
   ]
  },
  {
   "cell_type": "code",
   "execution_count": 12,
   "metadata": {
    "scrolled": false
   },
   "outputs": [
    {
     "data": {
      "text/html": [
       "<div>\n",
       "<style scoped>\n",
       "    .dataframe tbody tr th:only-of-type {\n",
       "        vertical-align: middle;\n",
       "    }\n",
       "\n",
       "    .dataframe tbody tr th {\n",
       "        vertical-align: top;\n",
       "    }\n",
       "\n",
       "    .dataframe thead th {\n",
       "        text-align: right;\n",
       "    }\n",
       "</style>\n",
       "<table border=\"1\" class=\"dataframe\">\n",
       "  <thead>\n",
       "    <tr style=\"text-align: right;\">\n",
       "      <th></th>\n",
       "      <th>body</th>\n",
       "      <th>score_hidden</th>\n",
       "      <th>archived</th>\n",
       "      <th>name</th>\n",
       "      <th>author</th>\n",
       "      <th>author_flair_text</th>\n",
       "      <th>downs</th>\n",
       "      <th>created_utc</th>\n",
       "      <th>subreddit_id</th>\n",
       "      <th>link_id</th>\n",
       "      <th>parent_id</th>\n",
       "      <th>score</th>\n",
       "      <th>retrieved_on</th>\n",
       "      <th>controversiality</th>\n",
       "      <th>gilded</th>\n",
       "      <th>id</th>\n",
       "      <th>subreddit</th>\n",
       "      <th>ups</th>\n",
       "      <th>distinguished</th>\n",
       "      <th>author_flair_css_class</th>\n",
       "    </tr>\n",
       "  </thead>\n",
       "  <tbody>\n",
       "    <tr>\n",
       "      <th>0</th>\n",
       "      <td>Also the only president to be attacked by a ro...</td>\n",
       "      <td>NaN</td>\n",
       "      <td>NaN</td>\n",
       "      <td>NaN</td>\n",
       "      <td>xo13579</td>\n",
       "      <td>NaN</td>\n",
       "      <td>NaN</td>\n",
       "      <td>1508889603</td>\n",
       "      <td>t5_2qn70</td>\n",
       "      <td>t3_78ijb3</td>\n",
       "      <td>t3_78ijb3</td>\n",
       "      <td>1.0</td>\n",
       "      <td>1.510153e+09</td>\n",
       "      <td>0</td>\n",
       "      <td>0</td>\n",
       "      <td>doue4og</td>\n",
       "      <td>democrats</td>\n",
       "      <td>NaN</td>\n",
       "      <td>NaN</td>\n",
       "      <td>NaN</td>\n",
       "    </tr>\n",
       "    <tr>\n",
       "      <th>1</th>\n",
       "      <td>[deleted]</td>\n",
       "      <td>NaN</td>\n",
       "      <td>NaN</td>\n",
       "      <td>NaN</td>\n",
       "      <td>[deleted]</td>\n",
       "      <td>NaN</td>\n",
       "      <td>NaN</td>\n",
       "      <td>1508889604</td>\n",
       "      <td>t5_2qh3l</td>\n",
       "      <td>t3_78hsqz</td>\n",
       "      <td>t1_doud1gs</td>\n",
       "      <td>1.0</td>\n",
       "      <td>1.510153e+09</td>\n",
       "      <td>0</td>\n",
       "      <td>0</td>\n",
       "      <td>doue4pk</td>\n",
       "      <td>news</td>\n",
       "      <td>NaN</td>\n",
       "      <td>NaN</td>\n",
       "      <td>NaN</td>\n",
       "    </tr>\n",
       "    <tr>\n",
       "      <th>2</th>\n",
       "      <td>don’t know much about that but rochelle might ...</td>\n",
       "      <td>NaN</td>\n",
       "      <td>NaN</td>\n",
       "      <td>NaN</td>\n",
       "      <td>Jailhaus</td>\n",
       "      <td>NaN</td>\n",
       "      <td>NaN</td>\n",
       "      <td>1508889604</td>\n",
       "      <td>t5_2qh3l</td>\n",
       "      <td>t3_78jpym</td>\n",
       "      <td>t3_78jpym</td>\n",
       "      <td>0.0</td>\n",
       "      <td>1.510153e+09</td>\n",
       "      <td>0</td>\n",
       "      <td>0</td>\n",
       "      <td>doue4q1</td>\n",
       "      <td>news</td>\n",
       "      <td>NaN</td>\n",
       "      <td>NaN</td>\n",
       "      <td>NaN</td>\n",
       "    </tr>\n",
       "    <tr>\n",
       "      <th>3</th>\n",
       "      <td>It's still a good thing. For one, it lets you ...</td>\n",
       "      <td>NaN</td>\n",
       "      <td>NaN</td>\n",
       "      <td>NaN</td>\n",
       "      <td>Han55512</td>\n",
       "      <td>NaN</td>\n",
       "      <td>NaN</td>\n",
       "      <td>1508889605</td>\n",
       "      <td>t5_2qh13</td>\n",
       "      <td>t3_78ih3b</td>\n",
       "      <td>t1_dou3lrt</td>\n",
       "      <td>1.0</td>\n",
       "      <td>1.510153e+09</td>\n",
       "      <td>0</td>\n",
       "      <td>0</td>\n",
       "      <td>doue4qk</td>\n",
       "      <td>worldnews</td>\n",
       "      <td>NaN</td>\n",
       "      <td>NaN</td>\n",
       "      <td>NaN</td>\n",
       "    </tr>\n",
       "    <tr>\n",
       "      <th>4</th>\n",
       "      <td>[deleted]</td>\n",
       "      <td>NaN</td>\n",
       "      <td>NaN</td>\n",
       "      <td>NaN</td>\n",
       "      <td>[deleted]</td>\n",
       "      <td>NaN</td>\n",
       "      <td>NaN</td>\n",
       "      <td>1508889605</td>\n",
       "      <td>t5_2qh13</td>\n",
       "      <td>t3_78ih3b</td>\n",
       "      <td>t1_doucs5h</td>\n",
       "      <td>1.0</td>\n",
       "      <td>1.510153e+09</td>\n",
       "      <td>0</td>\n",
       "      <td>0</td>\n",
       "      <td>doue4qu</td>\n",
       "      <td>worldnews</td>\n",
       "      <td>NaN</td>\n",
       "      <td>NaN</td>\n",
       "      <td>NaN</td>\n",
       "    </tr>\n",
       "  </tbody>\n",
       "</table>\n",
       "</div>"
      ],
      "text/plain": [
       "                                                body  score_hidden  archived  \\\n",
       "0  Also the only president to be attacked by a ro...           NaN       NaN   \n",
       "1                                          [deleted]           NaN       NaN   \n",
       "2  don’t know much about that but rochelle might ...           NaN       NaN   \n",
       "3  It's still a good thing. For one, it lets you ...           NaN       NaN   \n",
       "4                                          [deleted]           NaN       NaN   \n",
       "\n",
       "   name     author author_flair_text  downs  created_utc subreddit_id  \\\n",
       "0   NaN    xo13579               NaN    NaN   1508889603     t5_2qn70   \n",
       "1   NaN  [deleted]               NaN    NaN   1508889604     t5_2qh3l   \n",
       "2   NaN   Jailhaus               NaN    NaN   1508889604     t5_2qh3l   \n",
       "3   NaN   Han55512               NaN    NaN   1508889605     t5_2qh13   \n",
       "4   NaN  [deleted]               NaN    NaN   1508889605     t5_2qh13   \n",
       "\n",
       "     link_id   parent_id  score  retrieved_on  controversiality  gilded  \\\n",
       "0  t3_78ijb3   t3_78ijb3    1.0  1.510153e+09                 0       0   \n",
       "1  t3_78hsqz  t1_doud1gs    1.0  1.510153e+09                 0       0   \n",
       "2  t3_78jpym   t3_78jpym    0.0  1.510153e+09                 0       0   \n",
       "3  t3_78ih3b  t1_dou3lrt    1.0  1.510153e+09                 0       0   \n",
       "4  t3_78ih3b  t1_doucs5h    1.0  1.510153e+09                 0       0   \n",
       "\n",
       "        id  subreddit  ups distinguished author_flair_css_class  \n",
       "0  doue4og  democrats  NaN           NaN                    NaN  \n",
       "1  doue4pk       news  NaN           NaN                    NaN  \n",
       "2  doue4q1       news  NaN           NaN                    NaN  \n",
       "3  doue4qk  worldnews  NaN           NaN                    NaN  \n",
       "4  doue4qu  worldnews  NaN           NaN                    NaN  "
      ]
     },
     "execution_count": 12,
     "metadata": {},
     "output_type": "execute_result"
    }
   ],
   "source": [
    "reddit_pol.head()"
   ]
  },
  {
   "cell_type": "code",
   "execution_count": 13,
   "metadata": {},
   "outputs": [
    {
     "data": {
      "text/plain": [
       "body                      10095309\n",
       "score_hidden                     0\n",
       "archived                         0\n",
       "name                             0\n",
       "author                    10095377\n",
       "author_flair_text            87581\n",
       "downs                            0\n",
       "created_utc               10095377\n",
       "subreddit_id              10095377\n",
       "link_id                   10095377\n",
       "parent_id                 10095377\n",
       "score                     10095377\n",
       "retrieved_on              10095377\n",
       "controversiality          10095377\n",
       "gilded                    10095377\n",
       "id                        10095377\n",
       "subreddit                 10095377\n",
       "ups                              0\n",
       "distinguished                52521\n",
       "author_flair_css_class       14705\n",
       "dtype: int64"
      ]
     },
     "execution_count": 13,
     "metadata": {},
     "output_type": "execute_result"
    }
   ],
   "source": [
    "reddit_pol.count()"
   ]
  },
  {
   "cell_type": "code",
   "execution_count": 6,
   "metadata": {},
   "outputs": [
    {
     "data": {
      "text/plain": [
       "body                      8790896\n",
       "score_hidden                    0\n",
       "archived                        0\n",
       "name                            0\n",
       "author                    8790896\n",
       "author_flair_text           87581\n",
       "downs                           0\n",
       "created_utc               8790896\n",
       "subreddit_id              8790896\n",
       "link_id                   8790896\n",
       "parent_id                 8790896\n",
       "score                     8790896\n",
       "retrieved_on              8790896\n",
       "controversiality          8790896\n",
       "gilded                    8790896\n",
       "id                        8790896\n",
       "subreddit                 8790896\n",
       "ups                             0\n",
       "distinguished               52521\n",
       "author_flair_css_class      14705\n",
       "dtype: int64"
      ]
     },
     "execution_count": 6,
     "metadata": {},
     "output_type": "execute_result"
    }
   ],
   "source": [
    "# Remove problematic comments\n",
    "reddit_pol = reddit_pol[reddit_pol.body.notnull()]\n",
    "reddit_pol = reddit_pol[reddit_pol.body != '']\n",
    "reddit_pol = reddit_pol[reddit_pol.body != \"no value\"]\n",
    "reddit_pol = reddit_pol[reddit_pol.body !='[removed]']\n",
    "reddit_pol = reddit_pol[reddit_pol.body != '[deleted]']\n",
    "reddit_pol = reddit_pol[~reddit_pol.body.str.contains(\"\\^This\\^message\\^was\\^created\\^by\\^a\\^bot\")]\n",
    "reddit_pol = reddit_pol[~reddit_pol.body.str.contains(\"\\*\\*Please review the rules for\")]\n",
    "reddit_pol = reddit_pol[reddit_pol.notnull()]\n",
    "\n",
    "reddit_pol.count()"
   ]
  },
  {
   "cell_type": "markdown",
   "metadata": {},
   "source": [
    "##### Subreddits in `reddit_data_all-political.pkl`\n",
    "* `r/Liberal`      _(n=13,449)_\n",
    "* `r/Conservative` _(n=275,683)_\n",
    "* `r/Republican`   _(n=14,633)_\n",
    "* `r/democrats`    _(n=35,056)_\n",
    "* `r/news`         _(n=4,332,619)_\n",
    "* `r/worldnews`    _(n=4,119,456)_"
   ]
  },
  {
   "cell_type": "code",
   "execution_count": 21,
   "metadata": {},
   "outputs": [],
   "source": [
    "reddit_libs = reddit_pol[reddit_pol.subreddit == 'Liberal']"
   ]
  },
  {
   "cell_type": "code",
   "execution_count": 12,
   "metadata": {
    "scrolled": false
   },
   "outputs": [
    {
     "data": {
      "text/html": [
       "<div>\n",
       "<style scoped>\n",
       "    .dataframe tbody tr th:only-of-type {\n",
       "        vertical-align: middle;\n",
       "    }\n",
       "\n",
       "    .dataframe tbody tr th {\n",
       "        vertical-align: top;\n",
       "    }\n",
       "\n",
       "    .dataframe thead th {\n",
       "        text-align: right;\n",
       "    }\n",
       "</style>\n",
       "<table border=\"1\" class=\"dataframe\">\n",
       "  <thead>\n",
       "    <tr style=\"text-align: right;\">\n",
       "      <th></th>\n",
       "      <th>body</th>\n",
       "      <th>score_hidden</th>\n",
       "      <th>archived</th>\n",
       "      <th>name</th>\n",
       "      <th>author</th>\n",
       "      <th>author_flair_text</th>\n",
       "      <th>downs</th>\n",
       "      <th>created_utc</th>\n",
       "      <th>subreddit_id</th>\n",
       "      <th>link_id</th>\n",
       "      <th>parent_id</th>\n",
       "      <th>score</th>\n",
       "      <th>retrieved_on</th>\n",
       "      <th>controversiality</th>\n",
       "      <th>gilded</th>\n",
       "      <th>id</th>\n",
       "      <th>subreddit</th>\n",
       "      <th>ups</th>\n",
       "      <th>distinguished</th>\n",
       "      <th>author_flair_css_class</th>\n",
       "    </tr>\n",
       "  </thead>\n",
       "  <tbody>\n",
       "    <tr>\n",
       "      <th>234</th>\n",
       "      <td>You just ignored what I said and then repeated...</td>\n",
       "      <td>NaN</td>\n",
       "      <td>NaN</td>\n",
       "      <td>NaN</td>\n",
       "      <td>nationalistsareRINOs</td>\n",
       "      <td>NaN</td>\n",
       "      <td>NaN</td>\n",
       "      <td>1508889913</td>\n",
       "      <td>t5_2qxt5</td>\n",
       "      <td>t3_76nxe8</td>\n",
       "      <td>t1_doix4hy</td>\n",
       "      <td>1.0</td>\n",
       "      <td>1.510154e+09</td>\n",
       "      <td>0</td>\n",
       "      <td>0</td>\n",
       "      <td>douee2k</td>\n",
       "      <td>Liberal</td>\n",
       "      <td>NaN</td>\n",
       "      <td>NaN</td>\n",
       "      <td>NaN</td>\n",
       "    </tr>\n",
       "    <tr>\n",
       "      <th>5515</th>\n",
       "      <td>The 'murican problem is the anti-democratic Ko...</td>\n",
       "      <td>NaN</td>\n",
       "      <td>NaN</td>\n",
       "      <td>NaN</td>\n",
       "      <td>EyeOfTheBeast</td>\n",
       "      <td>NaN</td>\n",
       "      <td>NaN</td>\n",
       "      <td>1508897487</td>\n",
       "      <td>t5_2qxt5</td>\n",
       "      <td>t3_77wpbq</td>\n",
       "      <td>t3_77wpbq</td>\n",
       "      <td>1.0</td>\n",
       "      <td>1.510157e+09</td>\n",
       "      <td>0</td>\n",
       "      <td>0</td>\n",
       "      <td>doul2sv</td>\n",
       "      <td>Liberal</td>\n",
       "      <td>NaN</td>\n",
       "      <td>NaN</td>\n",
       "      <td>NaN</td>\n",
       "    </tr>\n",
       "    <tr>\n",
       "      <th>8320</th>\n",
       "      <td>Stay home, The Donald doesn’t need you help</td>\n",
       "      <td>NaN</td>\n",
       "      <td>NaN</td>\n",
       "      <td>NaN</td>\n",
       "      <td>ynotfker</td>\n",
       "      <td>NaN</td>\n",
       "      <td>NaN</td>\n",
       "      <td>1508901854</td>\n",
       "      <td>t5_2qxt5</td>\n",
       "      <td>t3_7877lj</td>\n",
       "      <td>t3_7877lj</td>\n",
       "      <td>1.0</td>\n",
       "      <td>1.510159e+09</td>\n",
       "      <td>0</td>\n",
       "      <td>0</td>\n",
       "      <td>douolfx</td>\n",
       "      <td>Liberal</td>\n",
       "      <td>NaN</td>\n",
       "      <td>NaN</td>\n",
       "      <td>NaN</td>\n",
       "    </tr>\n",
       "    <tr>\n",
       "      <th>8898</th>\n",
       "      <td>Curious to know why people down voted this. Th...</td>\n",
       "      <td>NaN</td>\n",
       "      <td>NaN</td>\n",
       "      <td>NaN</td>\n",
       "      <td>SwampShillin</td>\n",
       "      <td>NaN</td>\n",
       "      <td>NaN</td>\n",
       "      <td>1508902772</td>\n",
       "      <td>t5_2qxt5</td>\n",
       "      <td>t3_78iiqx</td>\n",
       "      <td>t3_78iiqx</td>\n",
       "      <td>3.0</td>\n",
       "      <td>1.510159e+09</td>\n",
       "      <td>0</td>\n",
       "      <td>0</td>\n",
       "      <td>doup9cm</td>\n",
       "      <td>Liberal</td>\n",
       "      <td>NaN</td>\n",
       "      <td>NaN</td>\n",
       "      <td>NaN</td>\n",
       "    </tr>\n",
       "    <tr>\n",
       "      <th>9087</th>\n",
       "      <td>Clearly he does. But that's what we get for el...</td>\n",
       "      <td>NaN</td>\n",
       "      <td>NaN</td>\n",
       "      <td>NaN</td>\n",
       "      <td>nightness</td>\n",
       "      <td>NaN</td>\n",
       "      <td>NaN</td>\n",
       "      <td>1508903135</td>\n",
       "      <td>t5_2qxt5</td>\n",
       "      <td>t3_7877lj</td>\n",
       "      <td>t1_douolfx</td>\n",
       "      <td>3.0</td>\n",
       "      <td>1.510159e+09</td>\n",
       "      <td>0</td>\n",
       "      <td>0</td>\n",
       "      <td>doupioi</td>\n",
       "      <td>Liberal</td>\n",
       "      <td>NaN</td>\n",
       "      <td>NaN</td>\n",
       "      <td>NaN</td>\n",
       "    </tr>\n",
       "  </tbody>\n",
       "</table>\n",
       "</div>"
      ],
      "text/plain": [
       "                                                   body  score_hidden  \\\n",
       "234   You just ignored what I said and then repeated...           NaN   \n",
       "5515  The 'murican problem is the anti-democratic Ko...           NaN   \n",
       "8320        Stay home, The Donald doesn’t need you help           NaN   \n",
       "8898  Curious to know why people down voted this. Th...           NaN   \n",
       "9087  Clearly he does. But that's what we get for el...           NaN   \n",
       "\n",
       "      archived  name                author author_flair_text  downs  \\\n",
       "234        NaN   NaN  nationalistsareRINOs               NaN    NaN   \n",
       "5515       NaN   NaN         EyeOfTheBeast               NaN    NaN   \n",
       "8320       NaN   NaN              ynotfker               NaN    NaN   \n",
       "8898       NaN   NaN          SwampShillin               NaN    NaN   \n",
       "9087       NaN   NaN             nightness               NaN    NaN   \n",
       "\n",
       "      created_utc subreddit_id    link_id   parent_id  score  retrieved_on  \\\n",
       "234    1508889913     t5_2qxt5  t3_76nxe8  t1_doix4hy    1.0  1.510154e+09   \n",
       "5515   1508897487     t5_2qxt5  t3_77wpbq   t3_77wpbq    1.0  1.510157e+09   \n",
       "8320   1508901854     t5_2qxt5  t3_7877lj   t3_7877lj    1.0  1.510159e+09   \n",
       "8898   1508902772     t5_2qxt5  t3_78iiqx   t3_78iiqx    3.0  1.510159e+09   \n",
       "9087   1508903135     t5_2qxt5  t3_7877lj  t1_douolfx    3.0  1.510159e+09   \n",
       "\n",
       "      controversiality  gilded       id subreddit  ups distinguished  \\\n",
       "234                  0       0  douee2k   Liberal  NaN           NaN   \n",
       "5515                 0       0  doul2sv   Liberal  NaN           NaN   \n",
       "8320                 0       0  douolfx   Liberal  NaN           NaN   \n",
       "8898                 0       0  doup9cm   Liberal  NaN           NaN   \n",
       "9087                 0       0  doupioi   Liberal  NaN           NaN   \n",
       "\n",
       "     author_flair_css_class  \n",
       "234                     NaN  \n",
       "5515                    NaN  \n",
       "8320                    NaN  \n",
       "8898                    NaN  \n",
       "9087                    NaN  "
      ]
     },
     "execution_count": 12,
     "metadata": {},
     "output_type": "execute_result"
    }
   ],
   "source": [
    "reddit_libs.head()"
   ]
  },
  {
   "cell_type": "code",
   "execution_count": 22,
   "metadata": {},
   "outputs": [
    {
     "data": {
      "text/plain": [
       "body                      13449\n",
       "score_hidden                  0\n",
       "archived                      0\n",
       "name                          0\n",
       "author                    13449\n",
       "author_flair_text             9\n",
       "downs                         0\n",
       "created_utc               13449\n",
       "subreddit_id              13449\n",
       "link_id                   13449\n",
       "parent_id                 13449\n",
       "score                     13449\n",
       "retrieved_on              13449\n",
       "controversiality          13449\n",
       "gilded                    13449\n",
       "id                        13449\n",
       "subreddit                 13449\n",
       "ups                           0\n",
       "distinguished                 4\n",
       "author_flair_css_class        0\n",
       "dtype: int64"
      ]
     },
     "execution_count": 22,
     "metadata": {},
     "output_type": "execute_result"
    }
   ],
   "source": [
    "reddit_libs.count()"
   ]
  },
  {
   "cell_type": "code",
   "execution_count": 279,
   "metadata": {},
   "outputs": [],
   "source": [
    "reddit_cons = reddit_pol[reddit_pol.subreddit == 'Conservative']"
   ]
  },
  {
   "cell_type": "code",
   "execution_count": 280,
   "metadata": {
    "scrolled": false
   },
   "outputs": [
    {
     "data": {
      "text/html": [
       "<div>\n",
       "<style scoped>\n",
       "    .dataframe tbody tr th:only-of-type {\n",
       "        vertical-align: middle;\n",
       "    }\n",
       "\n",
       "    .dataframe tbody tr th {\n",
       "        vertical-align: top;\n",
       "    }\n",
       "\n",
       "    .dataframe thead th {\n",
       "        text-align: right;\n",
       "    }\n",
       "</style>\n",
       "<table border=\"1\" class=\"dataframe\">\n",
       "  <thead>\n",
       "    <tr style=\"text-align: right;\">\n",
       "      <th></th>\n",
       "      <th>body</th>\n",
       "      <th>score_hidden</th>\n",
       "      <th>archived</th>\n",
       "      <th>name</th>\n",
       "      <th>author</th>\n",
       "      <th>author_flair_text</th>\n",
       "      <th>downs</th>\n",
       "      <th>created_utc</th>\n",
       "      <th>subreddit_id</th>\n",
       "      <th>link_id</th>\n",
       "      <th>parent_id</th>\n",
       "      <th>score</th>\n",
       "      <th>retrieved_on</th>\n",
       "      <th>controversiality</th>\n",
       "      <th>gilded</th>\n",
       "      <th>id</th>\n",
       "      <th>subreddit</th>\n",
       "      <th>ups</th>\n",
       "      <th>distinguished</th>\n",
       "      <th>author_flair_css_class</th>\n",
       "    </tr>\n",
       "  </thead>\n",
       "  <tbody>\n",
       "    <tr>\n",
       "      <th>50</th>\n",
       "      <td>Catholic student group at the oldest Catholic ...</td>\n",
       "      <td>NaN</td>\n",
       "      <td>NaN</td>\n",
       "      <td>NaN</td>\n",
       "      <td>YankeeBlues21</td>\n",
       "      <td>NaN</td>\n",
       "      <td>NaN</td>\n",
       "      <td>1508889664</td>\n",
       "      <td>t5_2qh6p</td>\n",
       "      <td>t3_78jxnk</td>\n",
       "      <td>t3_78jxnk</td>\n",
       "      <td>9.0</td>\n",
       "      <td>1.510153e+09</td>\n",
       "      <td>0</td>\n",
       "      <td>0</td>\n",
       "      <td>doue6jk</td>\n",
       "      <td>Conservative</td>\n",
       "      <td>NaN</td>\n",
       "      <td>NaN</td>\n",
       "      <td>NaN</td>\n",
       "    </tr>\n",
       "    <tr>\n",
       "      <th>51</th>\n",
       "      <td>I'm no troll and until Trump was nominated, I...</td>\n",
       "      <td>NaN</td>\n",
       "      <td>NaN</td>\n",
       "      <td>NaN</td>\n",
       "      <td>VSxTravesty</td>\n",
       "      <td>NaN</td>\n",
       "      <td>NaN</td>\n",
       "      <td>1508889664</td>\n",
       "      <td>t5_2qh6p</td>\n",
       "      <td>t3_78hxuc</td>\n",
       "      <td>t1_doudbxz</td>\n",
       "      <td>54.0</td>\n",
       "      <td>1.510153e+09</td>\n",
       "      <td>0</td>\n",
       "      <td>0</td>\n",
       "      <td>doue6kc</td>\n",
       "      <td>Conservative</td>\n",
       "      <td>NaN</td>\n",
       "      <td>NaN</td>\n",
       "      <td>NaN</td>\n",
       "    </tr>\n",
       "    <tr>\n",
       "      <th>63</th>\n",
       "      <td>Jesus Christ dude. Todays news cycle is one th...</td>\n",
       "      <td>NaN</td>\n",
       "      <td>NaN</td>\n",
       "      <td>NaN</td>\n",
       "      <td>dlc_protocol</td>\n",
       "      <td>NaN</td>\n",
       "      <td>NaN</td>\n",
       "      <td>1508889686</td>\n",
       "      <td>t5_2qh6p</td>\n",
       "      <td>t3_78jrry</td>\n",
       "      <td>t3_78jrry</td>\n",
       "      <td>10.0</td>\n",
       "      <td>1.510153e+09</td>\n",
       "      <td>0</td>\n",
       "      <td>0</td>\n",
       "      <td>doue775</td>\n",
       "      <td>Conservative</td>\n",
       "      <td>NaN</td>\n",
       "      <td>NaN</td>\n",
       "      <td>NaN</td>\n",
       "    </tr>\n",
       "    <tr>\n",
       "      <th>98</th>\n",
       "      <td>Sadly, I hope this doesn't progress.  None of ...</td>\n",
       "      <td>NaN</td>\n",
       "      <td>NaN</td>\n",
       "      <td>NaN</td>\n",
       "      <td>xtehh</td>\n",
       "      <td>NaN</td>\n",
       "      <td>NaN</td>\n",
       "      <td>1508889727</td>\n",
       "      <td>t5_2qh6p</td>\n",
       "      <td>t3_78ify8</td>\n",
       "      <td>t3_78ify8</td>\n",
       "      <td>1.0</td>\n",
       "      <td>1.510153e+09</td>\n",
       "      <td>0</td>\n",
       "      <td>0</td>\n",
       "      <td>doue8gw</td>\n",
       "      <td>Conservative</td>\n",
       "      <td>NaN</td>\n",
       "      <td>NaN</td>\n",
       "      <td>NaN</td>\n",
       "    </tr>\n",
       "    <tr>\n",
       "      <th>124</th>\n",
       "      <td>As an outsider, I would love for you to explai...</td>\n",
       "      <td>NaN</td>\n",
       "      <td>NaN</td>\n",
       "      <td>NaN</td>\n",
       "      <td>exocortex</td>\n",
       "      <td>NaN</td>\n",
       "      <td>NaN</td>\n",
       "      <td>1508889752</td>\n",
       "      <td>t5_2qh6p</td>\n",
       "      <td>t3_78i6b1</td>\n",
       "      <td>t1_dou3boi</td>\n",
       "      <td>6.0</td>\n",
       "      <td>1.510153e+09</td>\n",
       "      <td>0</td>\n",
       "      <td>0</td>\n",
       "      <td>doue978</td>\n",
       "      <td>Conservative</td>\n",
       "      <td>NaN</td>\n",
       "      <td>NaN</td>\n",
       "      <td>NaN</td>\n",
       "    </tr>\n",
       "  </tbody>\n",
       "</table>\n",
       "</div>"
      ],
      "text/plain": [
       "                                                  body  score_hidden  \\\n",
       "50   Catholic student group at the oldest Catholic ...           NaN   \n",
       "51    I'm no troll and until Trump was nominated, I...           NaN   \n",
       "63   Jesus Christ dude. Todays news cycle is one th...           NaN   \n",
       "98   Sadly, I hope this doesn't progress.  None of ...           NaN   \n",
       "124  As an outsider, I would love for you to explai...           NaN   \n",
       "\n",
       "     archived  name         author author_flair_text  downs  created_utc  \\\n",
       "50        NaN   NaN  YankeeBlues21               NaN    NaN   1508889664   \n",
       "51        NaN   NaN    VSxTravesty               NaN    NaN   1508889664   \n",
       "63        NaN   NaN   dlc_protocol               NaN    NaN   1508889686   \n",
       "98        NaN   NaN          xtehh               NaN    NaN   1508889727   \n",
       "124       NaN   NaN      exocortex               NaN    NaN   1508889752   \n",
       "\n",
       "    subreddit_id    link_id   parent_id  score  retrieved_on  \\\n",
       "50      t5_2qh6p  t3_78jxnk   t3_78jxnk    9.0  1.510153e+09   \n",
       "51      t5_2qh6p  t3_78hxuc  t1_doudbxz   54.0  1.510153e+09   \n",
       "63      t5_2qh6p  t3_78jrry   t3_78jrry   10.0  1.510153e+09   \n",
       "98      t5_2qh6p  t3_78ify8   t3_78ify8    1.0  1.510153e+09   \n",
       "124     t5_2qh6p  t3_78i6b1  t1_dou3boi    6.0  1.510153e+09   \n",
       "\n",
       "     controversiality  gilded       id     subreddit  ups distinguished  \\\n",
       "50                  0       0  doue6jk  Conservative  NaN           NaN   \n",
       "51                  0       0  doue6kc  Conservative  NaN           NaN   \n",
       "63                  0       0  doue775  Conservative  NaN           NaN   \n",
       "98                  0       0  doue8gw  Conservative  NaN           NaN   \n",
       "124                 0       0  doue978  Conservative  NaN           NaN   \n",
       "\n",
       "    author_flair_css_class  \n",
       "50                     NaN  \n",
       "51                     NaN  \n",
       "63                     NaN  \n",
       "98                     NaN  \n",
       "124                    NaN  "
      ]
     },
     "execution_count": 280,
     "metadata": {},
     "output_type": "execute_result"
    }
   ],
   "source": [
    "reddit_cons.head()"
   ]
  },
  {
   "cell_type": "code",
   "execution_count": 281,
   "metadata": {
    "scrolled": false
   },
   "outputs": [
    {
     "data": {
      "text/plain": [
       "body                      275683\n",
       "score_hidden                   0\n",
       "archived                       0\n",
       "name                           0\n",
       "author                    275683\n",
       "author_flair_text          83971\n",
       "downs                          0\n",
       "created_utc               275683\n",
       "subreddit_id              275683\n",
       "link_id                   275683\n",
       "parent_id                 275683\n",
       "score                     275683\n",
       "retrieved_on              275683\n",
       "controversiality          275683\n",
       "gilded                    275683\n",
       "id                        275683\n",
       "subreddit                 275683\n",
       "ups                            0\n",
       "distinguished                606\n",
       "author_flair_css_class     13794\n",
       "dtype: int64"
      ]
     },
     "execution_count": 281,
     "metadata": {},
     "output_type": "execute_result"
    }
   ],
   "source": [
    "reddit_cons.count()"
   ]
  },
  {
   "cell_type": "code",
   "execution_count": 181,
   "metadata": {},
   "outputs": [],
   "source": [
    "reddit_repubs = reddit_pol[reddit_pol.subreddit == 'Republican']"
   ]
  },
  {
   "cell_type": "code",
   "execution_count": 182,
   "metadata": {
    "scrolled": false
   },
   "outputs": [
    {
     "data": {
      "text/html": [
       "<div>\n",
       "<style scoped>\n",
       "    .dataframe tbody tr th:only-of-type {\n",
       "        vertical-align: middle;\n",
       "    }\n",
       "\n",
       "    .dataframe tbody tr th {\n",
       "        vertical-align: top;\n",
       "    }\n",
       "\n",
       "    .dataframe thead th {\n",
       "        text-align: right;\n",
       "    }\n",
       "</style>\n",
       "<table border=\"1\" class=\"dataframe\">\n",
       "  <thead>\n",
       "    <tr style=\"text-align: right;\">\n",
       "      <th></th>\n",
       "      <th>body</th>\n",
       "      <th>score_hidden</th>\n",
       "      <th>archived</th>\n",
       "      <th>name</th>\n",
       "      <th>author</th>\n",
       "      <th>author_flair_text</th>\n",
       "      <th>downs</th>\n",
       "      <th>created_utc</th>\n",
       "      <th>subreddit_id</th>\n",
       "      <th>link_id</th>\n",
       "      <th>parent_id</th>\n",
       "      <th>score</th>\n",
       "      <th>retrieved_on</th>\n",
       "      <th>controversiality</th>\n",
       "      <th>gilded</th>\n",
       "      <th>id</th>\n",
       "      <th>subreddit</th>\n",
       "      <th>ups</th>\n",
       "      <th>distinguished</th>\n",
       "      <th>author_flair_css_class</th>\n",
       "    </tr>\n",
       "  </thead>\n",
       "  <tbody>\n",
       "    <tr>\n",
       "      <th>980</th>\n",
       "      <td>Where does this fabled free trade exist?</td>\n",
       "      <td>NaN</td>\n",
       "      <td>NaN</td>\n",
       "      <td>NaN</td>\n",
       "      <td>ozric101</td>\n",
       "      <td>NaN</td>\n",
       "      <td>NaN</td>\n",
       "      <td>1508890947</td>\n",
       "      <td>t5_2qndt</td>\n",
       "      <td>t3_78ihf8</td>\n",
       "      <td>t3_78ihf8</td>\n",
       "      <td>4.0</td>\n",
       "      <td>1.510154e+09</td>\n",
       "      <td>0</td>\n",
       "      <td>0</td>\n",
       "      <td>doufbeh</td>\n",
       "      <td>Republican</td>\n",
       "      <td>NaN</td>\n",
       "      <td>NaN</td>\n",
       "      <td>NaN</td>\n",
       "    </tr>\n",
       "    <tr>\n",
       "      <th>1161</th>\n",
       "      <td>/r/Republican is a partisan subreddit.  This i...</td>\n",
       "      <td>NaN</td>\n",
       "      <td>NaN</td>\n",
       "      <td>NaN</td>\n",
       "      <td>AutoModerator</td>\n",
       "      <td>NaN</td>\n",
       "      <td>NaN</td>\n",
       "      <td>1508891177</td>\n",
       "      <td>t5_2qndt</td>\n",
       "      <td>t3_78k3q0</td>\n",
       "      <td>t3_78k3q0</td>\n",
       "      <td>1.0</td>\n",
       "      <td>1.510154e+09</td>\n",
       "      <td>0</td>\n",
       "      <td>0</td>\n",
       "      <td>doufirq</td>\n",
       "      <td>Republican</td>\n",
       "      <td>NaN</td>\n",
       "      <td>moderator</td>\n",
       "      <td>NaN</td>\n",
       "    </tr>\n",
       "    <tr>\n",
       "      <th>1327</th>\n",
       "      <td>Flake was abandoned by the new GOP, he's an ol...</td>\n",
       "      <td>NaN</td>\n",
       "      <td>NaN</td>\n",
       "      <td>NaN</td>\n",
       "      <td>thehonbtw</td>\n",
       "      <td>Libertarian</td>\n",
       "      <td>NaN</td>\n",
       "      <td>1508891426</td>\n",
       "      <td>t5_2qndt</td>\n",
       "      <td>t3_78i6ey</td>\n",
       "      <td>t1_dou6t03</td>\n",
       "      <td>35.0</td>\n",
       "      <td>1.510154e+09</td>\n",
       "      <td>0</td>\n",
       "      <td>0</td>\n",
       "      <td>doufqqw</td>\n",
       "      <td>Republican</td>\n",
       "      <td>NaN</td>\n",
       "      <td>NaN</td>\n",
       "      <td>NaN</td>\n",
       "    </tr>\n",
       "    <tr>\n",
       "      <th>1730</th>\n",
       "      <td>As a Libertarian Republican, not a proggie, I ...</td>\n",
       "      <td>NaN</td>\n",
       "      <td>NaN</td>\n",
       "      <td>NaN</td>\n",
       "      <td>thehonbtw</td>\n",
       "      <td>Libertarian</td>\n",
       "      <td>NaN</td>\n",
       "      <td>1508892018</td>\n",
       "      <td>t5_2qndt</td>\n",
       "      <td>t3_77zffm</td>\n",
       "      <td>t1_dopu70v</td>\n",
       "      <td>1.0</td>\n",
       "      <td>1.510155e+09</td>\n",
       "      <td>0</td>\n",
       "      <td>0</td>\n",
       "      <td>doug9lo</td>\n",
       "      <td>Republican</td>\n",
       "      <td>NaN</td>\n",
       "      <td>NaN</td>\n",
       "      <td>NaN</td>\n",
       "    </tr>\n",
       "    <tr>\n",
       "      <th>2232</th>\n",
       "      <td>&amp;gt; Correct, a true Conservative who is on th...</td>\n",
       "      <td>NaN</td>\n",
       "      <td>NaN</td>\n",
       "      <td>NaN</td>\n",
       "      <td>haldir2012</td>\n",
       "      <td>NaN</td>\n",
       "      <td>NaN</td>\n",
       "      <td>1508892774</td>\n",
       "      <td>t5_2qndt</td>\n",
       "      <td>t3_78i6ey</td>\n",
       "      <td>t1_dou5gxa</td>\n",
       "      <td>22.0</td>\n",
       "      <td>1.510155e+09</td>\n",
       "      <td>0</td>\n",
       "      <td>0</td>\n",
       "      <td>dougxjr</td>\n",
       "      <td>Republican</td>\n",
       "      <td>NaN</td>\n",
       "      <td>NaN</td>\n",
       "      <td>NaN</td>\n",
       "    </tr>\n",
       "  </tbody>\n",
       "</table>\n",
       "</div>"
      ],
      "text/plain": [
       "                                                   body  score_hidden  \\\n",
       "980          Where does this fabled free trade exist?             NaN   \n",
       "1161  /r/Republican is a partisan subreddit.  This i...           NaN   \n",
       "1327  Flake was abandoned by the new GOP, he's an ol...           NaN   \n",
       "1730  As a Libertarian Republican, not a proggie, I ...           NaN   \n",
       "2232  &gt; Correct, a true Conservative who is on th...           NaN   \n",
       "\n",
       "      archived  name         author author_flair_text  downs  created_utc  \\\n",
       "980        NaN   NaN       ozric101               NaN    NaN   1508890947   \n",
       "1161       NaN   NaN  AutoModerator               NaN    NaN   1508891177   \n",
       "1327       NaN   NaN      thehonbtw       Libertarian    NaN   1508891426   \n",
       "1730       NaN   NaN      thehonbtw       Libertarian    NaN   1508892018   \n",
       "2232       NaN   NaN     haldir2012               NaN    NaN   1508892774   \n",
       "\n",
       "     subreddit_id    link_id   parent_id  score  retrieved_on  \\\n",
       "980      t5_2qndt  t3_78ihf8   t3_78ihf8    4.0  1.510154e+09   \n",
       "1161     t5_2qndt  t3_78k3q0   t3_78k3q0    1.0  1.510154e+09   \n",
       "1327     t5_2qndt  t3_78i6ey  t1_dou6t03   35.0  1.510154e+09   \n",
       "1730     t5_2qndt  t3_77zffm  t1_dopu70v    1.0  1.510155e+09   \n",
       "2232     t5_2qndt  t3_78i6ey  t1_dou5gxa   22.0  1.510155e+09   \n",
       "\n",
       "      controversiality  gilded       id   subreddit  ups distinguished  \\\n",
       "980                  0       0  doufbeh  Republican  NaN           NaN   \n",
       "1161                 0       0  doufirq  Republican  NaN     moderator   \n",
       "1327                 0       0  doufqqw  Republican  NaN           NaN   \n",
       "1730                 0       0  doug9lo  Republican  NaN           NaN   \n",
       "2232                 0       0  dougxjr  Republican  NaN           NaN   \n",
       "\n",
       "     author_flair_css_class  \n",
       "980                     NaN  \n",
       "1161                    NaN  \n",
       "1327                    NaN  \n",
       "1730                    NaN  \n",
       "2232                    NaN  "
      ]
     },
     "execution_count": 182,
     "metadata": {},
     "output_type": "execute_result"
    }
   ],
   "source": [
    "reddit_repubs.head()"
   ]
  },
  {
   "cell_type": "code",
   "execution_count": 183,
   "metadata": {
    "scrolled": false
   },
   "outputs": [
    {
     "data": {
      "text/plain": [
       "body                      14633\n",
       "score_hidden                  0\n",
       "archived                      0\n",
       "name                          0\n",
       "author                    14633\n",
       "author_flair_text          2620\n",
       "downs                         0\n",
       "created_utc               14633\n",
       "subreddit_id              14633\n",
       "link_id                   14633\n",
       "parent_id                 14633\n",
       "score                     14633\n",
       "retrieved_on              14633\n",
       "controversiality          14633\n",
       "gilded                    14633\n",
       "id                        14633\n",
       "subreddit                 14633\n",
       "ups                           0\n",
       "distinguished              2340\n",
       "author_flair_css_class        1\n",
       "dtype: int64"
      ]
     },
     "execution_count": 183,
     "metadata": {},
     "output_type": "execute_result"
    }
   ],
   "source": [
    "reddit_repubs.count()"
   ]
  },
  {
   "cell_type": "code",
   "execution_count": 10,
   "metadata": {},
   "outputs": [],
   "source": [
    "reddit_dems = reddit_pol[reddit_pol.subreddit == 'democrats']"
   ]
  },
  {
   "cell_type": "code",
   "execution_count": 11,
   "metadata": {
    "scrolled": false
   },
   "outputs": [
    {
     "data": {
      "text/html": [
       "<div>\n",
       "<style scoped>\n",
       "    .dataframe tbody tr th:only-of-type {\n",
       "        vertical-align: middle;\n",
       "    }\n",
       "\n",
       "    .dataframe tbody tr th {\n",
       "        vertical-align: top;\n",
       "    }\n",
       "\n",
       "    .dataframe thead th {\n",
       "        text-align: right;\n",
       "    }\n",
       "</style>\n",
       "<table border=\"1\" class=\"dataframe\">\n",
       "  <thead>\n",
       "    <tr style=\"text-align: right;\">\n",
       "      <th></th>\n",
       "      <th>body</th>\n",
       "      <th>score_hidden</th>\n",
       "      <th>archived</th>\n",
       "      <th>name</th>\n",
       "      <th>author</th>\n",
       "      <th>author_flair_text</th>\n",
       "      <th>downs</th>\n",
       "      <th>created_utc</th>\n",
       "      <th>subreddit_id</th>\n",
       "      <th>link_id</th>\n",
       "      <th>parent_id</th>\n",
       "      <th>score</th>\n",
       "      <th>retrieved_on</th>\n",
       "      <th>controversiality</th>\n",
       "      <th>gilded</th>\n",
       "      <th>id</th>\n",
       "      <th>subreddit</th>\n",
       "      <th>ups</th>\n",
       "      <th>distinguished</th>\n",
       "      <th>author_flair_css_class</th>\n",
       "    </tr>\n",
       "  </thead>\n",
       "  <tbody>\n",
       "    <tr>\n",
       "      <th>0</th>\n",
       "      <td>Also the only president to be attacked by a ro...</td>\n",
       "      <td>NaN</td>\n",
       "      <td>NaN</td>\n",
       "      <td>NaN</td>\n",
       "      <td>xo13579</td>\n",
       "      <td>NaN</td>\n",
       "      <td>NaN</td>\n",
       "      <td>1508889603</td>\n",
       "      <td>t5_2qn70</td>\n",
       "      <td>t3_78ijb3</td>\n",
       "      <td>t3_78ijb3</td>\n",
       "      <td>1.0</td>\n",
       "      <td>1.510153e+09</td>\n",
       "      <td>0</td>\n",
       "      <td>0</td>\n",
       "      <td>doue4og</td>\n",
       "      <td>democrats</td>\n",
       "      <td>NaN</td>\n",
       "      <td>NaN</td>\n",
       "      <td>NaN</td>\n",
       "    </tr>\n",
       "    <tr>\n",
       "      <th>14</th>\n",
       "      <td>I don't understand how it could possibly be in...</td>\n",
       "      <td>NaN</td>\n",
       "      <td>NaN</td>\n",
       "      <td>NaN</td>\n",
       "      <td>last_minutiae</td>\n",
       "      <td>NaN</td>\n",
       "      <td>NaN</td>\n",
       "      <td>1508889618</td>\n",
       "      <td>t5_2qn70</td>\n",
       "      <td>t3_78f7b3</td>\n",
       "      <td>t1_dotxbdp</td>\n",
       "      <td>1.0</td>\n",
       "      <td>1.510153e+09</td>\n",
       "      <td>0</td>\n",
       "      <td>0</td>\n",
       "      <td>doue550</td>\n",
       "      <td>democrats</td>\n",
       "      <td>NaN</td>\n",
       "      <td>NaN</td>\n",
       "      <td>NaN</td>\n",
       "    </tr>\n",
       "    <tr>\n",
       "      <th>502</th>\n",
       "      <td>It is. Don’t you see other posts?</td>\n",
       "      <td>NaN</td>\n",
       "      <td>NaN</td>\n",
       "      <td>NaN</td>\n",
       "      <td>VegaThePunisher</td>\n",
       "      <td>NaN</td>\n",
       "      <td>NaN</td>\n",
       "      <td>1508890299</td>\n",
       "      <td>t5_2qn70</td>\n",
       "      <td>t3_789oai</td>\n",
       "      <td>t1_dou9cts</td>\n",
       "      <td>1.0</td>\n",
       "      <td>1.510154e+09</td>\n",
       "      <td>0</td>\n",
       "      <td>0</td>\n",
       "      <td>doueqec</td>\n",
       "      <td>democrats</td>\n",
       "      <td>NaN</td>\n",
       "      <td>NaN</td>\n",
       "      <td>NaN</td>\n",
       "    </tr>\n",
       "    <tr>\n",
       "      <th>821</th>\n",
       "      <td>this is weird. your son died... here, have som...</td>\n",
       "      <td>NaN</td>\n",
       "      <td>NaN</td>\n",
       "      <td>NaN</td>\n",
       "      <td>jarek99</td>\n",
       "      <td>NaN</td>\n",
       "      <td>NaN</td>\n",
       "      <td>1508890715</td>\n",
       "      <td>t5_2qn70</td>\n",
       "      <td>t3_78f7b3</td>\n",
       "      <td>t3_78f7b3</td>\n",
       "      <td>1.0</td>\n",
       "      <td>1.510154e+09</td>\n",
       "      <td>0</td>\n",
       "      <td>0</td>\n",
       "      <td>douf3wz</td>\n",
       "      <td>democrats</td>\n",
       "      <td>NaN</td>\n",
       "      <td>NaN</td>\n",
       "      <td>NaN</td>\n",
       "    </tr>\n",
       "    <tr>\n",
       "      <th>2238</th>\n",
       "      <td>You’re right it says please. Also the great th...</td>\n",
       "      <td>NaN</td>\n",
       "      <td>NaN</td>\n",
       "      <td>NaN</td>\n",
       "      <td>FinallyGotMyGrade10</td>\n",
       "      <td>NaN</td>\n",
       "      <td>NaN</td>\n",
       "      <td>1508892782</td>\n",
       "      <td>t5_2qn70</td>\n",
       "      <td>t3_77t0k4</td>\n",
       "      <td>t1_doqxkht</td>\n",
       "      <td>1.0</td>\n",
       "      <td>1.510155e+09</td>\n",
       "      <td>0</td>\n",
       "      <td>0</td>\n",
       "      <td>dougxsn</td>\n",
       "      <td>democrats</td>\n",
       "      <td>NaN</td>\n",
       "      <td>NaN</td>\n",
       "      <td>NaN</td>\n",
       "    </tr>\n",
       "  </tbody>\n",
       "</table>\n",
       "</div>"
      ],
      "text/plain": [
       "                                                   body  score_hidden  \\\n",
       "0     Also the only president to be attacked by a ro...           NaN   \n",
       "14    I don't understand how it could possibly be in...           NaN   \n",
       "502                   It is. Don’t you see other posts?           NaN   \n",
       "821   this is weird. your son died... here, have som...           NaN   \n",
       "2238  You’re right it says please. Also the great th...           NaN   \n",
       "\n",
       "      archived  name               author author_flair_text  downs  \\\n",
       "0          NaN   NaN              xo13579               NaN    NaN   \n",
       "14         NaN   NaN        last_minutiae               NaN    NaN   \n",
       "502        NaN   NaN      VegaThePunisher               NaN    NaN   \n",
       "821        NaN   NaN              jarek99               NaN    NaN   \n",
       "2238       NaN   NaN  FinallyGotMyGrade10               NaN    NaN   \n",
       "\n",
       "      created_utc subreddit_id    link_id   parent_id  score  retrieved_on  \\\n",
       "0      1508889603     t5_2qn70  t3_78ijb3   t3_78ijb3    1.0  1.510153e+09   \n",
       "14     1508889618     t5_2qn70  t3_78f7b3  t1_dotxbdp    1.0  1.510153e+09   \n",
       "502    1508890299     t5_2qn70  t3_789oai  t1_dou9cts    1.0  1.510154e+09   \n",
       "821    1508890715     t5_2qn70  t3_78f7b3   t3_78f7b3    1.0  1.510154e+09   \n",
       "2238   1508892782     t5_2qn70  t3_77t0k4  t1_doqxkht    1.0  1.510155e+09   \n",
       "\n",
       "      controversiality  gilded       id  subreddit  ups distinguished  \\\n",
       "0                    0       0  doue4og  democrats  NaN           NaN   \n",
       "14                   0       0  doue550  democrats  NaN           NaN   \n",
       "502                  0       0  doueqec  democrats  NaN           NaN   \n",
       "821                  0       0  douf3wz  democrats  NaN           NaN   \n",
       "2238                 0       0  dougxsn  democrats  NaN           NaN   \n",
       "\n",
       "     author_flair_css_class  \n",
       "0                       NaN  \n",
       "14                      NaN  \n",
       "502                     NaN  \n",
       "821                     NaN  \n",
       "2238                    NaN  "
      ]
     },
     "execution_count": 11,
     "metadata": {},
     "output_type": "execute_result"
    }
   ],
   "source": [
    "reddit_dems.head()"
   ]
  },
  {
   "cell_type": "code",
   "execution_count": 13,
   "metadata": {
    "scrolled": false
   },
   "outputs": [
    {
     "data": {
      "text/plain": [
       "body                      35056\n",
       "score_hidden                  0\n",
       "archived                      0\n",
       "name                          0\n",
       "author                    35056\n",
       "author_flair_text           726\n",
       "downs                         0\n",
       "created_utc               35056\n",
       "subreddit_id              35056\n",
       "link_id                   35056\n",
       "parent_id                 35056\n",
       "score                     35056\n",
       "retrieved_on              35056\n",
       "controversiality          35056\n",
       "gilded                    35056\n",
       "id                        35056\n",
       "subreddit                 35056\n",
       "ups                           0\n",
       "distinguished               792\n",
       "author_flair_css_class      726\n",
       "dtype: int64"
      ]
     },
     "execution_count": 13,
     "metadata": {},
     "output_type": "execute_result"
    }
   ],
   "source": [
    "reddit_dems.count()"
   ]
  },
  {
   "cell_type": "code",
   "execution_count": 14,
   "metadata": {},
   "outputs": [],
   "source": [
    "reddit_news = reddit_pol[reddit_pol.subreddit == 'news']"
   ]
  },
  {
   "cell_type": "code",
   "execution_count": 15,
   "metadata": {
    "scrolled": false
   },
   "outputs": [
    {
     "data": {
      "text/html": [
       "<div>\n",
       "<style scoped>\n",
       "    .dataframe tbody tr th:only-of-type {\n",
       "        vertical-align: middle;\n",
       "    }\n",
       "\n",
       "    .dataframe tbody tr th {\n",
       "        vertical-align: top;\n",
       "    }\n",
       "\n",
       "    .dataframe thead th {\n",
       "        text-align: right;\n",
       "    }\n",
       "</style>\n",
       "<table border=\"1\" class=\"dataframe\">\n",
       "  <thead>\n",
       "    <tr style=\"text-align: right;\">\n",
       "      <th></th>\n",
       "      <th>body</th>\n",
       "      <th>score_hidden</th>\n",
       "      <th>archived</th>\n",
       "      <th>name</th>\n",
       "      <th>author</th>\n",
       "      <th>author_flair_text</th>\n",
       "      <th>downs</th>\n",
       "      <th>created_utc</th>\n",
       "      <th>subreddit_id</th>\n",
       "      <th>link_id</th>\n",
       "      <th>parent_id</th>\n",
       "      <th>score</th>\n",
       "      <th>retrieved_on</th>\n",
       "      <th>controversiality</th>\n",
       "      <th>gilded</th>\n",
       "      <th>id</th>\n",
       "      <th>subreddit</th>\n",
       "      <th>ups</th>\n",
       "      <th>distinguished</th>\n",
       "      <th>author_flair_css_class</th>\n",
       "    </tr>\n",
       "  </thead>\n",
       "  <tbody>\n",
       "    <tr>\n",
       "      <th>2</th>\n",
       "      <td>don’t know much about that but rochelle might ...</td>\n",
       "      <td>NaN</td>\n",
       "      <td>NaN</td>\n",
       "      <td>NaN</td>\n",
       "      <td>Jailhaus</td>\n",
       "      <td>NaN</td>\n",
       "      <td>NaN</td>\n",
       "      <td>1508889604</td>\n",
       "      <td>t5_2qh3l</td>\n",
       "      <td>t3_78jpym</td>\n",
       "      <td>t3_78jpym</td>\n",
       "      <td>0.0</td>\n",
       "      <td>1.510153e+09</td>\n",
       "      <td>0</td>\n",
       "      <td>0</td>\n",
       "      <td>doue4q1</td>\n",
       "      <td>news</td>\n",
       "      <td>NaN</td>\n",
       "      <td>NaN</td>\n",
       "      <td>NaN</td>\n",
       "    </tr>\n",
       "    <tr>\n",
       "      <th>8</th>\n",
       "      <td>*Demons run when a good man goes to war*\\n\\n*N...</td>\n",
       "      <td>NaN</td>\n",
       "      <td>NaN</td>\n",
       "      <td>NaN</td>\n",
       "      <td>fullforce098</td>\n",
       "      <td>NaN</td>\n",
       "      <td>NaN</td>\n",
       "      <td>1508889607</td>\n",
       "      <td>t5_2qh3l</td>\n",
       "      <td>t3_78gumb</td>\n",
       "      <td>t1_dou4k7m</td>\n",
       "      <td>9.0</td>\n",
       "      <td>1.510153e+09</td>\n",
       "      <td>0</td>\n",
       "      <td>0</td>\n",
       "      <td>doue4tv</td>\n",
       "      <td>news</td>\n",
       "      <td>NaN</td>\n",
       "      <td>NaN</td>\n",
       "      <td>NaN</td>\n",
       "    </tr>\n",
       "    <tr>\n",
       "      <th>9</th>\n",
       "      <td>kids that studies way too much, Asian kids.</td>\n",
       "      <td>NaN</td>\n",
       "      <td>NaN</td>\n",
       "      <td>NaN</td>\n",
       "      <td>Edogawa1983</td>\n",
       "      <td>NaN</td>\n",
       "      <td>NaN</td>\n",
       "      <td>1508889609</td>\n",
       "      <td>t5_2qh3l</td>\n",
       "      <td>t3_78hsqz</td>\n",
       "      <td>t1_dou58l8</td>\n",
       "      <td>1.0</td>\n",
       "      <td>1.510153e+09</td>\n",
       "      <td>0</td>\n",
       "      <td>0</td>\n",
       "      <td>doue4vf</td>\n",
       "      <td>news</td>\n",
       "      <td>NaN</td>\n",
       "      <td>NaN</td>\n",
       "      <td>NaN</td>\n",
       "    </tr>\n",
       "    <tr>\n",
       "      <th>10</th>\n",
       "      <td>I'm sorry if I've not expressed my recognition...</td>\n",
       "      <td>NaN</td>\n",
       "      <td>NaN</td>\n",
       "      <td>NaN</td>\n",
       "      <td>Smudge_SMJ_</td>\n",
       "      <td>NaN</td>\n",
       "      <td>NaN</td>\n",
       "      <td>1508889612</td>\n",
       "      <td>t5_2qh3l</td>\n",
       "      <td>t3_78gumb</td>\n",
       "      <td>t1_doub9gg</td>\n",
       "      <td>2.0</td>\n",
       "      <td>1.510153e+09</td>\n",
       "      <td>0</td>\n",
       "      <td>0</td>\n",
       "      <td>doue4z2</td>\n",
       "      <td>news</td>\n",
       "      <td>NaN</td>\n",
       "      <td>NaN</td>\n",
       "      <td>NaN</td>\n",
       "    </tr>\n",
       "    <tr>\n",
       "      <th>11</th>\n",
       "      <td>The REAL world. Chaos and anarchy...a cross bw...</td>\n",
       "      <td>NaN</td>\n",
       "      <td>NaN</td>\n",
       "      <td>NaN</td>\n",
       "      <td>phbalanced1</td>\n",
       "      <td>NaN</td>\n",
       "      <td>NaN</td>\n",
       "      <td>1508889615</td>\n",
       "      <td>t5_2qh3l</td>\n",
       "      <td>t3_78gckt</td>\n",
       "      <td>t1_dotlip9</td>\n",
       "      <td>1.0</td>\n",
       "      <td>1.510153e+09</td>\n",
       "      <td>0</td>\n",
       "      <td>0</td>\n",
       "      <td>doue52k</td>\n",
       "      <td>news</td>\n",
       "      <td>NaN</td>\n",
       "      <td>NaN</td>\n",
       "      <td>NaN</td>\n",
       "    </tr>\n",
       "  </tbody>\n",
       "</table>\n",
       "</div>"
      ],
      "text/plain": [
       "                                                 body  score_hidden  archived  \\\n",
       "2   don’t know much about that but rochelle might ...           NaN       NaN   \n",
       "8   *Demons run when a good man goes to war*\\n\\n*N...           NaN       NaN   \n",
       "9         kids that studies way too much, Asian kids.           NaN       NaN   \n",
       "10  I'm sorry if I've not expressed my recognition...           NaN       NaN   \n",
       "11  The REAL world. Chaos and anarchy...a cross bw...           NaN       NaN   \n",
       "\n",
       "    name        author author_flair_text  downs  created_utc subreddit_id  \\\n",
       "2    NaN      Jailhaus               NaN    NaN   1508889604     t5_2qh3l   \n",
       "8    NaN  fullforce098               NaN    NaN   1508889607     t5_2qh3l   \n",
       "9    NaN   Edogawa1983               NaN    NaN   1508889609     t5_2qh3l   \n",
       "10   NaN   Smudge_SMJ_               NaN    NaN   1508889612     t5_2qh3l   \n",
       "11   NaN   phbalanced1               NaN    NaN   1508889615     t5_2qh3l   \n",
       "\n",
       "      link_id   parent_id  score  retrieved_on  controversiality  gilded  \\\n",
       "2   t3_78jpym   t3_78jpym    0.0  1.510153e+09                 0       0   \n",
       "8   t3_78gumb  t1_dou4k7m    9.0  1.510153e+09                 0       0   \n",
       "9   t3_78hsqz  t1_dou58l8    1.0  1.510153e+09                 0       0   \n",
       "10  t3_78gumb  t1_doub9gg    2.0  1.510153e+09                 0       0   \n",
       "11  t3_78gckt  t1_dotlip9    1.0  1.510153e+09                 0       0   \n",
       "\n",
       "         id subreddit  ups distinguished author_flair_css_class  \n",
       "2   doue4q1      news  NaN           NaN                    NaN  \n",
       "8   doue4tv      news  NaN           NaN                    NaN  \n",
       "9   doue4vf      news  NaN           NaN                    NaN  \n",
       "10  doue4z2      news  NaN           NaN                    NaN  \n",
       "11  doue52k      news  NaN           NaN                    NaN  "
      ]
     },
     "execution_count": 15,
     "metadata": {},
     "output_type": "execute_result"
    }
   ],
   "source": [
    "reddit_news.head()"
   ]
  },
  {
   "cell_type": "code",
   "execution_count": 16,
   "metadata": {
    "scrolled": false
   },
   "outputs": [
    {
     "data": {
      "text/plain": [
       "body                      4332619\n",
       "score_hidden                    0\n",
       "archived                        0\n",
       "name                            0\n",
       "author                    4332619\n",
       "author_flair_text              25\n",
       "downs                           0\n",
       "created_utc               4332619\n",
       "subreddit_id              4332619\n",
       "link_id                   4332619\n",
       "parent_id                 4332619\n",
       "score                     4332619\n",
       "retrieved_on              4332619\n",
       "controversiality          4332619\n",
       "gilded                    4332619\n",
       "id                        4332619\n",
       "subreddit                 4332619\n",
       "ups                             0\n",
       "distinguished                  98\n",
       "author_flair_css_class         25\n",
       "dtype: int64"
      ]
     },
     "execution_count": 16,
     "metadata": {},
     "output_type": "execute_result"
    }
   ],
   "source": [
    "reddit_news.count()"
   ]
  },
  {
   "cell_type": "code",
   "execution_count": 17,
   "metadata": {},
   "outputs": [],
   "source": [
    "reddit_wnews = reddit_pol[reddit_pol.subreddit == 'worldnews']"
   ]
  },
  {
   "cell_type": "code",
   "execution_count": 18,
   "metadata": {
    "scrolled": false
   },
   "outputs": [
    {
     "data": {
      "text/html": [
       "<div>\n",
       "<style scoped>\n",
       "    .dataframe tbody tr th:only-of-type {\n",
       "        vertical-align: middle;\n",
       "    }\n",
       "\n",
       "    .dataframe tbody tr th {\n",
       "        vertical-align: top;\n",
       "    }\n",
       "\n",
       "    .dataframe thead th {\n",
       "        text-align: right;\n",
       "    }\n",
       "</style>\n",
       "<table border=\"1\" class=\"dataframe\">\n",
       "  <thead>\n",
       "    <tr style=\"text-align: right;\">\n",
       "      <th></th>\n",
       "      <th>body</th>\n",
       "      <th>score_hidden</th>\n",
       "      <th>archived</th>\n",
       "      <th>name</th>\n",
       "      <th>author</th>\n",
       "      <th>author_flair_text</th>\n",
       "      <th>downs</th>\n",
       "      <th>created_utc</th>\n",
       "      <th>subreddit_id</th>\n",
       "      <th>link_id</th>\n",
       "      <th>parent_id</th>\n",
       "      <th>score</th>\n",
       "      <th>retrieved_on</th>\n",
       "      <th>controversiality</th>\n",
       "      <th>gilded</th>\n",
       "      <th>id</th>\n",
       "      <th>subreddit</th>\n",
       "      <th>ups</th>\n",
       "      <th>distinguished</th>\n",
       "      <th>author_flair_css_class</th>\n",
       "    </tr>\n",
       "  </thead>\n",
       "  <tbody>\n",
       "    <tr>\n",
       "      <th>3</th>\n",
       "      <td>It's still a good thing. For one, it lets you ...</td>\n",
       "      <td>NaN</td>\n",
       "      <td>NaN</td>\n",
       "      <td>NaN</td>\n",
       "      <td>Han55512</td>\n",
       "      <td>NaN</td>\n",
       "      <td>NaN</td>\n",
       "      <td>1508889605</td>\n",
       "      <td>t5_2qh13</td>\n",
       "      <td>t3_78ih3b</td>\n",
       "      <td>t1_dou3lrt</td>\n",
       "      <td>1.0</td>\n",
       "      <td>1.510153e+09</td>\n",
       "      <td>0</td>\n",
       "      <td>0</td>\n",
       "      <td>doue4qk</td>\n",
       "      <td>worldnews</td>\n",
       "      <td>NaN</td>\n",
       "      <td>NaN</td>\n",
       "      <td>NaN</td>\n",
       "    </tr>\n",
       "    <tr>\n",
       "      <th>5</th>\n",
       "      <td>That's not quite how adblockers work.  A brows...</td>\n",
       "      <td>NaN</td>\n",
       "      <td>NaN</td>\n",
       "      <td>NaN</td>\n",
       "      <td>rrawk</td>\n",
       "      <td>NaN</td>\n",
       "      <td>NaN</td>\n",
       "      <td>1508889605</td>\n",
       "      <td>t5_2qh13</td>\n",
       "      <td>t3_78ih3b</td>\n",
       "      <td>t1_doudv5w</td>\n",
       "      <td>-2.0</td>\n",
       "      <td>1.510153e+09</td>\n",
       "      <td>1</td>\n",
       "      <td>0</td>\n",
       "      <td>doue4r3</td>\n",
       "      <td>worldnews</td>\n",
       "      <td>NaN</td>\n",
       "      <td>NaN</td>\n",
       "      <td>NaN</td>\n",
       "    </tr>\n",
       "    <tr>\n",
       "      <th>6</th>\n",
       "      <td>It's like some bad movie you see on SyFy.\\n\\n\"...</td>\n",
       "      <td>NaN</td>\n",
       "      <td>NaN</td>\n",
       "      <td>NaN</td>\n",
       "      <td>Fiat-Libertas</td>\n",
       "      <td>NaN</td>\n",
       "      <td>NaN</td>\n",
       "      <td>1508889605</td>\n",
       "      <td>t5_2qh13</td>\n",
       "      <td>t3_78ih3b</td>\n",
       "      <td>t1_doudtf8</td>\n",
       "      <td>0.0</td>\n",
       "      <td>1.510153e+09</td>\n",
       "      <td>0</td>\n",
       "      <td>0</td>\n",
       "      <td>doue4r7</td>\n",
       "      <td>worldnews</td>\n",
       "      <td>NaN</td>\n",
       "      <td>NaN</td>\n",
       "      <td>NaN</td>\n",
       "    </tr>\n",
       "    <tr>\n",
       "      <th>17</th>\n",
       "      <td>This makes no sense, anti Monsanto stuff is ma...</td>\n",
       "      <td>NaN</td>\n",
       "      <td>NaN</td>\n",
       "      <td>NaN</td>\n",
       "      <td>factbasedorGTFO</td>\n",
       "      <td>NaN</td>\n",
       "      <td>NaN</td>\n",
       "      <td>1508889624</td>\n",
       "      <td>t5_2qh13</td>\n",
       "      <td>t3_78fiks</td>\n",
       "      <td>t1_dou083h</td>\n",
       "      <td>0.0</td>\n",
       "      <td>1.510153e+09</td>\n",
       "      <td>1</td>\n",
       "      <td>0</td>\n",
       "      <td>doue5cb</td>\n",
       "      <td>worldnews</td>\n",
       "      <td>NaN</td>\n",
       "      <td>NaN</td>\n",
       "      <td>NaN</td>\n",
       "    </tr>\n",
       "    <tr>\n",
       "      <th>19</th>\n",
       "      <td>Plus look how many millions of gallons they bu...</td>\n",
       "      <td>NaN</td>\n",
       "      <td>NaN</td>\n",
       "      <td>NaN</td>\n",
       "      <td>SpermJacker</td>\n",
       "      <td>NaN</td>\n",
       "      <td>NaN</td>\n",
       "      <td>1508889625</td>\n",
       "      <td>t5_2qh13</td>\n",
       "      <td>t3_78hosa</td>\n",
       "      <td>t1_dou90w9</td>\n",
       "      <td>1.0</td>\n",
       "      <td>1.510153e+09</td>\n",
       "      <td>0</td>\n",
       "      <td>0</td>\n",
       "      <td>doue5d1</td>\n",
       "      <td>worldnews</td>\n",
       "      <td>NaN</td>\n",
       "      <td>NaN</td>\n",
       "      <td>NaN</td>\n",
       "    </tr>\n",
       "  </tbody>\n",
       "</table>\n",
       "</div>"
      ],
      "text/plain": [
       "                                                 body  score_hidden  archived  \\\n",
       "3   It's still a good thing. For one, it lets you ...           NaN       NaN   \n",
       "5   That's not quite how adblockers work.  A brows...           NaN       NaN   \n",
       "6   It's like some bad movie you see on SyFy.\\n\\n\"...           NaN       NaN   \n",
       "17  This makes no sense, anti Monsanto stuff is ma...           NaN       NaN   \n",
       "19  Plus look how many millions of gallons they bu...           NaN       NaN   \n",
       "\n",
       "    name           author author_flair_text  downs  created_utc subreddit_id  \\\n",
       "3    NaN         Han55512               NaN    NaN   1508889605     t5_2qh13   \n",
       "5    NaN            rrawk               NaN    NaN   1508889605     t5_2qh13   \n",
       "6    NaN    Fiat-Libertas               NaN    NaN   1508889605     t5_2qh13   \n",
       "17   NaN  factbasedorGTFO               NaN    NaN   1508889624     t5_2qh13   \n",
       "19   NaN      SpermJacker               NaN    NaN   1508889625     t5_2qh13   \n",
       "\n",
       "      link_id   parent_id  score  retrieved_on  controversiality  gilded  \\\n",
       "3   t3_78ih3b  t1_dou3lrt    1.0  1.510153e+09                 0       0   \n",
       "5   t3_78ih3b  t1_doudv5w   -2.0  1.510153e+09                 1       0   \n",
       "6   t3_78ih3b  t1_doudtf8    0.0  1.510153e+09                 0       0   \n",
       "17  t3_78fiks  t1_dou083h    0.0  1.510153e+09                 1       0   \n",
       "19  t3_78hosa  t1_dou90w9    1.0  1.510153e+09                 0       0   \n",
       "\n",
       "         id  subreddit  ups distinguished author_flair_css_class  \n",
       "3   doue4qk  worldnews  NaN           NaN                    NaN  \n",
       "5   doue4r3  worldnews  NaN           NaN                    NaN  \n",
       "6   doue4r7  worldnews  NaN           NaN                    NaN  \n",
       "17  doue5cb  worldnews  NaN           NaN                    NaN  \n",
       "19  doue5d1  worldnews  NaN           NaN                    NaN  "
      ]
     },
     "execution_count": 18,
     "metadata": {},
     "output_type": "execute_result"
    }
   ],
   "source": [
    "reddit_wnews.head()"
   ]
  },
  {
   "cell_type": "code",
   "execution_count": 19,
   "metadata": {
    "scrolled": false
   },
   "outputs": [
    {
     "data": {
      "text/plain": [
       "body                      4119456\n",
       "score_hidden                    0\n",
       "archived                        0\n",
       "name                            0\n",
       "author                    4119456\n",
       "author_flair_text             230\n",
       "downs                           0\n",
       "created_utc               4119456\n",
       "subreddit_id              4119456\n",
       "link_id                   4119456\n",
       "parent_id                 4119456\n",
       "score                     4119456\n",
       "retrieved_on              4119456\n",
       "controversiality          4119456\n",
       "gilded                    4119456\n",
       "id                        4119456\n",
       "subreddit                 4119456\n",
       "ups                             0\n",
       "distinguished               48681\n",
       "author_flair_css_class        159\n",
       "dtype: int64"
      ]
     },
     "execution_count": 19,
     "metadata": {},
     "output_type": "execute_result"
    }
   ],
   "source": [
    "reddit_wnews.count()"
   ]
  },
  {
   "cell_type": "code",
   "execution_count": null,
   "metadata": {},
   "outputs": [],
   "source": [
    "# Load trump tweet data from csv file and create data frame\n",
    "# Store the data frame as a pickle / .pkl file for later EDA\n",
    "\n",
    "trump_tweet_data = pd.read_csv('./data/twitter/trump_tweets/tweets.csv')\n",
    "\n",
    "trump_tweet_data.to_pickle('./data/twitter/trump_tweets/trump_tweet_data.pkl')"
   ]
  },
  {
   "cell_type": "code",
   "execution_count": null,
   "metadata": {},
   "outputs": [],
   "source": [
    "# Create data frame with all of the selected subreddit's comments\n",
    "# Store the filtered data frame as a pickle / .pkl file for later EDA\n",
    "\n",
    "reddit_data = export_subreddits(subs = ['Republican','democrats','Conservative','Liberal','worldnews','news'])\n",
    "\n",
    "print(reddit_data['subreddit'].value_counts())"
   ]
  },
  {
   "cell_type": "code",
   "execution_count": null,
   "metadata": {},
   "outputs": [],
   "source": [
    "reddit_data = export_subreddits(subs = ['teenagers','The_Donald'])\n",
    "\n",
    "print(reddit_data['subreddit'].value_counts())"
   ]
  },
  {
   "cell_type": "code",
   "execution_count": null,
   "metadata": {},
   "outputs": [],
   "source": [
    "# Filtering r/teenagers data to include only flared author's comments and loading The_Donald\n",
    "\n",
    "reddit_teenagers_all = reddit_all[reddit_all['subreddit'].isin(['teenagers'])]\n",
    "\n",
    "reddit_teenagers_filtered = reddit_teenagers_all[reddit_teenagers_all['author_flair_text'].str.match('1\\d', na=False)]\n",
    "\n",
    "reddit_theDonald = reddit_all[reddit_all['subreddit'].isin(['The_Donald'])]"
   ]
  },
  {
   "cell_type": "code",
   "execution_count": null,
   "metadata": {},
   "outputs": [],
   "source": [
    "# Filtering r/teenagers data to include only flared author's comments and loading The_Donald\n",
    "\n",
    "reddit_teenagers_all = reddit_all[reddit_all['subreddit'].isin(['teenagers'])]\n",
    "\n",
    "reddit_teenagers_filtered = reddit_teenagers_all[reddit_teenagers_all['author_flair_text'].str.match('1\\d', na=False)]\n",
    "\n",
    "reddit_theDonald = reddit_all[reddit_all['subreddit'].isin(['The_Donald'])]"
   ]
  },
  {
   "cell_type": "code",
   "execution_count": null,
   "metadata": {},
   "outputs": [],
   "source": [
    "# Preliminary EDA\n",
    "\n",
    "\n",
    "print('r/teenagers (with flair filter): ' + str(reddit_teenagers_filtered.shape[0]) + ' comments')\n",
    "print('r/The_Donald: ' + str(reddit_theDonald.shape[0]) + ' comments')\n",
    "print('Trump Tweets: ' + str(twitter_trump.shape[0]) + ' tweets')\n",
    "\n",
    "# Histograms of comment word length by source\n",
    "\n",
    "plt.figure()\n",
    "reddit_teenagers_filtered['body'].str.count(' ').plot.hist(color='k', \n",
    "                                                           alpha=0.5, \n",
    "                                                           bins=[0, 5, 10, 20, 25, 50, 75, 100], \n",
    "                                                           xlim = (0,100), \n",
    "                                                           xticks = [0, 5, 10, 20, 25, 50, 75, 100],\n",
    "                                                           title = 'r/teenagers comment word count frequency'\n",
    "                                                          )\n",
    "\n",
    "plt.figure()\n",
    "reddit_theDonald['body'].str.count(' ').plot.hist(color='k', \n",
    "                                                           alpha=0.5, \n",
    "                                                           bins=[0, 5, 10, 20, 25, 50, 75, 100], \n",
    "                                                           xlim = (0,100), \n",
    "                                                           xticks = [0, 5, 10, 20, 25, 50, 75, 100],\n",
    "                                                           title = 'r/The_Donald comment word count frequency'\n",
    "                                                          )\n",
    "\n",
    "plt.figure()\n",
    "twitter_trump['text'].str.count(' ').plot.hist(color='k', \n",
    "                                                           alpha=0.5, \n",
    "                                                           bins=[0, 5, 10, 20, 25, 50, 75, 100], \n",
    "                                                           xlim = (0,100), \n",
    "                                                           xticks = [0, 5, 10, 20, 25, 50, 75, 100],\n",
    "                                                           title = 'Trump tweet word count frequency'\n",
    "                                                          )\n",
    "\n",
    "\n",
    "plt.show()\n",
    "\n",
    "# Count of comments between 5 - 50 words from each source\n",
    "\n",
    "print('r/teenagers (with flair filter): ' + str(reddit_teenagers_filtered[reddit_teenagers_filtered['body'].str.count(' ').between(5,50)].shape[0]) + ' comments between 5 - 50 words')\n",
    "print('r/The_Donald: ' + str(reddit_theDonald[reddit_theDonald['body'].str.count(' ').between(5,50)].shape[0]) + ' comments between 5 - 50 words')\n",
    "print('Trump Tweets: ' + str(twitter_trump[twitter_trump['text'].str.count(' ').between(5,50)].shape[0]) + ' tweets between 5 - 50 words')\n"
   ]
  },
  {
   "cell_type": "code",
   "execution_count": 4,
   "metadata": {
    "scrolled": true
   },
   "outputs": [
    {
     "data": {
      "text/plain": [
       "(8227305, 20)"
      ]
     },
     "execution_count": 4,
     "metadata": {},
     "output_type": "execute_result"
    }
   ],
   "source": [
    "reddit_all.shape"
   ]
  },
  {
   "cell_type": "code",
   "execution_count": 6,
   "metadata": {},
   "outputs": [
    {
     "data": {
      "text/plain": [
       "(10095377, 20)"
      ]
     },
     "execution_count": 6,
     "metadata": {},
     "output_type": "execute_result"
    }
   ],
   "source": [
    "reddit_pol.shape"
   ]
  },
  {
   "cell_type": "markdown",
   "metadata": {},
   "source": [
    "### Clean Political Reddit Comments"
   ]
  },
  {
   "cell_type": "markdown",
   "metadata": {},
   "source": [
    "#### Liberals"
   ]
  },
  {
   "cell_type": "code",
   "execution_count": 43,
   "metadata": {},
   "outputs": [],
   "source": [
    "libs_sentences, libs_tokens = sent_plus_word_tokenize(reddit_libs['body'].dropna().values)"
   ]
  },
  {
   "cell_type": "code",
   "execution_count": 47,
   "metadata": {
    "scrolled": true
   },
   "outputs": [
    {
     "data": {
      "text/plain": [
       "13449"
      ]
     },
     "execution_count": 47,
     "metadata": {},
     "output_type": "execute_result"
    }
   ],
   "source": [
    "len(libs_sentences)"
   ]
  },
  {
   "cell_type": "code",
   "execution_count": 78,
   "metadata": {},
   "outputs": [
    {
     "data": {
      "text/plain": [
       "[\"I think there's some truth to that.\",\n",
       " \"Look what's happening in Alabama.\",\n",
       " 'Moore has the GOP split and his opponent is within striking distance of winning.',\n",
       " \"The fact that there's such a close election in Alabama is telling in itself.\"]"
      ]
     },
     "execution_count": 78,
     "metadata": {},
     "output_type": "execute_result"
    }
   ],
   "source": [
    "libs_sentences[1000]"
   ]
  },
  {
   "cell_type": "code",
   "execution_count": 124,
   "metadata": {},
   "outputs": [],
   "source": [
    "#word_list = [word for line in sentence for word in line.split()]\n",
    "libs_sents = [sents for line in libs_sentences for sents in line if len(line) <= 10]"
   ]
  },
  {
   "cell_type": "code",
   "execution_count": 125,
   "metadata": {},
   "outputs": [
    {
     "data": {
      "text/plain": [
       "32688"
      ]
     },
     "execution_count": 125,
     "metadata": {},
     "output_type": "execute_result"
    }
   ],
   "source": [
    "len(libs_sents)"
   ]
  },
  {
   "cell_type": "code",
   "execution_count": 126,
   "metadata": {},
   "outputs": [
    {
     "data": {
      "text/plain": [
       "'ReXXon Mobil Drillerson \\n\\nFTW'"
      ]
     },
     "execution_count": 126,
     "metadata": {},
     "output_type": "execute_result"
    }
   ],
   "source": [
    "libs_sents[1004]"
   ]
  },
  {
   "cell_type": "code",
   "execution_count": 127,
   "metadata": {},
   "outputs": [],
   "source": [
    "libs_sents_pd = pd.DataFrame({'text':libs_sents})\n",
    "#trump = pd.DataFrame(trump_raw_list)"
   ]
  },
  {
   "cell_type": "code",
   "execution_count": 128,
   "metadata": {},
   "outputs": [
    {
     "data": {
      "text/html": [
       "<div>\n",
       "<style scoped>\n",
       "    .dataframe tbody tr th:only-of-type {\n",
       "        vertical-align: middle;\n",
       "    }\n",
       "\n",
       "    .dataframe tbody tr th {\n",
       "        vertical-align: top;\n",
       "    }\n",
       "\n",
       "    .dataframe thead th {\n",
       "        text-align: right;\n",
       "    }\n",
       "</style>\n",
       "<table border=\"1\" class=\"dataframe\">\n",
       "  <thead>\n",
       "    <tr style=\"text-align: right;\">\n",
       "      <th></th>\n",
       "      <th>text</th>\n",
       "    </tr>\n",
       "  </thead>\n",
       "  <tbody>\n",
       "    <tr>\n",
       "      <th>0</th>\n",
       "      <td>You just ignored what I said and then repeated...</td>\n",
       "    </tr>\n",
       "    <tr>\n",
       "      <th>1</th>\n",
       "      <td>The 'murican problem is the anti-democratic Ko...</td>\n",
       "    </tr>\n",
       "    <tr>\n",
       "      <th>2</th>\n",
       "      <td>Stay home, The Donald doesn’t need you help</td>\n",
       "    </tr>\n",
       "    <tr>\n",
       "      <th>3</th>\n",
       "      <td>Curious to know why people down voted this.</td>\n",
       "    </tr>\n",
       "    <tr>\n",
       "      <th>4</th>\n",
       "      <td>The author is simply stating facts that we nee...</td>\n",
       "    </tr>\n",
       "  </tbody>\n",
       "</table>\n",
       "</div>"
      ],
      "text/plain": [
       "                                                text\n",
       "0  You just ignored what I said and then repeated...\n",
       "1  The 'murican problem is the anti-democratic Ko...\n",
       "2        Stay home, The Donald doesn’t need you help\n",
       "3        Curious to know why people down voted this.\n",
       "4  The author is simply stating facts that we nee..."
      ]
     },
     "execution_count": 128,
     "metadata": {},
     "output_type": "execute_result"
    }
   ],
   "source": [
    "libs_sents_pd.head()"
   ]
  },
  {
   "cell_type": "code",
   "execution_count": 129,
   "metadata": {},
   "outputs": [],
   "source": [
    "# Perform all desired pre-processing and split data into \n",
    "# panda series of raw comments and list of list of tokens.\n",
    "libs_comments, libs_x_tokens = make_data(libs_sents_pd, commentfield='text', canonize=True, stem=False, tokenizer=TweetTokenizer())"
   ]
  },
  {
   "cell_type": "code",
   "execution_count": 130,
   "metadata": {
    "scrolled": true
   },
   "outputs": [
    {
     "data": {
      "text/plain": [
       "0    You just ignored what I said and then repeated...\n",
       "1    The 'murican problem is the anti-democratic Ko...\n",
       "2          Stay home, The Donald doesn’t need you help\n",
       "3          Curious to know why people down voted this.\n",
       "4    The author is simply stating facts that we nee...\n",
       "Name: text, dtype: object"
      ]
     },
     "execution_count": 130,
     "metadata": {},
     "output_type": "execute_result"
    }
   ],
   "source": [
    "libs_comments.head()"
   ]
  },
  {
   "cell_type": "code",
   "execution_count": 131,
   "metadata": {
    "scrolled": true
   },
   "outputs": [
    {
     "data": {
      "text/plain": [
       "32688"
      ]
     },
     "execution_count": 131,
     "metadata": {},
     "output_type": "execute_result"
    }
   ],
   "source": [
    "len(libs_x_tokens)"
   ]
  },
  {
   "cell_type": "code",
   "execution_count": 142,
   "metadata": {
    "scrolled": false
   },
   "outputs": [
    {
     "data": {
      "text/plain": [
       "['if',\n",
       " 'you',\n",
       " \"haven't\",\n",
       " 'seen',\n",
       " 'this',\n",
       " 'guy',\n",
       " ',',\n",
       " '[',\n",
       " \"he's\",\n",
       " 'brilliant',\n",
       " ']',\n",
       " '(',\n",
       " 'postedhyperlinkvalue',\n",
       " ')',\n",
       " '.']"
      ]
     },
     "execution_count": 142,
     "metadata": {},
     "output_type": "execute_result"
    }
   ],
   "source": [
    "libs_x_tokens[36]"
   ]
  },
  {
   "cell_type": "code",
   "execution_count": 133,
   "metadata": {},
   "outputs": [],
   "source": [
    "libs_tokens = [sent for sent in libs_x_tokens if len(sent) <= 20]"
   ]
  },
  {
   "cell_type": "code",
   "execution_count": 134,
   "metadata": {
    "scrolled": true
   },
   "outputs": [
    {
     "data": {
      "text/plain": [
       "24896"
      ]
     },
     "execution_count": 134,
     "metadata": {},
     "output_type": "execute_result"
    }
   ],
   "source": [
    "len(libs_tokens)"
   ]
  },
  {
   "cell_type": "code",
   "execution_count": 159,
   "metadata": {
    "scrolled": false
   },
   "outputs": [
    {
     "data": {
      "text/plain": [
       "['if',\n",
       " 'you',\n",
       " \"haven't\",\n",
       " 'seen',\n",
       " 'this',\n",
       " 'guy',\n",
       " ',',\n",
       " '[',\n",
       " \"he's\",\n",
       " 'brilliant',\n",
       " ']',\n",
       " '(',\n",
       " 'postedhyperlinkvalue',\n",
       " ')',\n",
       " '.']"
      ]
     },
     "execution_count": 159,
     "metadata": {},
     "output_type": "execute_result"
    }
   ],
   "source": [
    "libs_tokens[25]"
   ]
  },
  {
   "cell_type": "code",
   "execution_count": 136,
   "metadata": {},
   "outputs": [],
   "source": [
    "libs_raw_list = list(map(xtoken_to_raw, libs_tokens))"
   ]
  },
  {
   "cell_type": "code",
   "execution_count": 160,
   "metadata": {},
   "outputs": [
    {
     "data": {
      "text/plain": [
       "\"if you haven't seen this guy , [ he's brilliant ] ( postedhyperlinkvalue ) .\""
      ]
     },
     "execution_count": 160,
     "metadata": {},
     "output_type": "execute_result"
    }
   ],
   "source": [
    "libs_raw_list[25]"
   ]
  },
  {
   "cell_type": "code",
   "execution_count": 161,
   "metadata": {},
   "outputs": [],
   "source": [
    "libs = pd.DataFrame({'text':libs_raw_list})\n",
    "#trump = pd.DataFrame(trump_raw_list)"
   ]
  },
  {
   "cell_type": "code",
   "execution_count": 162,
   "metadata": {
    "scrolled": false
   },
   "outputs": [
    {
     "data": {
      "text/html": [
       "<div>\n",
       "<style scoped>\n",
       "    .dataframe tbody tr th:only-of-type {\n",
       "        vertical-align: middle;\n",
       "    }\n",
       "\n",
       "    .dataframe tbody tr th {\n",
       "        vertical-align: top;\n",
       "    }\n",
       "\n",
       "    .dataframe thead th {\n",
       "        text-align: right;\n",
       "    }\n",
       "</style>\n",
       "<table border=\"1\" class=\"dataframe\">\n",
       "  <thead>\n",
       "    <tr style=\"text-align: right;\">\n",
       "      <th></th>\n",
       "      <th>text</th>\n",
       "    </tr>\n",
       "  </thead>\n",
       "  <tbody>\n",
       "    <tr>\n",
       "      <th>0</th>\n",
       "      <td>you just ignored what i said and then repeated...</td>\n",
       "    </tr>\n",
       "    <tr>\n",
       "      <th>1</th>\n",
       "      <td>the ' murican problem is the anti-democratic k...</td>\n",
       "    </tr>\n",
       "    <tr>\n",
       "      <th>2</th>\n",
       "      <td>stay home , the donald doesn ’ t need you help</td>\n",
       "    </tr>\n",
       "    <tr>\n",
       "      <th>3</th>\n",
       "      <td>curious to know why people down voted this .</td>\n",
       "    </tr>\n",
       "    <tr>\n",
       "      <th>4</th>\n",
       "      <td>the author is simply stating facts that we nee...</td>\n",
       "    </tr>\n",
       "  </tbody>\n",
       "</table>\n",
       "</div>"
      ],
      "text/plain": [
       "                                                text\n",
       "0  you just ignored what i said and then repeated...\n",
       "1  the ' murican problem is the anti-democratic k...\n",
       "2     stay home , the donald doesn ’ t need you help\n",
       "3       curious to know why people down voted this .\n",
       "4  the author is simply stating facts that we nee..."
      ]
     },
     "execution_count": 162,
     "metadata": {},
     "output_type": "execute_result"
    }
   ],
   "source": [
    "libs.head()"
   ]
  },
  {
   "cell_type": "code",
   "execution_count": 163,
   "metadata": {
    "scrolled": true
   },
   "outputs": [
    {
     "data": {
      "text/plain": [
       "text    24896\n",
       "dtype: int64"
      ]
     },
     "execution_count": 163,
     "metadata": {},
     "output_type": "execute_result"
    }
   ],
   "source": [
    "libs.count()"
   ]
  },
  {
   "cell_type": "code",
   "execution_count": 164,
   "metadata": {},
   "outputs": [
    {
     "data": {
      "text/plain": [
       "\"if you haven't seen this guy , [ he's brilliant ] ( postedhyperlinkvalue ) .\""
      ]
     },
     "execution_count": 164,
     "metadata": {},
     "output_type": "execute_result"
    }
   ],
   "source": [
    "libs.text[25]"
   ]
  },
  {
   "cell_type": "code",
   "execution_count": 173,
   "metadata": {},
   "outputs": [],
   "source": [
    "libs_train, libs_validate, libs_test, libs_pd = build_model_input(pandas_df=reddit_libs, commentfield='body', post_length=10, sent_length=20)"
   ]
  },
  {
   "cell_type": "code",
   "execution_count": 168,
   "metadata": {
    "scrolled": false
   },
   "outputs": [
    {
     "data": {
      "text/html": [
       "<div>\n",
       "<style scoped>\n",
       "    .dataframe tbody tr th:only-of-type {\n",
       "        vertical-align: middle;\n",
       "    }\n",
       "\n",
       "    .dataframe tbody tr th {\n",
       "        vertical-align: top;\n",
       "    }\n",
       "\n",
       "    .dataframe thead th {\n",
       "        text-align: right;\n",
       "    }\n",
       "</style>\n",
       "<table border=\"1\" class=\"dataframe\">\n",
       "  <thead>\n",
       "    <tr style=\"text-align: right;\">\n",
       "      <th></th>\n",
       "      <th>body</th>\n",
       "    </tr>\n",
       "  </thead>\n",
       "  <tbody>\n",
       "    <tr>\n",
       "      <th>0</th>\n",
       "      <td>you just ignored what i said and then repeated...</td>\n",
       "    </tr>\n",
       "    <tr>\n",
       "      <th>1</th>\n",
       "      <td>the ' murican problem is the anti-democratic k...</td>\n",
       "    </tr>\n",
       "    <tr>\n",
       "      <th>2</th>\n",
       "      <td>stay home , the donald doesn ’ t need you help</td>\n",
       "    </tr>\n",
       "    <tr>\n",
       "      <th>3</th>\n",
       "      <td>curious to know why people down voted this .</td>\n",
       "    </tr>\n",
       "    <tr>\n",
       "      <th>4</th>\n",
       "      <td>the author is simply stating facts that we nee...</td>\n",
       "    </tr>\n",
       "  </tbody>\n",
       "</table>\n",
       "</div>"
      ],
      "text/plain": [
       "                                                body\n",
       "0  you just ignored what i said and then repeated...\n",
       "1  the ' murican problem is the anti-democratic k...\n",
       "2     stay home , the donald doesn ’ t need you help\n",
       "3       curious to know why people down voted this .\n",
       "4  the author is simply stating facts that we nee..."
      ]
     },
     "execution_count": 168,
     "metadata": {},
     "output_type": "execute_result"
    }
   ],
   "source": [
    "libs_pd.head()"
   ]
  },
  {
   "cell_type": "code",
   "execution_count": 169,
   "metadata": {
    "scrolled": true
   },
   "outputs": [
    {
     "data": {
      "text/plain": [
       "body    24896\n",
       "dtype: int64"
      ]
     },
     "execution_count": 169,
     "metadata": {},
     "output_type": "execute_result"
    }
   ],
   "source": [
    "libs_pd.count()"
   ]
  },
  {
   "cell_type": "code",
   "execution_count": 177,
   "metadata": {
    "scrolled": true
   },
   "outputs": [
    {
     "data": {
      "text/plain": [
       "\"if you haven't seen this guy , [ he's brilliant ] ( postedhyperlinkvalue ) .\""
      ]
     },
     "execution_count": 177,
     "metadata": {},
     "output_type": "execute_result"
    }
   ],
   "source": [
    "libs_pd.body[25]"
   ]
  },
  {
   "cell_type": "code",
   "execution_count": 174,
   "metadata": {},
   "outputs": [
    {
     "data": {
      "text/plain": [
       "body    14937\n",
       "dtype: int64"
      ]
     },
     "execution_count": 174,
     "metadata": {},
     "output_type": "execute_result"
    }
   ],
   "source": [
    "libs_train.count()"
   ]
  },
  {
   "cell_type": "code",
   "execution_count": 175,
   "metadata": {},
   "outputs": [
    {
     "data": {
      "text/plain": [
       "body    4980\n",
       "dtype: int64"
      ]
     },
     "execution_count": 175,
     "metadata": {},
     "output_type": "execute_result"
    }
   ],
   "source": [
    "libs_test.count()"
   ]
  },
  {
   "cell_type": "code",
   "execution_count": 176,
   "metadata": {},
   "outputs": [
    {
     "data": {
      "text/plain": [
       "body    4979\n",
       "dtype: int64"
      ]
     },
     "execution_count": 176,
     "metadata": {},
     "output_type": "execute_result"
    }
   ],
   "source": [
    "libs_validate.count()"
   ]
  },
  {
   "cell_type": "code",
   "execution_count": 178,
   "metadata": {},
   "outputs": [],
   "source": [
    "libs_train.to_csv('../../data/reddit_liberals.train.0', sep='\\t', index=False, header=False)"
   ]
  },
  {
   "cell_type": "code",
   "execution_count": 179,
   "metadata": {},
   "outputs": [],
   "source": [
    "libs_test.to_csv('../../data/reddit_liberals.test.0', sep='\\t', index=False, header=False)"
   ]
  },
  {
   "cell_type": "code",
   "execution_count": 180,
   "metadata": {},
   "outputs": [],
   "source": [
    "libs_validate.to_csv('../../data/reddit_liberals.dev.0', sep='\\t', index=False, header=False)"
   ]
  },
  {
   "cell_type": "markdown",
   "metadata": {},
   "source": [
    "#### Democrats"
   ]
  },
  {
   "cell_type": "code",
   "execution_count": 249,
   "metadata": {},
   "outputs": [],
   "source": [
    "dems_train, dems_validate, dems_test, dems_pd = build_model_input(pandas_df=reddit_dems, commentfield='body', post_length=10, sent_length=20)"
   ]
  },
  {
   "cell_type": "code",
   "execution_count": 250,
   "metadata": {
    "scrolled": false
   },
   "outputs": [
    {
     "data": {
      "text/html": [
       "<div>\n",
       "<style scoped>\n",
       "    .dataframe tbody tr th:only-of-type {\n",
       "        vertical-align: middle;\n",
       "    }\n",
       "\n",
       "    .dataframe tbody tr th {\n",
       "        vertical-align: top;\n",
       "    }\n",
       "\n",
       "    .dataframe thead th {\n",
       "        text-align: right;\n",
       "    }\n",
       "</style>\n",
       "<table border=\"1\" class=\"dataframe\">\n",
       "  <thead>\n",
       "    <tr style=\"text-align: right;\">\n",
       "      <th></th>\n",
       "      <th>body</th>\n",
       "    </tr>\n",
       "  </thead>\n",
       "  <tbody>\n",
       "    <tr>\n",
       "      <th>0</th>\n",
       "      <td>also the only president to be attacked by a ro...</td>\n",
       "    </tr>\n",
       "    <tr>\n",
       "      <th>1</th>\n",
       "      <td>i don't understand how it could possibly be in...</td>\n",
       "    </tr>\n",
       "    <tr>\n",
       "      <th>2</th>\n",
       "      <td>it is .</td>\n",
       "    </tr>\n",
       "    <tr>\n",
       "      <th>3</th>\n",
       "      <td>don ’ t you see other posts ?</td>\n",
       "    </tr>\n",
       "    <tr>\n",
       "      <th>4</th>\n",
       "      <td>this is weird .</td>\n",
       "    </tr>\n",
       "  </tbody>\n",
       "</table>\n",
       "</div>"
      ],
      "text/plain": [
       "                                                body\n",
       "0  also the only president to be attacked by a ro...\n",
       "1  i don't understand how it could possibly be in...\n",
       "2                                            it is .\n",
       "3                      don ’ t you see other posts ?\n",
       "4                                    this is weird ."
      ]
     },
     "execution_count": 250,
     "metadata": {},
     "output_type": "execute_result"
    }
   ],
   "source": [
    "dems_pd.head()"
   ]
  },
  {
   "cell_type": "code",
   "execution_count": 251,
   "metadata": {
    "scrolled": true
   },
   "outputs": [
    {
     "data": {
      "text/plain": [
       "body    65836\n",
       "dtype: int64"
      ]
     },
     "execution_count": 251,
     "metadata": {},
     "output_type": "execute_result"
    }
   ],
   "source": [
    "dems_pd.count()"
   ]
  },
  {
   "cell_type": "code",
   "execution_count": 274,
   "metadata": {
    "scrolled": true
   },
   "outputs": [
    {
     "data": {
      "text/plain": [
       "\"just because hate groups are being banned doesn't mean your brony subreddit is going to be banned .\""
      ]
     },
     "execution_count": 274,
     "metadata": {},
     "output_type": "execute_result"
    }
   ],
   "source": [
    "dems_pd.body[2000]"
   ]
  },
  {
   "cell_type": "code",
   "execution_count": 275,
   "metadata": {},
   "outputs": [
    {
     "data": {
      "text/plain": [
       "body    39501\n",
       "dtype: int64"
      ]
     },
     "execution_count": 275,
     "metadata": {},
     "output_type": "execute_result"
    }
   ],
   "source": [
    "dems_train.count()"
   ]
  },
  {
   "cell_type": "code",
   "execution_count": 276,
   "metadata": {},
   "outputs": [
    {
     "data": {
      "text/plain": [
       "body    13168\n",
       "dtype: int64"
      ]
     },
     "execution_count": 276,
     "metadata": {},
     "output_type": "execute_result"
    }
   ],
   "source": [
    "dems_test.count()"
   ]
  },
  {
   "cell_type": "code",
   "execution_count": 277,
   "metadata": {},
   "outputs": [
    {
     "data": {
      "text/plain": [
       "body    13167\n",
       "dtype: int64"
      ]
     },
     "execution_count": 277,
     "metadata": {},
     "output_type": "execute_result"
    }
   ],
   "source": [
    "dems_validate.count()"
   ]
  },
  {
   "cell_type": "code",
   "execution_count": 178,
   "metadata": {},
   "outputs": [],
   "source": [
    "dems_train.to_csv('../../data/reddit_democrats.train.0', sep='\\t', index=False, header=False)"
   ]
  },
  {
   "cell_type": "code",
   "execution_count": 179,
   "metadata": {},
   "outputs": [],
   "source": [
    "dems_test.to_csv('../../data/reddit_democrats.test.0', sep='\\t', index=False, header=False)"
   ]
  },
  {
   "cell_type": "code",
   "execution_count": 180,
   "metadata": {},
   "outputs": [],
   "source": [
    "dems_validate.to_csv('../../data/reddit_democrats.dev.0', sep='\\t', index=False, header=False)"
   ]
  },
  {
   "cell_type": "markdown",
   "metadata": {},
   "source": [
    "#### Conservatives"
   ]
  },
  {
   "cell_type": "code",
   "execution_count": 282,
   "metadata": {},
   "outputs": [],
   "source": [
    "cons_train, cons_validate, cons_test, cons_pd = build_model_input(pandas_df=reddit_cons, commentfield='body', post_length=10, sent_length=20)"
   ]
  },
  {
   "cell_type": "code",
   "execution_count": 283,
   "metadata": {
    "scrolled": true
   },
   "outputs": [
    {
     "data": {
      "text/html": [
       "<div>\n",
       "<style scoped>\n",
       "    .dataframe tbody tr th:only-of-type {\n",
       "        vertical-align: middle;\n",
       "    }\n",
       "\n",
       "    .dataframe tbody tr th {\n",
       "        vertical-align: top;\n",
       "    }\n",
       "\n",
       "    .dataframe thead th {\n",
       "        text-align: right;\n",
       "    }\n",
       "</style>\n",
       "<table border=\"1\" class=\"dataframe\">\n",
       "  <thead>\n",
       "    <tr style=\"text-align: right;\">\n",
       "      <th></th>\n",
       "      <th>body</th>\n",
       "    </tr>\n",
       "  </thead>\n",
       "  <tbody>\n",
       "    <tr>\n",
       "      <th>0</th>\n",
       "      <td>#nottheonion</td>\n",
       "    </tr>\n",
       "    <tr>\n",
       "      <th>1</th>\n",
       "      <td>i'm no troll and until trump was nominated , i...</td>\n",
       "    </tr>\n",
       "    <tr>\n",
       "      <th>2</th>\n",
       "      <td>president obama was the first to make the prob...</td>\n",
       "    </tr>\n",
       "    <tr>\n",
       "      <th>3</th>\n",
       "      <td>jesus christ dude .</td>\n",
       "    </tr>\n",
       "    <tr>\n",
       "      <th>4</th>\n",
       "      <td>todays news cycle is one that just wont stop g...</td>\n",
       "    </tr>\n",
       "  </tbody>\n",
       "</table>\n",
       "</div>"
      ],
      "text/plain": [
       "                                                body\n",
       "0                                       #nottheonion\n",
       "1  i'm no troll and until trump was nominated , i...\n",
       "2  president obama was the first to make the prob...\n",
       "3                                jesus christ dude .\n",
       "4  todays news cycle is one that just wont stop g..."
      ]
     },
     "execution_count": 283,
     "metadata": {},
     "output_type": "execute_result"
    }
   ],
   "source": [
    "cons_pd.head()"
   ]
  },
  {
   "cell_type": "code",
   "execution_count": 284,
   "metadata": {
    "scrolled": true
   },
   "outputs": [
    {
     "data": {
      "text/plain": [
       "body    494021\n",
       "dtype: int64"
      ]
     },
     "execution_count": 284,
     "metadata": {},
     "output_type": "execute_result"
    }
   ],
   "source": [
    "cons_pd.count()"
   ]
  },
  {
   "cell_type": "code",
   "execution_count": 285,
   "metadata": {
    "scrolled": true
   },
   "outputs": [
    {
     "data": {
      "text/plain": [
       "'can you give me any pre-trump sources ?'"
      ]
     },
     "execution_count": 285,
     "metadata": {},
     "output_type": "execute_result"
    }
   ],
   "source": [
    "cons_pd.body[25]"
   ]
  },
  {
   "cell_type": "code",
   "execution_count": 286,
   "metadata": {},
   "outputs": [
    {
     "data": {
      "text/plain": [
       "body    296412\n",
       "dtype: int64"
      ]
     },
     "execution_count": 286,
     "metadata": {},
     "output_type": "execute_result"
    }
   ],
   "source": [
    "cons_train.count()"
   ]
  },
  {
   "cell_type": "code",
   "execution_count": 287,
   "metadata": {},
   "outputs": [
    {
     "data": {
      "text/plain": [
       "body    98805\n",
       "dtype: int64"
      ]
     },
     "execution_count": 287,
     "metadata": {},
     "output_type": "execute_result"
    }
   ],
   "source": [
    "cons_test.count()"
   ]
  },
  {
   "cell_type": "code",
   "execution_count": 288,
   "metadata": {},
   "outputs": [
    {
     "data": {
      "text/plain": [
       "body    98804\n",
       "dtype: int64"
      ]
     },
     "execution_count": 288,
     "metadata": {},
     "output_type": "execute_result"
    }
   ],
   "source": [
    "cons_validate.count()"
   ]
  },
  {
   "cell_type": "code",
   "execution_count": 178,
   "metadata": {},
   "outputs": [],
   "source": [
    "cons_train.to_csv('../../data/reddit_conservatives.train.0', sep='\\t', index=False, header=False)"
   ]
  },
  {
   "cell_type": "code",
   "execution_count": 179,
   "metadata": {},
   "outputs": [],
   "source": [
    "cons_test.to_csv('../../data/reddit_conservatives.test.0', sep='\\t', index=False, header=False)"
   ]
  },
  {
   "cell_type": "code",
   "execution_count": 180,
   "metadata": {},
   "outputs": [],
   "source": [
    "cons_validate.to_csv('../../data/reddit_conservatives.dev.0', sep='\\t', index=False, header=False)"
   ]
  },
  {
   "cell_type": "markdown",
   "metadata": {},
   "source": [
    "#### Republicans"
   ]
  },
  {
   "cell_type": "code",
   "execution_count": 239,
   "metadata": {},
   "outputs": [],
   "source": [
    "repubs_train, repubs_validate, repubs_test, repubs_pd = build_model_input(pandas_df=reddit_repubs, commentfield='body', post_length=10, sent_length=20)"
   ]
  },
  {
   "cell_type": "code",
   "execution_count": 240,
   "metadata": {
    "scrolled": false
   },
   "outputs": [
    {
     "data": {
      "text/html": [
       "<div>\n",
       "<style scoped>\n",
       "    .dataframe tbody tr th:only-of-type {\n",
       "        vertical-align: middle;\n",
       "    }\n",
       "\n",
       "    .dataframe tbody tr th {\n",
       "        vertical-align: top;\n",
       "    }\n",
       "\n",
       "    .dataframe thead th {\n",
       "        text-align: right;\n",
       "    }\n",
       "</style>\n",
       "<table border=\"1\" class=\"dataframe\">\n",
       "  <thead>\n",
       "    <tr style=\"text-align: right;\">\n",
       "      <th></th>\n",
       "      <th>body</th>\n",
       "    </tr>\n",
       "  </thead>\n",
       "  <tbody>\n",
       "    <tr>\n",
       "      <th>0</th>\n",
       "      <td>where does this fabled free trade exist ?</td>\n",
       "    </tr>\n",
       "    <tr>\n",
       "      <th>1</th>\n",
       "      <td>/ r / republican is a partisan subreddit .</td>\n",
       "    </tr>\n",
       "    <tr>\n",
       "      <th>2</th>\n",
       "      <td>this is a place for republicans to discuss iss...</td>\n",
       "    </tr>\n",
       "    <tr>\n",
       "      <th>3</th>\n",
       "      <td>] ( postedhyperlinkvalue ) * i am a bot , and ...</td>\n",
       "    </tr>\n",
       "    <tr>\n",
       "      <th>4</th>\n",
       "      <td>*</td>\n",
       "    </tr>\n",
       "  </tbody>\n",
       "</table>\n",
       "</div>"
      ],
      "text/plain": [
       "                                                body\n",
       "0          where does this fabled free trade exist ?\n",
       "1         / r / republican is a partisan subreddit .\n",
       "2  this is a place for republicans to discuss iss...\n",
       "3  ] ( postedhyperlinkvalue ) * i am a bot , and ...\n",
       "4                                                  *"
      ]
     },
     "execution_count": 240,
     "metadata": {},
     "output_type": "execute_result"
    }
   ],
   "source": [
    "repubs_pd.head()"
   ]
  },
  {
   "cell_type": "code",
   "execution_count": 241,
   "metadata": {
    "scrolled": true
   },
   "outputs": [
    {
     "data": {
      "text/plain": [
       "body    31683\n",
       "dtype: int64"
      ]
     },
     "execution_count": 241,
     "metadata": {},
     "output_type": "execute_result"
    }
   ],
   "source": [
    "repubs_pd.count()"
   ]
  },
  {
   "cell_type": "code",
   "execution_count": 242,
   "metadata": {
    "scrolled": true
   },
   "outputs": [
    {
     "data": {
      "text/plain": [
       "'i could see that being a DGDGDGDG play to get more house and senate seats .'"
      ]
     },
     "execution_count": 242,
     "metadata": {},
     "output_type": "execute_result"
    }
   ],
   "source": [
    "repubs_pd.body[43]"
   ]
  },
  {
   "cell_type": "code",
   "execution_count": 243,
   "metadata": {},
   "outputs": [
    {
     "data": {
      "text/plain": [
       "body    19009\n",
       "dtype: int64"
      ]
     },
     "execution_count": 243,
     "metadata": {},
     "output_type": "execute_result"
    }
   ],
   "source": [
    "repubs_train.count()"
   ]
  },
  {
   "cell_type": "code",
   "execution_count": 244,
   "metadata": {},
   "outputs": [
    {
     "data": {
      "text/plain": [
       "body    6337\n",
       "dtype: int64"
      ]
     },
     "execution_count": 244,
     "metadata": {},
     "output_type": "execute_result"
    }
   ],
   "source": [
    "repubs_test.count()"
   ]
  },
  {
   "cell_type": "code",
   "execution_count": 245,
   "metadata": {},
   "outputs": [
    {
     "data": {
      "text/plain": [
       "body    6337\n",
       "dtype: int64"
      ]
     },
     "execution_count": 245,
     "metadata": {},
     "output_type": "execute_result"
    }
   ],
   "source": [
    "repubs_validate.count()"
   ]
  },
  {
   "cell_type": "code",
   "execution_count": 246,
   "metadata": {},
   "outputs": [],
   "source": [
    "repubs_train.to_csv('../../data/reddit_republicans.train.0', sep='\\t', index=False, header=False)"
   ]
  },
  {
   "cell_type": "code",
   "execution_count": 247,
   "metadata": {},
   "outputs": [],
   "source": [
    "repubs_test.to_csv('../../data/reddit_republicans.test.0', sep='\\t', index=False, header=False)"
   ]
  },
  {
   "cell_type": "code",
   "execution_count": 248,
   "metadata": {},
   "outputs": [],
   "source": [
    "repubs_validate.to_csv('../../data/reddit_republicans.dev.0', sep='\\t', index=False, header=False)"
   ]
  },
  {
   "cell_type": "markdown",
   "metadata": {},
   "source": [
    "### Construct v0 and v1 to Train Model"
   ]
  },
  {
   "cell_type": "code",
   "execution_count": 306,
   "metadata": {},
   "outputs": [],
   "source": [
    "#Concatenate dataframes\n",
    "#Train\n",
    "train0 = pd.concat([repubs_train, cons_train])\n",
    "train1 = pd.concat([dems_train, libs_train])\n",
    "#Test\n",
    "test0 = pd.concat([repubs_test, cons_test])\n",
    "test1 = pd.concat([dems_test, libs_test])\n",
    "#Dev\n",
    "dev0 = pd.concat([repubs_validate, cons_validate])\n",
    "dev1 = pd.concat([dems_validate, libs_validate])"
   ]
  },
  {
   "cell_type": "code",
   "execution_count": 307,
   "metadata": {},
   "outputs": [
    {
     "data": {
      "text/plain": [
       "body    315421\n",
       "dtype: int64"
      ]
     },
     "execution_count": 307,
     "metadata": {},
     "output_type": "execute_result"
    }
   ],
   "source": [
    "train0.count()"
   ]
  },
  {
   "cell_type": "code",
   "execution_count": 308,
   "metadata": {},
   "outputs": [
    {
     "data": {
      "text/plain": [
       "body    54438\n",
       "dtype: int64"
      ]
     },
     "execution_count": 308,
     "metadata": {},
     "output_type": "execute_result"
    }
   ],
   "source": [
    "train1.count()"
   ]
  },
  {
   "cell_type": "code",
   "execution_count": 309,
   "metadata": {},
   "outputs": [],
   "source": [
    "train0, discard = np.split(train0.sample(frac=1), [int(.17259*len(train0))])"
   ]
  },
  {
   "cell_type": "code",
   "execution_count": 310,
   "metadata": {},
   "outputs": [
    {
     "data": {
      "text/plain": [
       "body    54438\n",
       "dtype: int64"
      ]
     },
     "execution_count": 310,
     "metadata": {},
     "output_type": "execute_result"
    }
   ],
   "source": [
    "train0.count()"
   ]
  },
  {
   "cell_type": "code",
   "execution_count": 311,
   "metadata": {},
   "outputs": [
    {
     "data": {
      "text/plain": [
       "body    105142\n",
       "dtype: int64"
      ]
     },
     "execution_count": 311,
     "metadata": {},
     "output_type": "execute_result"
    }
   ],
   "source": [
    "test0.count()"
   ]
  },
  {
   "cell_type": "code",
   "execution_count": 312,
   "metadata": {},
   "outputs": [
    {
     "data": {
      "text/plain": [
       "body    18148\n",
       "dtype: int64"
      ]
     },
     "execution_count": 312,
     "metadata": {},
     "output_type": "execute_result"
    }
   ],
   "source": [
    "test1.count()"
   ]
  },
  {
   "cell_type": "code",
   "execution_count": 313,
   "metadata": {},
   "outputs": [],
   "source": [
    "test0, discard = np.split(test0.sample(frac=1), [int(.17260*len(test0))])"
   ]
  },
  {
   "cell_type": "code",
   "execution_count": 314,
   "metadata": {},
   "outputs": [
    {
     "data": {
      "text/plain": [
       "body    18147\n",
       "dtype: int64"
      ]
     },
     "execution_count": 314,
     "metadata": {},
     "output_type": "execute_result"
    }
   ],
   "source": [
    "test0.count()"
   ]
  },
  {
   "cell_type": "code",
   "execution_count": 315,
   "metadata": {},
   "outputs": [
    {
     "data": {
      "text/plain": [
       "body    105141\n",
       "dtype: int64"
      ]
     },
     "execution_count": 315,
     "metadata": {},
     "output_type": "execute_result"
    }
   ],
   "source": [
    "dev0.count()"
   ]
  },
  {
   "cell_type": "code",
   "execution_count": 316,
   "metadata": {},
   "outputs": [
    {
     "data": {
      "text/plain": [
       "body    18146\n",
       "dtype: int64"
      ]
     },
     "execution_count": 316,
     "metadata": {},
     "output_type": "execute_result"
    }
   ],
   "source": [
    "dev1.count()"
   ]
  },
  {
   "cell_type": "code",
   "execution_count": 317,
   "metadata": {},
   "outputs": [],
   "source": [
    "dev0, discard = np.split(dev0.sample(frac=1), [int(.17259*len(dev0))])"
   ]
  },
  {
   "cell_type": "code",
   "execution_count": 318,
   "metadata": {},
   "outputs": [
    {
     "data": {
      "text/plain": [
       "body    18146\n",
       "dtype: int64"
      ]
     },
     "execution_count": 318,
     "metadata": {},
     "output_type": "execute_result"
    }
   ],
   "source": [
    "dev0.count()"
   ]
  },
  {
   "cell_type": "code",
   "execution_count": 319,
   "metadata": {},
   "outputs": [],
   "source": [
    "train0.to_csv('../../data/reddit_repubscons.train.0', sep='\\t', index=False, header=False)"
   ]
  },
  {
   "cell_type": "code",
   "execution_count": 320,
   "metadata": {},
   "outputs": [],
   "source": [
    "test0.to_csv('../../data/reddit_repubscons.test.0', sep='\\t', index=False, header=False)"
   ]
  },
  {
   "cell_type": "code",
   "execution_count": 321,
   "metadata": {},
   "outputs": [],
   "source": [
    "dev0.to_csv('../../data/reddit_repubscons.dev.0', sep='\\t', index=False, header=False)"
   ]
  },
  {
   "cell_type": "code",
   "execution_count": 322,
   "metadata": {},
   "outputs": [],
   "source": [
    "train1.to_csv('../../data/reddit_repubscons.train.1', sep='\\t', index=False, header=False)"
   ]
  },
  {
   "cell_type": "code",
   "execution_count": 323,
   "metadata": {},
   "outputs": [],
   "source": [
    "test1.to_csv('../../data/reddit_repubscons.test.1', sep='\\t', index=False, header=False)"
   ]
  },
  {
   "cell_type": "code",
   "execution_count": 324,
   "metadata": {},
   "outputs": [],
   "source": [
    "dev1.to_csv('../../data/reddit_repubscons.dev.1', sep='\\t', index=False, header=False)"
   ]
  },
  {
   "cell_type": "markdown",
   "metadata": {},
   "source": [
    "### Clean Trump Reddit Comments"
   ]
  },
  {
   "cell_type": "code",
   "execution_count": 10,
   "metadata": {},
   "outputs": [
    {
     "data": {
      "text/plain": [
       "(11821939, 1)"
      ]
     },
     "execution_count": 10,
     "metadata": {},
     "output_type": "execute_result"
    }
   ],
   "source": [
    "theD = pd.read_csv('../../data/reddit_theDonald_sentences.csv')\n",
    "theD.shape"
   ]
  },
  {
   "cell_type": "code",
   "execution_count": 33,
   "metadata": {},
   "outputs": [],
   "source": [
    "smpl, discard = np.split(theD.sample(frac=1), [int(.15365*len(theD))])"
   ]
  },
  {
   "cell_type": "code",
   "execution_count": 23,
   "metadata": {
    "scrolled": false
   },
   "outputs": [
    {
     "data": {
      "text/html": [
       "<div>\n",
       "<style scoped>\n",
       "    .dataframe tbody tr th:only-of-type {\n",
       "        vertical-align: middle;\n",
       "    }\n",
       "\n",
       "    .dataframe tbody tr th {\n",
       "        vertical-align: top;\n",
       "    }\n",
       "\n",
       "    .dataframe thead th {\n",
       "        text-align: right;\n",
       "    }\n",
       "</style>\n",
       "<table border=\"1\" class=\"dataframe\">\n",
       "  <thead>\n",
       "    <tr style=\"text-align: right;\">\n",
       "      <th></th>\n",
       "      <th>text</th>\n",
       "    </tr>\n",
       "  </thead>\n",
       "  <tbody>\n",
       "    <tr>\n",
       "      <th>9302680</th>\n",
       "      <td>i just found this one at time : * '' there are...</td>\n",
       "    </tr>\n",
       "    <tr>\n",
       "      <th>9061838</th>\n",
       "      <td>its all right there .</td>\n",
       "    </tr>\n",
       "    <tr>\n",
       "      <th>2147763</th>\n",
       "      <td>lol</td>\n",
       "    </tr>\n",
       "    <tr>\n",
       "      <th>6452995</th>\n",
       "      <td>we 're all very good boys waiting patiently fo...</td>\n",
       "    </tr>\n",
       "    <tr>\n",
       "      <th>9546641</th>\n",
       "      <td>the jewish faith is very different that biblic...</td>\n",
       "    </tr>\n",
       "  </tbody>\n",
       "</table>\n",
       "</div>"
      ],
      "text/plain": [
       "                                                      text\n",
       "9302680  i just found this one at time : * '' there are...\n",
       "9061838                              its all right there .\n",
       "2147763                                                lol\n",
       "6452995  we 're all very good boys waiting patiently fo...\n",
       "9546641  the jewish faith is very different that biblic..."
      ]
     },
     "execution_count": 23,
     "metadata": {},
     "output_type": "execute_result"
    }
   ],
   "source": [
    "smpl.head()"
   ]
  },
  {
   "cell_type": "code",
   "execution_count": 34,
   "metadata": {
    "scrolled": false
   },
   "outputs": [
    {
     "data": {
      "text/plain": [
       "text    1816439\n",
       "dtype: int64"
      ]
     },
     "execution_count": 34,
     "metadata": {},
     "output_type": "execute_result"
    }
   ],
   "source": [
    "smpl.count()"
   ]
  },
  {
   "cell_type": "code",
   "execution_count": 35,
   "metadata": {},
   "outputs": [],
   "source": [
    "theD = smpl"
   ]
  },
  {
   "cell_type": "code",
   "execution_count": 36,
   "metadata": {
    "scrolled": true
   },
   "outputs": [
    {
     "data": {
      "text/html": [
       "<div>\n",
       "<style scoped>\n",
       "    .dataframe tbody tr th:only-of-type {\n",
       "        vertical-align: middle;\n",
       "    }\n",
       "\n",
       "    .dataframe tbody tr th {\n",
       "        vertical-align: top;\n",
       "    }\n",
       "\n",
       "    .dataframe thead th {\n",
       "        text-align: right;\n",
       "    }\n",
       "</style>\n",
       "<table border=\"1\" class=\"dataframe\">\n",
       "  <thead>\n",
       "    <tr style=\"text-align: right;\">\n",
       "      <th></th>\n",
       "      <th>text</th>\n",
       "    </tr>\n",
       "  </thead>\n",
       "  <tbody>\n",
       "    <tr>\n",
       "      <th>3918856</th>\n",
       "      <td>&amp; gt ; the company that is across the street ,...</td>\n",
       "    </tr>\n",
       "    <tr>\n",
       "      <th>1465983</th>\n",
       "      <td>seriously if i 'm wrong tell me .</td>\n",
       "    </tr>\n",
       "    <tr>\n",
       "      <th>2137069</th>\n",
       "      <td>anyway classic projection from the lefty loon ...</td>\n",
       "    </tr>\n",
       "    <tr>\n",
       "      <th>1952404</th>\n",
       "      <td>they ’ re still owned and controlled by big me...</td>\n",
       "    </tr>\n",
       "    <tr>\n",
       "      <th>1841977</th>\n",
       "      <td>have n't checked in a couple weeks .</td>\n",
       "    </tr>\n",
       "  </tbody>\n",
       "</table>\n",
       "</div>"
      ],
      "text/plain": [
       "                                                      text\n",
       "3918856  & gt ; the company that is across the street ,...\n",
       "1465983                  seriously if i 'm wrong tell me .\n",
       "2137069  anyway classic projection from the lefty loon ...\n",
       "1952404  they ’ re still owned and controlled by big me...\n",
       "1841977               have n't checked in a couple weeks ."
      ]
     },
     "execution_count": 36,
     "metadata": {},
     "output_type": "execute_result"
    }
   ],
   "source": [
    "theD.head()"
   ]
  },
  {
   "cell_type": "code",
   "execution_count": 37,
   "metadata": {},
   "outputs": [
    {
     "data": {
      "text/plain": [
       "text    1738575\n",
       "dtype: int64"
      ]
     },
     "execution_count": 37,
     "metadata": {},
     "output_type": "execute_result"
    }
   ],
   "source": [
    "# Remove problematic comments\n",
    "theD = theD[theD.text.notnull()]\n",
    "theD = theD[theD.text != '']\n",
    "theD = theD[theD.text != \"no value\"]\n",
    "theD = theD[theD.text !='[ removed ]']\n",
    "theD = theD[theD.text != '[ deleted ]']\n",
    "theD = theD[~theD.text.str.contains(\" \\ ^ This \\ ^ message \\ ^ was \\ ^ created \\ ^ by \\ ^ a \\ ^ bot\")]\n",
    "theD = theD[~theD.text.str.contains(\" \\ * \\ * Please review the rules for\")]\n",
    "theD = theD[theD.notnull()]\n",
    "\n",
    "theD.count()"
   ]
  },
  {
   "cell_type": "code",
   "execution_count": 38,
   "metadata": {
    "scrolled": true
   },
   "outputs": [
    {
     "data": {
      "text/plain": [
       "text    1738575\n",
       "dtype: int64"
      ]
     },
     "execution_count": 38,
     "metadata": {},
     "output_type": "execute_result"
    }
   ],
   "source": [
    "theD.count()"
   ]
  },
  {
   "cell_type": "code",
   "execution_count": 39,
   "metadata": {},
   "outputs": [],
   "source": [
    "# Perform all desired pre-processing and split data into \n",
    "# panda series of raw comments and list of list of tokens.\n",
    "theD_comments, theD_x_tokens = make_data(theD, commentfield='text', canonize=True, stem=False, tokenizer=RegexpTokenizer(r'\\w+'))"
   ]
  },
  {
   "cell_type": "code",
   "execution_count": 45,
   "metadata": {
    "scrolled": false
   },
   "outputs": [
    {
     "data": {
      "text/plain": [
       "3918856    & gt ; the company that is across the street ,...\n",
       "1465983                    seriously if i 'm wrong tell me .\n",
       "2137069    anyway classic projection from the lefty loon ...\n",
       "1952404    they ’ re still owned and controlled by big me...\n",
       "1841977                 have n't checked in a couple weeks .\n",
       "Name: text, dtype: object"
      ]
     },
     "execution_count": 45,
     "metadata": {},
     "output_type": "execute_result"
    }
   ],
   "source": [
    "theD_comments.head()"
   ]
  },
  {
   "cell_type": "code",
   "execution_count": 64,
   "metadata": {
    "scrolled": false
   },
   "outputs": [
    {
     "data": {
      "text/plain": [
       "1738575"
      ]
     },
     "execution_count": 64,
     "metadata": {},
     "output_type": "execute_result"
    }
   ],
   "source": [
    "len(theD_x_tokens)"
   ]
  },
  {
   "cell_type": "code",
   "execution_count": 65,
   "metadata": {
    "scrolled": false
   },
   "outputs": [
    {
     "data": {
      "text/plain": [
       "['gt',\n",
       " 'the',\n",
       " 'company',\n",
       " 'that',\n",
       " 'is',\n",
       " 'across',\n",
       " 'the',\n",
       " 'street',\n",
       " 'well',\n",
       " 'they',\n",
       " 'ai',\n",
       " 'n',\n",
       " 't',\n",
       " 'censoring',\n",
       " 'shit',\n",
       " 'and',\n",
       " 'how',\n",
       " 'will',\n",
       " 'the',\n",
       " 'democrat',\n",
       " 'troll',\n",
       " 'who',\n",
       " 'never',\n",
       " 'leaves',\n",
       " 'his',\n",
       " 'room',\n",
       " 'ever',\n",
       " 'find',\n",
       " 'out',\n",
       " 'they',\n",
       " 'are',\n",
       " 'censoring']"
      ]
     },
     "execution_count": 65,
     "metadata": {},
     "output_type": "execute_result"
    }
   ],
   "source": [
    "theD_x_tokens[0]"
   ]
  },
  {
   "cell_type": "code",
   "execution_count": 48,
   "metadata": {},
   "outputs": [],
   "source": [
    "theD_tokens = [sent for sent in theD_x_tokens if len(sent) <= 20]"
   ]
  },
  {
   "cell_type": "code",
   "execution_count": 49,
   "metadata": {
    "scrolled": true
   },
   "outputs": [
    {
     "data": {
      "text/plain": [
       "1491356"
      ]
     },
     "execution_count": 49,
     "metadata": {},
     "output_type": "execute_result"
    }
   ],
   "source": [
    "len(theD_tokens)"
   ]
  },
  {
   "cell_type": "code",
   "execution_count": 50,
   "metadata": {
    "scrolled": false
   },
   "outputs": [
    {
     "data": {
      "text/plain": [
       "['am', 'i', 'miss', 'remembering', 'this']"
      ]
     },
     "execution_count": 50,
     "metadata": {},
     "output_type": "execute_result"
    }
   ],
   "source": [
    "theD_tokens[33]"
   ]
  },
  {
   "cell_type": "code",
   "execution_count": 51,
   "metadata": {},
   "outputs": [],
   "source": [
    "theD_raw_list = list(map(xtoken_to_raw, theD_tokens))"
   ]
  },
  {
   "cell_type": "code",
   "execution_count": 52,
   "metadata": {},
   "outputs": [
    {
     "data": {
      "text/plain": [
       "'am i miss remembering this'"
      ]
     },
     "execution_count": 52,
     "metadata": {},
     "output_type": "execute_result"
    }
   ],
   "source": [
    "theD_raw_list[33]"
   ]
  },
  {
   "cell_type": "code",
   "execution_count": 53,
   "metadata": {},
   "outputs": [],
   "source": [
    "theD = pd.DataFrame({'text':theD_raw_list})\n",
    "#trump = pd.DataFrame(trump_raw_list)"
   ]
  },
  {
   "cell_type": "code",
   "execution_count": 54,
   "metadata": {
    "scrolled": false
   },
   "outputs": [
    {
     "data": {
      "text/html": [
       "<div>\n",
       "<style scoped>\n",
       "    .dataframe tbody tr th:only-of-type {\n",
       "        vertical-align: middle;\n",
       "    }\n",
       "\n",
       "    .dataframe tbody tr th {\n",
       "        vertical-align: top;\n",
       "    }\n",
       "\n",
       "    .dataframe thead th {\n",
       "        text-align: right;\n",
       "    }\n",
       "</style>\n",
       "<table border=\"1\" class=\"dataframe\">\n",
       "  <thead>\n",
       "    <tr style=\"text-align: right;\">\n",
       "      <th></th>\n",
       "      <th>text</th>\n",
       "    </tr>\n",
       "  </thead>\n",
       "  <tbody>\n",
       "    <tr>\n",
       "      <th>0</th>\n",
       "      <td>seriously if i m wrong tell me</td>\n",
       "    </tr>\n",
       "    <tr>\n",
       "      <th>1</th>\n",
       "      <td>anyway classic projection from the lefty loon ...</td>\n",
       "    </tr>\n",
       "    <tr>\n",
       "      <th>2</th>\n",
       "      <td>they re still owned and controlled by big media</td>\n",
       "    </tr>\n",
       "    <tr>\n",
       "      <th>3</th>\n",
       "      <td>have n t checked in a couple weeks</td>\n",
       "    </tr>\n",
       "    <tr>\n",
       "      <th>4</th>\n",
       "      <td>we do n t know about the black kids because he...</td>\n",
       "    </tr>\n",
       "  </tbody>\n",
       "</table>\n",
       "</div>"
      ],
      "text/plain": [
       "                                                text\n",
       "0                     seriously if i m wrong tell me\n",
       "1  anyway classic projection from the lefty loon ...\n",
       "2    they re still owned and controlled by big media\n",
       "3                 have n t checked in a couple weeks\n",
       "4  we do n t know about the black kids because he..."
      ]
     },
     "execution_count": 54,
     "metadata": {},
     "output_type": "execute_result"
    }
   ],
   "source": [
    "theD.head()"
   ]
  },
  {
   "cell_type": "code",
   "execution_count": 55,
   "metadata": {},
   "outputs": [
    {
     "data": {
      "text/plain": [
       "text    1460892\n",
       "dtype: int64"
      ]
     },
     "execution_count": 55,
     "metadata": {},
     "output_type": "execute_result"
    }
   ],
   "source": [
    "# Remove problematic comments\n",
    "theD = theD[theD.text.notnull()]\n",
    "theD = theD[theD.text != '']\n",
    "theD = theD[theD.text != \"no value\"]\n",
    "theD = theD[theD.text !='[ removed ]']\n",
    "theD = theD[theD.text != '[ deleted ]']\n",
    "theD = theD[~theD.text.str.contains(\"\\^This \\^message \\^was \\^created \\^by \\^a \\^bot\")]\n",
    "theD = theD[~theD.text.str.contains(\"\\*\\*Please review the rules for\")]\n",
    "theD = theD[theD.notnull()]\n",
    "\n",
    "theD.count()"
   ]
  },
  {
   "cell_type": "code",
   "execution_count": 56,
   "metadata": {
    "scrolled": true
   },
   "outputs": [
    {
     "data": {
      "text/plain": [
       "text    1460892\n",
       "dtype: int64"
      ]
     },
     "execution_count": 56,
     "metadata": {},
     "output_type": "execute_result"
    }
   ],
   "source": [
    "theD.count()"
   ]
  },
  {
   "cell_type": "code",
   "execution_count": 57,
   "metadata": {},
   "outputs": [],
   "source": [
    "train, validate, test = np.split(theD.sample(frac=1), [int(.6*len(theD)), int(.8*len(theD))])"
   ]
  },
  {
   "cell_type": "code",
   "execution_count": 58,
   "metadata": {
    "scrolled": false
   },
   "outputs": [
    {
     "data": {
      "text/html": [
       "<div>\n",
       "<style scoped>\n",
       "    .dataframe tbody tr th:only-of-type {\n",
       "        vertical-align: middle;\n",
       "    }\n",
       "\n",
       "    .dataframe tbody tr th {\n",
       "        vertical-align: top;\n",
       "    }\n",
       "\n",
       "    .dataframe thead th {\n",
       "        text-align: right;\n",
       "    }\n",
       "</style>\n",
       "<table border=\"1\" class=\"dataframe\">\n",
       "  <thead>\n",
       "    <tr style=\"text-align: right;\">\n",
       "      <th></th>\n",
       "      <th>text</th>\n",
       "    </tr>\n",
       "  </thead>\n",
       "  <tbody>\n",
       "    <tr>\n",
       "      <th>663248</th>\n",
       "      <td>lol i love it</td>\n",
       "    </tr>\n",
       "    <tr>\n",
       "      <th>663346</th>\n",
       "      <td>no</td>\n",
       "    </tr>\n",
       "    <tr>\n",
       "      <th>955287</th>\n",
       "      <td>the mainstream media is losing this battle bigly</td>\n",
       "    </tr>\n",
       "    <tr>\n",
       "      <th>841005</th>\n",
       "      <td>not surprising his approval rating is this hig...</td>\n",
       "    </tr>\n",
       "    <tr>\n",
       "      <th>262918</th>\n",
       "      <td>i m satisfied with that</td>\n",
       "    </tr>\n",
       "  </tbody>\n",
       "</table>\n",
       "</div>"
      ],
      "text/plain": [
       "                                                     text\n",
       "663248                                      lol i love it\n",
       "663346                                                 no\n",
       "955287   the mainstream media is losing this battle bigly\n",
       "841005  not surprising his approval rating is this hig...\n",
       "262918                            i m satisfied with that"
      ]
     },
     "execution_count": 58,
     "metadata": {},
     "output_type": "execute_result"
    }
   ],
   "source": [
    "train.head()"
   ]
  },
  {
   "cell_type": "code",
   "execution_count": 66,
   "metadata": {
    "scrolled": false
   },
   "outputs": [
    {
     "data": {
      "text/plain": [
       "text    876535\n",
       "dtype: int64"
      ]
     },
     "execution_count": 66,
     "metadata": {},
     "output_type": "execute_result"
    }
   ],
   "source": [
    "train.count()"
   ]
  },
  {
   "cell_type": "code",
   "execution_count": 60,
   "metadata": {
    "scrolled": false
   },
   "outputs": [
    {
     "data": {
      "text/html": [
       "<div>\n",
       "<style scoped>\n",
       "    .dataframe tbody tr th:only-of-type {\n",
       "        vertical-align: middle;\n",
       "    }\n",
       "\n",
       "    .dataframe tbody tr th {\n",
       "        vertical-align: top;\n",
       "    }\n",
       "\n",
       "    .dataframe thead th {\n",
       "        text-align: right;\n",
       "    }\n",
       "</style>\n",
       "<table border=\"1\" class=\"dataframe\">\n",
       "  <thead>\n",
       "    <tr style=\"text-align: right;\">\n",
       "      <th></th>\n",
       "      <th>text</th>\n",
       "    </tr>\n",
       "  </thead>\n",
       "  <tbody>\n",
       "    <tr>\n",
       "      <th>1360032</th>\n",
       "      <td>lying down it suffered</td>\n",
       "    </tr>\n",
       "    <tr>\n",
       "      <th>215090</th>\n",
       "      <td>but if the kids what to change their gender th...</td>\n",
       "    </tr>\n",
       "    <tr>\n",
       "      <th>650660</th>\n",
       "      <td>alums get to emailing</td>\n",
       "    </tr>\n",
       "    <tr>\n",
       "      <th>1092112</th>\n",
       "      <td>foreign would be a much bigger scandal</td>\n",
       "    </tr>\n",
       "    <tr>\n",
       "      <th>321826</th>\n",
       "      <td>all of us at t_d could have confirmed that</td>\n",
       "    </tr>\n",
       "  </tbody>\n",
       "</table>\n",
       "</div>"
      ],
      "text/plain": [
       "                                                      text\n",
       "1360032                             lying down it suffered\n",
       "215090   but if the kids what to change their gender th...\n",
       "650660                               alums get to emailing\n",
       "1092112             foreign would be a much bigger scandal\n",
       "321826          all of us at t_d could have confirmed that"
      ]
     },
     "execution_count": 60,
     "metadata": {},
     "output_type": "execute_result"
    }
   ],
   "source": [
    "test.head()"
   ]
  },
  {
   "cell_type": "code",
   "execution_count": 61,
   "metadata": {
    "scrolled": false
   },
   "outputs": [
    {
     "data": {
      "text/plain": [
       "text    292179\n",
       "dtype: int64"
      ]
     },
     "execution_count": 61,
     "metadata": {},
     "output_type": "execute_result"
    }
   ],
   "source": [
    "test.count()"
   ]
  },
  {
   "cell_type": "code",
   "execution_count": 62,
   "metadata": {
    "scrolled": false
   },
   "outputs": [
    {
     "data": {
      "text/html": [
       "<div>\n",
       "<style scoped>\n",
       "    .dataframe tbody tr th:only-of-type {\n",
       "        vertical-align: middle;\n",
       "    }\n",
       "\n",
       "    .dataframe tbody tr th {\n",
       "        vertical-align: top;\n",
       "    }\n",
       "\n",
       "    .dataframe thead th {\n",
       "        text-align: right;\n",
       "    }\n",
       "</style>\n",
       "<table border=\"1\" class=\"dataframe\">\n",
       "  <thead>\n",
       "    <tr style=\"text-align: right;\">\n",
       "      <th></th>\n",
       "      <th>text</th>\n",
       "    </tr>\n",
       "  </thead>\n",
       "  <tbody>\n",
       "    <tr>\n",
       "      <th>1354771</th>\n",
       "      <td>all stand for anthem</td>\n",
       "    </tr>\n",
       "    <tr>\n",
       "      <th>168721</th>\n",
       "      <td>being nearby may have been better worded</td>\n",
       "    </tr>\n",
       "    <tr>\n",
       "      <th>124241</th>\n",
       "      <td>it s going to be buried and forgotten unfortun...</td>\n",
       "    </tr>\n",
       "    <tr>\n",
       "      <th>684552</th>\n",
       "      <td>flashback to last year https youtu be 4vioqzfo6bo</td>\n",
       "    </tr>\n",
       "    <tr>\n",
       "      <th>832969</th>\n",
       "      <td>you do n t need instructions lol</td>\n",
       "    </tr>\n",
       "  </tbody>\n",
       "</table>\n",
       "</div>"
      ],
      "text/plain": [
       "                                                      text\n",
       "1354771                               all stand for anthem\n",
       "168721            being nearby may have been better worded\n",
       "124241   it s going to be buried and forgotten unfortun...\n",
       "684552   flashback to last year https youtu be 4vioqzfo6bo\n",
       "832969                    you do n t need instructions lol"
      ]
     },
     "execution_count": 62,
     "metadata": {},
     "output_type": "execute_result"
    }
   ],
   "source": [
    "validate.head()"
   ]
  },
  {
   "cell_type": "code",
   "execution_count": 63,
   "metadata": {
    "scrolled": true
   },
   "outputs": [
    {
     "data": {
      "text/plain": [
       "text    292178\n",
       "dtype: int64"
      ]
     },
     "execution_count": 63,
     "metadata": {},
     "output_type": "execute_result"
    }
   ],
   "source": [
    "validate.count()"
   ]
  },
  {
   "cell_type": "code",
   "execution_count": 67,
   "metadata": {},
   "outputs": [],
   "source": [
    "train.to_csv('../../data/reddit_thedonald.train.0', sep='\\t', index=False, header=False)"
   ]
  },
  {
   "cell_type": "code",
   "execution_count": 68,
   "metadata": {},
   "outputs": [],
   "source": [
    "test.to_csv('../../data/reddit_thedonald.test.0', sep='\\t', index=False, header=False)"
   ]
  },
  {
   "cell_type": "code",
   "execution_count": 69,
   "metadata": {},
   "outputs": [],
   "source": [
    "validate.to_csv('../../data/reddit_thedonald.dev.0', sep='\\t', index=False, header=False)"
   ]
  },
  {
   "cell_type": "code",
   "execution_count": 9,
   "metadata": {
    "scrolled": false
   },
   "outputs": [
    {
     "data": {
      "text/html": [
       "<div>\n",
       "<style scoped>\n",
       "    .dataframe tbody tr th:only-of-type {\n",
       "        vertical-align: middle;\n",
       "    }\n",
       "\n",
       "    .dataframe tbody tr th {\n",
       "        vertical-align: top;\n",
       "    }\n",
       "\n",
       "    .dataframe thead th {\n",
       "        text-align: right;\n",
       "    }\n",
       "</style>\n",
       "<table border=\"1\" class=\"dataframe\">\n",
       "  <thead>\n",
       "    <tr style=\"text-align: right;\">\n",
       "      <th></th>\n",
       "      <th>text</th>\n",
       "    </tr>\n",
       "  </thead>\n",
       "  <tbody>\n",
       "    <tr>\n",
       "      <th>0</th>\n",
       "      <td>my eye</td>\n",
       "    </tr>\n",
       "    <tr>\n",
       "      <th>3</th>\n",
       "      <td>why did they drop bomb ?</td>\n",
       "    </tr>\n",
       "    <tr>\n",
       "      <th>4</th>\n",
       "      <td>is there even more incriminating evidence in t...</td>\n",
       "    </tr>\n",
       "    <tr>\n",
       "      <th>5</th>\n",
       "      <td>if we had a gun problem in this country , ther...</td>\n",
       "    </tr>\n",
       "    <tr>\n",
       "      <th>6</th>\n",
       "      <td>i love him .</td>\n",
       "    </tr>\n",
       "  </tbody>\n",
       "</table>\n",
       "</div>"
      ],
      "text/plain": [
       "                                                text\n",
       "0                                             my eye\n",
       "3                           why did they drop bomb ?\n",
       "4  is there even more incriminating evidence in t...\n",
       "5  if we had a gun problem in this country , ther...\n",
       "6                                       i love him ."
      ]
     },
     "execution_count": 9,
     "metadata": {},
     "output_type": "execute_result"
    }
   ],
   "source": [
    "theD.head()"
   ]
  },
  {
   "cell_type": "code",
   "execution_count": null,
   "metadata": {},
   "outputs": [],
   "source": [
    "# Perform all desired pre-processing and split data into \n",
    "# panda series of raw comments, \n",
    "# list of list of tokens, and \n",
    "# panda series of target labels\n",
    "theD_comments, theD_x_tokens = make_data(theD, commentfield='text', canonize=True, stem=False)"
   ]
  },
  {
   "cell_type": "markdown",
   "metadata": {},
   "source": [
    "### Clean Trump Twitter Comments"
   ]
  },
  {
   "cell_type": "code",
   "execution_count": 4,
   "metadata": {
    "scrolled": true
   },
   "outputs": [
    {
     "data": {
      "text/plain": [
       "(60262, 1)"
      ]
     },
     "execution_count": 4,
     "metadata": {},
     "output_type": "execute_result"
    }
   ],
   "source": [
    "trump = pd.read_csv('../../data/twitter_trump_sentences.csv')\n",
    "trump.shape"
   ]
  },
  {
   "cell_type": "code",
   "execution_count": 5,
   "metadata": {
    "scrolled": true
   },
   "outputs": [
    {
     "data": {
      "text/html": [
       "<div>\n",
       "<style scoped>\n",
       "    .dataframe tbody tr th:only-of-type {\n",
       "        vertical-align: middle;\n",
       "    }\n",
       "\n",
       "    .dataframe tbody tr th {\n",
       "        vertical-align: top;\n",
       "    }\n",
       "\n",
       "    .dataframe thead th {\n",
       "        text-align: right;\n",
       "    }\n",
       "</style>\n",
       "<table border=\"1\" class=\"dataframe\">\n",
       "  <thead>\n",
       "    <tr style=\"text-align: right;\">\n",
       "      <th></th>\n",
       "      <th>text</th>\n",
       "    </tr>\n",
       "  </thead>\n",
       "  <tbody>\n",
       "    <tr>\n",
       "      <th>0</th>\n",
       "      <td>today it was my great honor to welcome preside...</td>\n",
       "    </tr>\n",
       "    <tr>\n",
       "      <th>1</th>\n",
       "      <td>.</td>\n",
       "    </tr>\n",
       "    <tr>\n",
       "      <th>2</th>\n",
       "      <td>@ asahutchinson the great governor of arkansas...</td>\n",
       "    </tr>\n",
       "    <tr>\n",
       "      <th>3</th>\n",
       "      <td>he has done an incredible job with a focus on ...</td>\n",
       "    </tr>\n",
       "    <tr>\n",
       "      <th>4</th>\n",
       "      <td>asa loves our military and our veterans .</td>\n",
       "    </tr>\n",
       "  </tbody>\n",
       "</table>\n",
       "</div>"
      ],
      "text/plain": [
       "                                                text\n",
       "0  today it was my great honor to welcome preside...\n",
       "1                                                  .\n",
       "2  @ asahutchinson the great governor of arkansas...\n",
       "3  he has done an incredible job with a focus on ...\n",
       "4          asa loves our military and our veterans ."
      ]
     },
     "execution_count": 5,
     "metadata": {},
     "output_type": "execute_result"
    }
   ],
   "source": [
    "trump.head()"
   ]
  },
  {
   "cell_type": "code",
   "execution_count": 6,
   "metadata": {},
   "outputs": [
    {
     "data": {
      "text/plain": [
       "text    60262\n",
       "dtype: int64"
      ]
     },
     "execution_count": 6,
     "metadata": {},
     "output_type": "execute_result"
    }
   ],
   "source": [
    "# Remove problematic comments\n",
    "trump = trump[trump.text.notnull()]\n",
    "trump = trump[trump.text != '']\n",
    "trump = trump[trump.text != \"no value\"]\n",
    "trump = trump[trump.text !='[ removed ]']\n",
    "trump = trump[trump.text != '[ deleted ]']\n",
    "trump = trump[~trump.text.str.contains(\"\\^This \\^message \\^was \\^created \\^by \\^a \\^bot\")]\n",
    "trump = trump[~trump.text.str.contains(\"\\*\\*Please review the rules for\")]\n",
    "trump = trump[trump.notnull()]\n",
    "\n",
    "trump.count()"
   ]
  },
  {
   "cell_type": "code",
   "execution_count": 7,
   "metadata": {
    "scrolled": true
   },
   "outputs": [
    {
     "data": {
      "text/plain": [
       "text    60262\n",
       "dtype: int64"
      ]
     },
     "execution_count": 7,
     "metadata": {},
     "output_type": "execute_result"
    }
   ],
   "source": [
    "trump.count()"
   ]
  },
  {
   "cell_type": "code",
   "execution_count": 8,
   "metadata": {},
   "outputs": [],
   "source": [
    "# Perform all desired pre-processing and split data into \n",
    "# panda series of raw comments and list of list of tokens.\n",
    "trump_comments, trump_x_tokens = make_data(trump, commentfield='text', canonize=True, stem=False, tokenizer=RegexpTokenizer(r'\\w+'))"
   ]
  },
  {
   "cell_type": "code",
   "execution_count": 9,
   "metadata": {
    "scrolled": true
   },
   "outputs": [
    {
     "data": {
      "text/plain": [
       "'today it was my great honor to welcome president moon jae-in of the republic of korea to the @ whitehouse ! 🇺🇸🇰🇷 https : //t.co/yvoxnia1dm'"
      ]
     },
     "execution_count": 9,
     "metadata": {},
     "output_type": "execute_result"
    }
   ],
   "source": [
    "trump_comments[0]"
   ]
  },
  {
   "cell_type": "code",
   "execution_count": 251,
   "metadata": {
    "scrolled": false
   },
   "outputs": [
    {
     "data": {
      "text/plain": [
       "60262"
      ]
     },
     "execution_count": 251,
     "metadata": {},
     "output_type": "execute_result"
    }
   ],
   "source": [
    "len(trump_x_tokens)"
   ]
  },
  {
   "cell_type": "code",
   "execution_count": 252,
   "metadata": {
    "scrolled": false
   },
   "outputs": [
    {
     "data": {
      "text/plain": [
       "['today',\n",
       " 'it',\n",
       " 'was',\n",
       " 'my',\n",
       " 'great',\n",
       " 'honor',\n",
       " 'to',\n",
       " 'welcome',\n",
       " 'president',\n",
       " 'moon',\n",
       " 'jae',\n",
       " 'in',\n",
       " 'of',\n",
       " 'the',\n",
       " 'republic',\n",
       " 'of',\n",
       " 'korea',\n",
       " 'to',\n",
       " 'the',\n",
       " 'whitehouse',\n",
       " 'https',\n",
       " 't',\n",
       " 'co',\n",
       " 'yvoxnia1dm']"
      ]
     },
     "execution_count": 252,
     "metadata": {},
     "output_type": "execute_result"
    }
   ],
   "source": [
    "trump_x_tokens[0]"
   ]
  },
  {
   "cell_type": "code",
   "execution_count": 373,
   "metadata": {},
   "outputs": [],
   "source": [
    "trump_tokens = [sent for sent in trump_x_tokens if len(sent) <= 20]"
   ]
  },
  {
   "cell_type": "code",
   "execution_count": 374,
   "metadata": {
    "scrolled": true
   },
   "outputs": [
    {
     "data": {
      "text/plain": [
       "53264"
      ]
     },
     "execution_count": 374,
     "metadata": {},
     "output_type": "execute_result"
    }
   ],
   "source": [
    "len(trump_tokens)"
   ]
  },
  {
   "cell_type": "code",
   "execution_count": 375,
   "metadata": {
    "scrolled": false
   },
   "outputs": [
    {
     "data": {
      "text/plain": [
       "['great',\n",
       " 'to',\n",
       " 'have',\n",
       " 'our',\n",
       " 'incredible',\n",
       " 'first',\n",
       " 'lady',\n",
       " 'back',\n",
       " 'home',\n",
       " 'in',\n",
       " 'the',\n",
       " 'white',\n",
       " 'house']"
      ]
     },
     "execution_count": 375,
     "metadata": {},
     "output_type": "execute_result"
    }
   ],
   "source": [
    "trump_tokens[33]"
   ]
  },
  {
   "cell_type": "code",
   "execution_count": 376,
   "metadata": {},
   "outputs": [],
   "source": [
    "trump_raw_list = list(map(xtoken_to_raw, trump_tokens))"
   ]
  },
  {
   "cell_type": "code",
   "execution_count": 377,
   "metadata": {},
   "outputs": [
    {
     "data": {
      "text/plain": [
       "'great to have our incredible first lady back home in the white house'"
      ]
     },
     "execution_count": 377,
     "metadata": {},
     "output_type": "execute_result"
    }
   ],
   "source": [
    "trump_raw_list[33]"
   ]
  },
  {
   "cell_type": "code",
   "execution_count": 378,
   "metadata": {},
   "outputs": [],
   "source": [
    "trump = pd.DataFrame({'text':trump_raw_list})\n",
    "#trump = pd.DataFrame(trump_raw_list)"
   ]
  },
  {
   "cell_type": "code",
   "execution_count": 379,
   "metadata": {
    "scrolled": false
   },
   "outputs": [
    {
     "data": {
      "text/html": [
       "<div>\n",
       "<style scoped>\n",
       "    .dataframe tbody tr th:only-of-type {\n",
       "        vertical-align: middle;\n",
       "    }\n",
       "\n",
       "    .dataframe tbody tr th {\n",
       "        vertical-align: top;\n",
       "    }\n",
       "\n",
       "    .dataframe thead th {\n",
       "        text-align: right;\n",
       "    }\n",
       "</style>\n",
       "<table border=\"1\" class=\"dataframe\">\n",
       "  <thead>\n",
       "    <tr style=\"text-align: right;\">\n",
       "      <th></th>\n",
       "      <th>text</th>\n",
       "    </tr>\n",
       "  </thead>\n",
       "  <tbody>\n",
       "    <tr>\n",
       "      <th>0</th>\n",
       "      <td></td>\n",
       "    </tr>\n",
       "    <tr>\n",
       "      <th>1</th>\n",
       "      <td>asahutchinson the great governor of arkansas i...</td>\n",
       "    </tr>\n",
       "    <tr>\n",
       "      <th>2</th>\n",
       "      <td>he has done an incredible job with a focus on ...</td>\n",
       "    </tr>\n",
       "    <tr>\n",
       "      <th>3</th>\n",
       "      <td>asa loves our military and our veterans</td>\n",
       "    </tr>\n",
       "    <tr>\n",
       "      <th>4</th>\n",
       "      <td>i fully endorse asa for governor</td>\n",
       "    </tr>\n",
       "  </tbody>\n",
       "</table>\n",
       "</div>"
      ],
      "text/plain": [
       "                                                text\n",
       "0                                                   \n",
       "1  asahutchinson the great governor of arkansas i...\n",
       "2  he has done an incredible job with a focus on ...\n",
       "3            asa loves our military and our veterans\n",
       "4                   i fully endorse asa for governor"
      ]
     },
     "execution_count": 379,
     "metadata": {},
     "output_type": "execute_result"
    }
   ],
   "source": [
    "trump.head()"
   ]
  },
  {
   "cell_type": "code",
   "execution_count": 380,
   "metadata": {},
   "outputs": [
    {
     "data": {
      "text/plain": [
       "text    51870\n",
       "dtype: int64"
      ]
     },
     "execution_count": 380,
     "metadata": {},
     "output_type": "execute_result"
    }
   ],
   "source": [
    "# Remove problematic comments\n",
    "trump = trump[trump.text.notnull()]\n",
    "trump = trump[trump.text != '']\n",
    "trump = trump[trump.text != \"no value\"]\n",
    "trump = trump[trump.text !='[ removed ]']\n",
    "trump = trump[trump.text != '[ deleted ]']\n",
    "trump = trump[~trump.text.str.contains(\"\\^This \\^message \\^was \\^created \\^by \\^a \\^bot\")]\n",
    "trump = trump[~trump.text.str.contains(\"\\*\\*Please review the rules for\")]\n",
    "trump = trump[trump.notnull()]\n",
    "\n",
    "trump.count()"
   ]
  },
  {
   "cell_type": "code",
   "execution_count": 381,
   "metadata": {
    "scrolled": true
   },
   "outputs": [
    {
     "data": {
      "text/plain": [
       "text    51870\n",
       "dtype: int64"
      ]
     },
     "execution_count": 381,
     "metadata": {},
     "output_type": "execute_result"
    }
   ],
   "source": [
    "trump.count()"
   ]
  },
  {
   "cell_type": "code",
   "execution_count": 382,
   "metadata": {},
   "outputs": [],
   "source": [
    "train, validate, test = np.split(trump.sample(frac=1), [int(.6*len(trump)), int(.8*len(trump))])"
   ]
  },
  {
   "cell_type": "code",
   "execution_count": 383,
   "metadata": {
    "scrolled": false
   },
   "outputs": [
    {
     "data": {
      "text/html": [
       "<div>\n",
       "<style scoped>\n",
       "    .dataframe tbody tr th:only-of-type {\n",
       "        vertical-align: middle;\n",
       "    }\n",
       "\n",
       "    .dataframe tbody tr th {\n",
       "        vertical-align: top;\n",
       "    }\n",
       "\n",
       "    .dataframe thead th {\n",
       "        text-align: right;\n",
       "    }\n",
       "</style>\n",
       "<table border=\"1\" class=\"dataframe\">\n",
       "  <thead>\n",
       "    <tr style=\"text-align: right;\">\n",
       "      <th></th>\n",
       "      <th>text</th>\n",
       "    </tr>\n",
       "  </thead>\n",
       "  <tbody>\n",
       "    <tr>\n",
       "      <th>7230</th>\n",
       "      <td>bigleaguetruth</td>\n",
       "    </tr>\n",
       "    <tr>\n",
       "      <th>42988</th>\n",
       "      <td>make the boston killer talk before our doctors...</td>\n",
       "    </tr>\n",
       "    <tr>\n",
       "      <th>43756</th>\n",
       "      <td>celebapprentice</td>\n",
       "    </tr>\n",
       "    <tr>\n",
       "      <th>24140</th>\n",
       "      <td>he will never again hold court</td>\n",
       "    </tr>\n",
       "    <tr>\n",
       "      <th>5904</th>\n",
       "      <td>design or negotiations yet</td>\n",
       "    </tr>\n",
       "  </tbody>\n",
       "</table>\n",
       "</div>"
      ],
      "text/plain": [
       "                                                    text\n",
       "7230                                      bigleaguetruth\n",
       "42988  make the boston killer talk before our doctors...\n",
       "43756                                    celebapprentice\n",
       "24140                     he will never again hold court\n",
       "5904                          design or negotiations yet"
      ]
     },
     "execution_count": 383,
     "metadata": {},
     "output_type": "execute_result"
    }
   ],
   "source": [
    "train.head()"
   ]
  },
  {
   "cell_type": "code",
   "execution_count": 384,
   "metadata": {
    "scrolled": true
   },
   "outputs": [
    {
     "data": {
      "text/plain": [
       "text    31122\n",
       "dtype: int64"
      ]
     },
     "execution_count": 384,
     "metadata": {},
     "output_type": "execute_result"
    }
   ],
   "source": [
    "train.count()"
   ]
  },
  {
   "cell_type": "code",
   "execution_count": 385,
   "metadata": {
    "scrolled": true
   },
   "outputs": [
    {
     "data": {
      "text/html": [
       "<div>\n",
       "<style scoped>\n",
       "    .dataframe tbody tr th:only-of-type {\n",
       "        vertical-align: middle;\n",
       "    }\n",
       "\n",
       "    .dataframe tbody tr th {\n",
       "        vertical-align: top;\n",
       "    }\n",
       "\n",
       "    .dataframe thead th {\n",
       "        text-align: right;\n",
       "    }\n",
       "</style>\n",
       "<table border=\"1\" class=\"dataframe\">\n",
       "  <thead>\n",
       "    <tr style=\"text-align: right;\">\n",
       "      <th></th>\n",
       "      <th>text</th>\n",
       "    </tr>\n",
       "  </thead>\n",
       "  <tbody>\n",
       "    <tr>\n",
       "      <th>31793</th>\n",
       "      <td>capitalism is where it s at</td>\n",
       "    </tr>\n",
       "    <tr>\n",
       "      <th>45340</th>\n",
       "      <td>thanks</td>\n",
       "    </tr>\n",
       "    <tr>\n",
       "      <th>18053</th>\n",
       "      <td>go jeb</td>\n",
       "    </tr>\n",
       "    <tr>\n",
       "      <th>6142</th>\n",
       "      <td>thank you to our amazing wounded warriors for ...</td>\n",
       "    </tr>\n",
       "    <tr>\n",
       "      <th>26811</th>\n",
       "      <td>azigmann realdonaldtrump donald trump for pres...</td>\n",
       "    </tr>\n",
       "  </tbody>\n",
       "</table>\n",
       "</div>"
      ],
      "text/plain": [
       "                                                    text\n",
       "31793                        capitalism is where it s at\n",
       "45340                                             thanks\n",
       "18053                                             go jeb\n",
       "6142   thank you to our amazing wounded warriors for ...\n",
       "26811  azigmann realdonaldtrump donald trump for pres..."
      ]
     },
     "execution_count": 385,
     "metadata": {},
     "output_type": "execute_result"
    }
   ],
   "source": [
    "test.head()"
   ]
  },
  {
   "cell_type": "code",
   "execution_count": 386,
   "metadata": {
    "scrolled": true
   },
   "outputs": [
    {
     "data": {
      "text/plain": [
       "text    10374\n",
       "dtype: int64"
      ]
     },
     "execution_count": 386,
     "metadata": {},
     "output_type": "execute_result"
    }
   ],
   "source": [
    "test.count()"
   ]
  },
  {
   "cell_type": "code",
   "execution_count": 387,
   "metadata": {},
   "outputs": [],
   "source": [
    "train.to_csv('../../data/twitter_trump.train.0', sep='\\t', index=False, header=False)"
   ]
  },
  {
   "cell_type": "code",
   "execution_count": 388,
   "metadata": {},
   "outputs": [],
   "source": [
    "test.to_csv('../../data/twitter_trump.test.0', sep='\\t', index=False, header=False)"
   ]
  },
  {
   "cell_type": "code",
   "execution_count": 389,
   "metadata": {},
   "outputs": [],
   "source": [
    "validate.to_csv('../../data/twitter_trump.dev.0', sep='\\t', index=False, header=False)"
   ]
  },
  {
   "cell_type": "markdown",
   "metadata": {},
   "source": [
    "### Clean Teen Reddit Comments"
   ]
  },
  {
   "cell_type": "code",
   "execution_count": 70,
   "metadata": {},
   "outputs": [
    {
     "data": {
      "text/plain": [
       "(1816680, 1)"
      ]
     },
     "execution_count": 70,
     "metadata": {},
     "output_type": "execute_result"
    }
   ],
   "source": [
    "teen = pd.read_csv('../../data/reddit_teenagers_filtered_sentences.csv')\n",
    "teen.shape"
   ]
  },
  {
   "cell_type": "code",
   "execution_count": 71,
   "metadata": {
    "scrolled": true
   },
   "outputs": [
    {
     "data": {
      "text/html": [
       "<div>\n",
       "<style scoped>\n",
       "    .dataframe tbody tr th:only-of-type {\n",
       "        vertical-align: middle;\n",
       "    }\n",
       "\n",
       "    .dataframe tbody tr th {\n",
       "        vertical-align: top;\n",
       "    }\n",
       "\n",
       "    .dataframe thead th {\n",
       "        text-align: right;\n",
       "    }\n",
       "</style>\n",
       "<table border=\"1\" class=\"dataframe\">\n",
       "  <thead>\n",
       "    <tr style=\"text-align: right;\">\n",
       "      <th></th>\n",
       "      <th>text</th>\n",
       "    </tr>\n",
       "  </thead>\n",
       "  <tbody>\n",
       "    <tr>\n",
       "      <th>0</th>\n",
       "      <td>mood</td>\n",
       "    </tr>\n",
       "    <tr>\n",
       "      <th>1</th>\n",
       "      <td>ayyyyyyy big mouth</td>\n",
       "    </tr>\n",
       "    <tr>\n",
       "      <th>2</th>\n",
       "      <td>arrested development</td>\n",
       "    </tr>\n",
       "    <tr>\n",
       "      <th>3</th>\n",
       "      <td>i have a feeling you watched jacksfilms new video</td>\n",
       "    </tr>\n",
       "    <tr>\n",
       "      <th>4</th>\n",
       "      <td>what the fuck is this comment section</td>\n",
       "    </tr>\n",
       "  </tbody>\n",
       "</table>\n",
       "</div>"
      ],
      "text/plain": [
       "                                                text\n",
       "0                                               mood\n",
       "1                                 ayyyyyyy big mouth\n",
       "2                               arrested development\n",
       "3  i have a feeling you watched jacksfilms new video\n",
       "4              what the fuck is this comment section"
      ]
     },
     "execution_count": 71,
     "metadata": {},
     "output_type": "execute_result"
    }
   ],
   "source": [
    "teen.head()"
   ]
  },
  {
   "cell_type": "code",
   "execution_count": 72,
   "metadata": {},
   "outputs": [
    {
     "data": {
      "text/plain": [
       "text    1816592\n",
       "dtype: int64"
      ]
     },
     "execution_count": 72,
     "metadata": {},
     "output_type": "execute_result"
    }
   ],
   "source": [
    "# Remove problematic comments\n",
    "teen = teen[teen.text.notnull()]\n",
    "teen = teen[teen.text != '']\n",
    "teen = teen[teen.text != \"no value\"]\n",
    "teen = teen[teen.text !='[ removed ]']\n",
    "teen = teen[teen.text != '[ deleted ]']\n",
    "teen = teen[~teen.text.str.contains(\"\\^This \\^message \\^was \\^created \\^by \\^a \\^bot\")]\n",
    "teen = teen[~teen.text.str.contains(\"\\*\\*Please review the rules for\")]\n",
    "teen = teen[teen.notnull()]\n",
    "\n",
    "teen.count()"
   ]
  },
  {
   "cell_type": "code",
   "execution_count": 73,
   "metadata": {
    "scrolled": true
   },
   "outputs": [
    {
     "data": {
      "text/plain": [
       "text    1816592\n",
       "dtype: int64"
      ]
     },
     "execution_count": 73,
     "metadata": {},
     "output_type": "execute_result"
    }
   ],
   "source": [
    "teen.count()"
   ]
  },
  {
   "cell_type": "code",
   "execution_count": 74,
   "metadata": {},
   "outputs": [],
   "source": [
    "# Perform all desired pre-processing and split data into \n",
    "# panda series of raw comments and list of list of tokens.\n",
    "teen_comments, teen_x_tokens = make_data(teen, commentfield='text', canonize=True, stem=False, tokenizer=RegexpTokenizer(r'\\w+'))"
   ]
  },
  {
   "cell_type": "code",
   "execution_count": 75,
   "metadata": {
    "scrolled": false
   },
   "outputs": [
    {
     "data": {
      "text/plain": [
       "'50 % 58 min to full'"
      ]
     },
     "execution_count": 75,
     "metadata": {},
     "output_type": "execute_result"
    }
   ],
   "source": [
    "teen_comments[3000]"
   ]
  },
  {
   "cell_type": "code",
   "execution_count": 76,
   "metadata": {
    "scrolled": false
   },
   "outputs": [
    {
     "data": {
      "text/plain": [
       "1816592"
      ]
     },
     "execution_count": 76,
     "metadata": {},
     "output_type": "execute_result"
    }
   ],
   "source": [
    "len(teen_x_tokens)"
   ]
  },
  {
   "cell_type": "code",
   "execution_count": 77,
   "metadata": {},
   "outputs": [
    {
     "data": {
      "text/plain": [
       "['DGDG', 'DGDG', 'min', 'to', 'full']"
      ]
     },
     "execution_count": 77,
     "metadata": {},
     "output_type": "execute_result"
    }
   ],
   "source": [
    "teen_x_tokens[3000]"
   ]
  },
  {
   "cell_type": "code",
   "execution_count": 78,
   "metadata": {},
   "outputs": [],
   "source": [
    "teen_tokens = [sent for sent in teen_x_tokens if len(sent) <= 20]"
   ]
  },
  {
   "cell_type": "code",
   "execution_count": 79,
   "metadata": {
    "scrolled": true
   },
   "outputs": [
    {
     "data": {
      "text/plain": [
       "1680022"
      ]
     },
     "execution_count": 79,
     "metadata": {},
     "output_type": "execute_result"
    }
   ],
   "source": [
    "len(teen_tokens)"
   ]
  },
  {
   "cell_type": "code",
   "execution_count": 80,
   "metadata": {},
   "outputs": [],
   "source": [
    "teen_raw_list = list(map(xtoken_to_raw, teen_tokens))"
   ]
  },
  {
   "cell_type": "code",
   "execution_count": 81,
   "metadata": {},
   "outputs": [
    {
     "data": {
      "text/plain": [
       "'i cant belive you posted in your own meme thread'"
      ]
     },
     "execution_count": 81,
     "metadata": {},
     "output_type": "execute_result"
    }
   ],
   "source": [
    "teen_raw_list[3000]"
   ]
  },
  {
   "cell_type": "code",
   "execution_count": 82,
   "metadata": {},
   "outputs": [],
   "source": [
    "teen = pd.DataFrame({'text':teen_raw_list})\n",
    "#teen = pd.DataFrame(teen_raw_list)"
   ]
  },
  {
   "cell_type": "code",
   "execution_count": 83,
   "metadata": {},
   "outputs": [
    {
     "data": {
      "text/plain": [
       "text    1644726\n",
       "dtype: int64"
      ]
     },
     "execution_count": 83,
     "metadata": {},
     "output_type": "execute_result"
    }
   ],
   "source": [
    "# Remove problematic comments\n",
    "teen = teen[teen.text.notnull()]\n",
    "teen = teen[teen.text != '']\n",
    "teen = teen[teen.text != \"no value\"]\n",
    "teen = teen[teen.text !='[ removed ]']\n",
    "teen = teen[teen.text != '[ deleted ]']\n",
    "teen = teen[~teen.text.str.contains(\"\\^This \\^message \\^was \\^created \\^by \\^a \\^bot\")]\n",
    "teen = teen[~teen.text.str.contains(\"\\*\\*Please review the rules for\")]\n",
    "teen = teen[teen.notnull()]\n",
    "\n",
    "teen.count()"
   ]
  },
  {
   "cell_type": "code",
   "execution_count": 84,
   "metadata": {
    "scrolled": false
   },
   "outputs": [
    {
     "data": {
      "text/html": [
       "<div>\n",
       "<style scoped>\n",
       "    .dataframe tbody tr th:only-of-type {\n",
       "        vertical-align: middle;\n",
       "    }\n",
       "\n",
       "    .dataframe tbody tr th {\n",
       "        vertical-align: top;\n",
       "    }\n",
       "\n",
       "    .dataframe thead th {\n",
       "        text-align: right;\n",
       "    }\n",
       "</style>\n",
       "<table border=\"1\" class=\"dataframe\">\n",
       "  <thead>\n",
       "    <tr style=\"text-align: right;\">\n",
       "      <th></th>\n",
       "      <th>text</th>\n",
       "    </tr>\n",
       "  </thead>\n",
       "  <tbody>\n",
       "    <tr>\n",
       "      <th>0</th>\n",
       "      <td>mood</td>\n",
       "    </tr>\n",
       "    <tr>\n",
       "      <th>1</th>\n",
       "      <td>ayy big mouth</td>\n",
       "    </tr>\n",
       "    <tr>\n",
       "      <th>2</th>\n",
       "      <td>arrested development</td>\n",
       "    </tr>\n",
       "    <tr>\n",
       "      <th>3</th>\n",
       "      <td>i have a feeling you watched jacksfilms new video</td>\n",
       "    </tr>\n",
       "    <tr>\n",
       "      <th>4</th>\n",
       "      <td>what the fuck is this comment section</td>\n",
       "    </tr>\n",
       "  </tbody>\n",
       "</table>\n",
       "</div>"
      ],
      "text/plain": [
       "                                                text\n",
       "0                                               mood\n",
       "1                                      ayy big mouth\n",
       "2                               arrested development\n",
       "3  i have a feeling you watched jacksfilms new video\n",
       "4              what the fuck is this comment section"
      ]
     },
     "execution_count": 84,
     "metadata": {},
     "output_type": "execute_result"
    }
   ],
   "source": [
    "teen.head()"
   ]
  },
  {
   "cell_type": "code",
   "execution_count": 85,
   "metadata": {},
   "outputs": [
    {
     "data": {
      "text/plain": [
       "text    1644726\n",
       "dtype: int64"
      ]
     },
     "execution_count": 85,
     "metadata": {},
     "output_type": "execute_result"
    }
   ],
   "source": [
    "teen.count()"
   ]
  },
  {
   "cell_type": "code",
   "execution_count": 86,
   "metadata": {},
   "outputs": [],
   "source": [
    "train, validate, test = np.split(teen.sample(frac=1), [int(.6*len(teen)), int(.8*len(teen))])"
   ]
  },
  {
   "cell_type": "code",
   "execution_count": 409,
   "metadata": {},
   "outputs": [
    {
     "data": {
      "text/plain": [
       "[986835, 1315780]"
      ]
     },
     "execution_count": 409,
     "metadata": {},
     "output_type": "execute_result"
    }
   ],
   "source": [
    "#[int(.6*len(teen)), int(.8*len(teen))]"
   ]
  },
  {
   "cell_type": "code",
   "execution_count": 459,
   "metadata": {},
   "outputs": [],
   "source": [
    "#train, discard = np.split(train.sample(frac=1), [int(.03155*len(train))])"
   ]
  },
  {
   "cell_type": "code",
   "execution_count": 87,
   "metadata": {
    "scrolled": true
   },
   "outputs": [
    {
     "data": {
      "text/html": [
       "<div>\n",
       "<style scoped>\n",
       "    .dataframe tbody tr th:only-of-type {\n",
       "        vertical-align: middle;\n",
       "    }\n",
       "\n",
       "    .dataframe tbody tr th {\n",
       "        vertical-align: top;\n",
       "    }\n",
       "\n",
       "    .dataframe thead th {\n",
       "        text-align: right;\n",
       "    }\n",
       "</style>\n",
       "<table border=\"1\" class=\"dataframe\">\n",
       "  <thead>\n",
       "    <tr style=\"text-align: right;\">\n",
       "      <th></th>\n",
       "      <th>text</th>\n",
       "    </tr>\n",
       "  </thead>\n",
       "  <tbody>\n",
       "    <tr>\n",
       "      <th>868442</th>\n",
       "      <td>also do you go to school</td>\n",
       "    </tr>\n",
       "    <tr>\n",
       "      <th>1640360</th>\n",
       "      <td>sigh this will go on forever uses uno reverse ...</td>\n",
       "    </tr>\n",
       "    <tr>\n",
       "      <th>49700</th>\n",
       "      <td>beautiful</td>\n",
       "    </tr>\n",
       "    <tr>\n",
       "      <th>239967</th>\n",
       "      <td>im so ugly</td>\n",
       "    </tr>\n",
       "    <tr>\n",
       "      <th>1206766</th>\n",
       "      <td>no because selfies are a picture of ones self ...</td>\n",
       "    </tr>\n",
       "  </tbody>\n",
       "</table>\n",
       "</div>"
      ],
      "text/plain": [
       "                                                      text\n",
       "868442                            also do you go to school\n",
       "1640360  sigh this will go on forever uses uno reverse ...\n",
       "49700                                            beautiful\n",
       "239967                                          im so ugly\n",
       "1206766  no because selfies are a picture of ones self ..."
      ]
     },
     "execution_count": 87,
     "metadata": {},
     "output_type": "execute_result"
    }
   ],
   "source": [
    "train.head()"
   ]
  },
  {
   "cell_type": "code",
   "execution_count": 88,
   "metadata": {
    "scrolled": true
   },
   "outputs": [
    {
     "data": {
      "text/plain": [
       "text    986835\n",
       "dtype: int64"
      ]
     },
     "execution_count": 88,
     "metadata": {},
     "output_type": "execute_result"
    }
   ],
   "source": [
    "train.count()"
   ]
  },
  {
   "cell_type": "code",
   "execution_count": 462,
   "metadata": {},
   "outputs": [],
   "source": [
    "#test, discard = np.split(test.sample(frac=1), [int(.0315*len(test))])"
   ]
  },
  {
   "cell_type": "code",
   "execution_count": 89,
   "metadata": {
    "scrolled": false
   },
   "outputs": [
    {
     "data": {
      "text/html": [
       "<div>\n",
       "<style scoped>\n",
       "    .dataframe tbody tr th:only-of-type {\n",
       "        vertical-align: middle;\n",
       "    }\n",
       "\n",
       "    .dataframe tbody tr th {\n",
       "        vertical-align: top;\n",
       "    }\n",
       "\n",
       "    .dataframe thead th {\n",
       "        text-align: right;\n",
       "    }\n",
       "</style>\n",
       "<table border=\"1\" class=\"dataframe\">\n",
       "  <thead>\n",
       "    <tr style=\"text-align: right;\">\n",
       "      <th></th>\n",
       "      <th>text</th>\n",
       "    </tr>\n",
       "  </thead>\n",
       "  <tbody>\n",
       "    <tr>\n",
       "      <th>391528</th>\n",
       "      <td>i love going to hang out with my mom s side of...</td>\n",
       "    </tr>\n",
       "    <tr>\n",
       "      <th>1267443</th>\n",
       "      <td>i mean they were warned they aren t allowed it...</td>\n",
       "    </tr>\n",
       "    <tr>\n",
       "      <th>104720</th>\n",
       "      <td>actually i think more people use it to find pe...</td>\n",
       "    </tr>\n",
       "    <tr>\n",
       "      <th>672819</th>\n",
       "      <td>why</td>\n",
       "    </tr>\n",
       "    <tr>\n",
       "      <th>130458</th>\n",
       "      <td>like DG hours</td>\n",
       "    </tr>\n",
       "  </tbody>\n",
       "</table>\n",
       "</div>"
      ],
      "text/plain": [
       "                                                      text\n",
       "391528   i love going to hang out with my mom s side of...\n",
       "1267443  i mean they were warned they aren t allowed it...\n",
       "104720   actually i think more people use it to find pe...\n",
       "672819                                                 why\n",
       "130458                                       like DG hours"
      ]
     },
     "execution_count": 89,
     "metadata": {},
     "output_type": "execute_result"
    }
   ],
   "source": [
    "test.head()"
   ]
  },
  {
   "cell_type": "code",
   "execution_count": 90,
   "metadata": {
    "scrolled": false
   },
   "outputs": [
    {
     "data": {
      "text/plain": [
       "text    328946\n",
       "dtype: int64"
      ]
     },
     "execution_count": 90,
     "metadata": {},
     "output_type": "execute_result"
    }
   ],
   "source": [
    "test.count()"
   ]
  },
  {
   "cell_type": "code",
   "execution_count": 465,
   "metadata": {},
   "outputs": [],
   "source": [
    "#validate, discard = np.split(validate.sample(frac=1), [int(.0315*len(validate))])"
   ]
  },
  {
   "cell_type": "code",
   "execution_count": 91,
   "metadata": {
    "scrolled": true
   },
   "outputs": [
    {
     "data": {
      "text/html": [
       "<div>\n",
       "<style scoped>\n",
       "    .dataframe tbody tr th:only-of-type {\n",
       "        vertical-align: middle;\n",
       "    }\n",
       "\n",
       "    .dataframe tbody tr th {\n",
       "        vertical-align: top;\n",
       "    }\n",
       "\n",
       "    .dataframe thead th {\n",
       "        text-align: right;\n",
       "    }\n",
       "</style>\n",
       "<table border=\"1\" class=\"dataframe\">\n",
       "  <thead>\n",
       "    <tr style=\"text-align: right;\">\n",
       "      <th></th>\n",
       "      <th>text</th>\n",
       "    </tr>\n",
       "  </thead>\n",
       "  <tbody>\n",
       "    <tr>\n",
       "      <th>1227255</th>\n",
       "      <td>also i was in second grade lol</td>\n",
       "    </tr>\n",
       "    <tr>\n",
       "      <th>382911</th>\n",
       "      <td>meep</td>\n",
       "    </tr>\n",
       "    <tr>\n",
       "      <th>774594</th>\n",
       "      <td>my hands are sweaty also is the opening monolo...</td>\n",
       "    </tr>\n",
       "    <tr>\n",
       "      <th>136486</th>\n",
       "      <td>like a payment that comes out monthly</td>\n",
       "    </tr>\n",
       "    <tr>\n",
       "      <th>651542</th>\n",
       "      <td>sometimes people get recognised and then all t...</td>\n",
       "    </tr>\n",
       "  </tbody>\n",
       "</table>\n",
       "</div>"
      ],
      "text/plain": [
       "                                                      text\n",
       "1227255                     also i was in second grade lol\n",
       "382911                                                meep\n",
       "774594   my hands are sweaty also is the opening monolo...\n",
       "136486               like a payment that comes out monthly\n",
       "651542   sometimes people get recognised and then all t..."
      ]
     },
     "execution_count": 91,
     "metadata": {},
     "output_type": "execute_result"
    }
   ],
   "source": [
    "validate.head()"
   ]
  },
  {
   "cell_type": "code",
   "execution_count": 92,
   "metadata": {
    "scrolled": true
   },
   "outputs": [
    {
     "data": {
      "text/plain": [
       "text    328945\n",
       "dtype: int64"
      ]
     },
     "execution_count": 92,
     "metadata": {},
     "output_type": "execute_result"
    }
   ],
   "source": [
    "validate.count()"
   ]
  },
  {
   "cell_type": "code",
   "execution_count": 93,
   "metadata": {},
   "outputs": [],
   "source": [
    "train.to_csv('../../data/reddit_thedonald.train.1', sep='\\t', index=False, header=False)"
   ]
  },
  {
   "cell_type": "code",
   "execution_count": 94,
   "metadata": {},
   "outputs": [],
   "source": [
    "test.to_csv('../../data/reddit_thedonald.test.1', sep='\\t', index=False, header=False)"
   ]
  },
  {
   "cell_type": "code",
   "execution_count": 95,
   "metadata": {},
   "outputs": [],
   "source": [
    "validate.to_csv('../../data/reddit_thedonald.dev.1', sep='\\t', index=False, header=False)"
   ]
  },
  {
   "cell_type": "markdown",
   "metadata": {},
   "source": [
    "### Reload the \"target\" data and down-sample"
   ]
  },
  {
   "cell_type": "code",
   "execution_count": 2,
   "metadata": {},
   "outputs": [
    {
     "data": {
      "text/plain": [
       "(292177, 1)"
      ]
     },
     "execution_count": 2,
     "metadata": {},
     "output_type": "execute_result"
    }
   ],
   "source": [
    "reddit_thedonald_dev0 = pd.read_csv('../../data/reddit_thedonald.dev.0')\n",
    "reddit_thedonald_dev0.shape"
   ]
  },
  {
   "cell_type": "code",
   "execution_count": 3,
   "metadata": {},
   "outputs": [],
   "source": [
    "dev, discard = np.split(reddit_thedonald_dev0.sample(frac=1), [int(.2*len(reddit_thedonald_dev0))])"
   ]
  },
  {
   "cell_type": "code",
   "execution_count": 4,
   "metadata": {},
   "outputs": [
    {
     "data": {
      "text/plain": [
       "all stand for anthem    58435\n",
       "dtype: int64"
      ]
     },
     "execution_count": 4,
     "metadata": {},
     "output_type": "execute_result"
    }
   ],
   "source": [
    "dev.count()"
   ]
  },
  {
   "cell_type": "code",
   "execution_count": 5,
   "metadata": {},
   "outputs": [
    {
     "data": {
      "text/html": [
       "<div>\n",
       "<style scoped>\n",
       "    .dataframe tbody tr th:only-of-type {\n",
       "        vertical-align: middle;\n",
       "    }\n",
       "\n",
       "    .dataframe tbody tr th {\n",
       "        vertical-align: top;\n",
       "    }\n",
       "\n",
       "    .dataframe thead th {\n",
       "        text-align: right;\n",
       "    }\n",
       "</style>\n",
       "<table border=\"1\" class=\"dataframe\">\n",
       "  <thead>\n",
       "    <tr style=\"text-align: right;\">\n",
       "      <th></th>\n",
       "      <th>all stand for anthem</th>\n",
       "    </tr>\n",
       "  </thead>\n",
       "  <tbody>\n",
       "    <tr>\n",
       "      <th>46909</th>\n",
       "      <td>gt i thought they were just childish people wh...</td>\n",
       "    </tr>\n",
       "    <tr>\n",
       "      <th>134354</th>\n",
       "      <td>throw in some basic foundational mba entrepene...</td>\n",
       "    </tr>\n",
       "    <tr>\n",
       "      <th>67472</th>\n",
       "      <td>i read that as took his ball gag and went home...</td>\n",
       "    </tr>\n",
       "    <tr>\n",
       "      <th>185224</th>\n",
       "      <td>it s time we call them out on their bullshit b...</td>\n",
       "    </tr>\n",
       "    <tr>\n",
       "      <th>220457</th>\n",
       "      <td>spez apparently i am too old to keep up with t...</td>\n",
       "    </tr>\n",
       "  </tbody>\n",
       "</table>\n",
       "</div>"
      ],
      "text/plain": [
       "                                     all stand for anthem\n",
       "46909   gt i thought they were just childish people wh...\n",
       "134354  throw in some basic foundational mba entrepene...\n",
       "67472   i read that as took his ball gag and went home...\n",
       "185224  it s time we call them out on their bullshit b...\n",
       "220457  spez apparently i am too old to keep up with t..."
      ]
     },
     "execution_count": 5,
     "metadata": {},
     "output_type": "execute_result"
    }
   ],
   "source": [
    "dev.head()"
   ]
  },
  {
   "cell_type": "code",
   "execution_count": 6,
   "metadata": {},
   "outputs": [],
   "source": [
    "dev.to_csv('../../data/reddit_thedonald.dev.0', sep='\\t', index=False, header=False)"
   ]
  },
  {
   "cell_type": "code",
   "execution_count": 7,
   "metadata": {},
   "outputs": [
    {
     "data": {
      "text/plain": [
       "(292178, 1)"
      ]
     },
     "execution_count": 7,
     "metadata": {},
     "output_type": "execute_result"
    }
   ],
   "source": [
    "reddit_thedonald_test0 = pd.read_csv('../../data/reddit_thedonald.test.0')\n",
    "reddit_thedonald_test0.shape"
   ]
  },
  {
   "cell_type": "code",
   "execution_count": 8,
   "metadata": {},
   "outputs": [],
   "source": [
    "test, discard = np.split(reddit_thedonald_test0.sample(frac=1), [int(.2*len(reddit_thedonald_test0))])"
   ]
  },
  {
   "cell_type": "code",
   "execution_count": 9,
   "metadata": {},
   "outputs": [
    {
     "data": {
      "text/plain": [
       "lying down it suffered    58435\n",
       "dtype: int64"
      ]
     },
     "execution_count": 9,
     "metadata": {},
     "output_type": "execute_result"
    }
   ],
   "source": [
    "test.count()"
   ]
  },
  {
   "cell_type": "code",
   "execution_count": 10,
   "metadata": {},
   "outputs": [
    {
     "data": {
      "text/html": [
       "<div>\n",
       "<style scoped>\n",
       "    .dataframe tbody tr th:only-of-type {\n",
       "        vertical-align: middle;\n",
       "    }\n",
       "\n",
       "    .dataframe tbody tr th {\n",
       "        vertical-align: top;\n",
       "    }\n",
       "\n",
       "    .dataframe thead th {\n",
       "        text-align: right;\n",
       "    }\n",
       "</style>\n",
       "<table border=\"1\" class=\"dataframe\">\n",
       "  <thead>\n",
       "    <tr style=\"text-align: right;\">\n",
       "      <th></th>\n",
       "      <th>lying down it suffered</th>\n",
       "    </tr>\n",
       "  </thead>\n",
       "  <tbody>\n",
       "    <tr>\n",
       "      <th>166925</th>\n",
       "      <td>or DG DG</td>\n",
       "    </tr>\n",
       "    <tr>\n",
       "      <th>16590</th>\n",
       "      <td>obama eats glue out of the democrats ass okay ...</td>\n",
       "    </tr>\n",
       "    <tr>\n",
       "      <th>221756</th>\n",
       "      <td>the stress added on to her already declining h...</td>\n",
       "    </tr>\n",
       "    <tr>\n",
       "      <th>34662</th>\n",
       "      <td>its self preservation after all</td>\n",
       "    </tr>\n",
       "    <tr>\n",
       "      <th>32630</th>\n",
       "      <td>these limousine liberals are so out of touch</td>\n",
       "    </tr>\n",
       "  </tbody>\n",
       "</table>\n",
       "</div>"
      ],
      "text/plain": [
       "                                   lying down it suffered\n",
       "166925                                           or DG DG\n",
       "16590   obama eats glue out of the democrats ass okay ...\n",
       "221756  the stress added on to her already declining h...\n",
       "34662                     its self preservation after all\n",
       "32630        these limousine liberals are so out of touch"
      ]
     },
     "execution_count": 10,
     "metadata": {},
     "output_type": "execute_result"
    }
   ],
   "source": [
    "test.head()"
   ]
  },
  {
   "cell_type": "code",
   "execution_count": 12,
   "metadata": {},
   "outputs": [],
   "source": [
    "test.to_csv('../../data/reddit_thedonald.test.0', sep='\\t', index=False, header=False)"
   ]
  },
  {
   "cell_type": "code",
   "execution_count": 13,
   "metadata": {},
   "outputs": [
    {
     "data": {
      "text/plain": [
       "(876534, 1)"
      ]
     },
     "execution_count": 13,
     "metadata": {},
     "output_type": "execute_result"
    }
   ],
   "source": [
    "reddit_thedonald_train0 = pd.read_csv('../../data/reddit_thedonald.train.0')\n",
    "reddit_thedonald_train0.shape"
   ]
  },
  {
   "cell_type": "code",
   "execution_count": 14,
   "metadata": {},
   "outputs": [],
   "source": [
    "train, discard = np.split(reddit_thedonald_train0.sample(frac=1), [int(.2*len(reddit_thedonald_train0))])"
   ]
  },
  {
   "cell_type": "code",
   "execution_count": 15,
   "metadata": {},
   "outputs": [
    {
     "data": {
      "text/plain": [
       "lol i love it    175306\n",
       "dtype: int64"
      ]
     },
     "execution_count": 15,
     "metadata": {},
     "output_type": "execute_result"
    }
   ],
   "source": [
    "train.count()"
   ]
  },
  {
   "cell_type": "code",
   "execution_count": 16,
   "metadata": {},
   "outputs": [
    {
     "data": {
      "text/html": [
       "<div>\n",
       "<style scoped>\n",
       "    .dataframe tbody tr th:only-of-type {\n",
       "        vertical-align: middle;\n",
       "    }\n",
       "\n",
       "    .dataframe tbody tr th {\n",
       "        vertical-align: top;\n",
       "    }\n",
       "\n",
       "    .dataframe thead th {\n",
       "        text-align: right;\n",
       "    }\n",
       "</style>\n",
       "<table border=\"1\" class=\"dataframe\">\n",
       "  <thead>\n",
       "    <tr style=\"text-align: right;\">\n",
       "      <th></th>\n",
       "      <th>lol i love it</th>\n",
       "    </tr>\n",
       "  </thead>\n",
       "  <tbody>\n",
       "    <tr>\n",
       "      <th>364633</th>\n",
       "      <td>legalize drugs factory jobs</td>\n",
       "    </tr>\n",
       "    <tr>\n",
       "      <th>627925</th>\n",
       "      <td>i hope they protest everyday by destroying pri...</td>\n",
       "    </tr>\n",
       "    <tr>\n",
       "      <th>31227</th>\n",
       "      <td>i just barfed</td>\n",
       "    </tr>\n",
       "    <tr>\n",
       "      <th>570592</th>\n",
       "      <td>we l drive them back from the gates of cadia</td>\n",
       "    </tr>\n",
       "    <tr>\n",
       "      <th>283178</th>\n",
       "      <td>so many double standards</td>\n",
       "    </tr>\n",
       "  </tbody>\n",
       "</table>\n",
       "</div>"
      ],
      "text/plain": [
       "                                            lol i love it\n",
       "364633                        legalize drugs factory jobs\n",
       "627925  i hope they protest everyday by destroying pri...\n",
       "31227                                       i just barfed\n",
       "570592       we l drive them back from the gates of cadia\n",
       "283178                           so many double standards"
      ]
     },
     "execution_count": 16,
     "metadata": {},
     "output_type": "execute_result"
    }
   ],
   "source": [
    "train.head()"
   ]
  },
  {
   "cell_type": "code",
   "execution_count": 17,
   "metadata": {},
   "outputs": [],
   "source": [
    "train.to_csv('../../data/reddit_thedonald.train.0', sep='\\t', index=False, header=False)"
   ]
  },
  {
   "cell_type": "markdown",
   "metadata": {},
   "source": [
    "### Reload the \"opposition\" data and down-sample"
   ]
  },
  {
   "cell_type": "code",
   "execution_count": 45,
   "metadata": {},
   "outputs": [
    {
     "data": {
      "text/plain": [
       "(328944, 1)"
      ]
     },
     "execution_count": 45,
     "metadata": {},
     "output_type": "execute_result"
    }
   ],
   "source": [
    "reddit_thedonald_dev1 = pd.read_csv('../../data/reddit_thedonald.dev.1')\n",
    "reddit_thedonald_dev1.shape"
   ]
  },
  {
   "cell_type": "code",
   "execution_count": 46,
   "metadata": {},
   "outputs": [],
   "source": [
    "dev, discard = np.split(reddit_thedonald_dev1.sample(frac=1), [int(.27*len(reddit_thedonald_dev1))])"
   ]
  },
  {
   "cell_type": "code",
   "execution_count": 47,
   "metadata": {},
   "outputs": [
    {
     "data": {
      "text/plain": [
       "also i was in second grade lol    88814\n",
       "dtype: int64"
      ]
     },
     "execution_count": 47,
     "metadata": {},
     "output_type": "execute_result"
    }
   ],
   "source": [
    "dev.count()"
   ]
  },
  {
   "cell_type": "code",
   "execution_count": 48,
   "metadata": {},
   "outputs": [
    {
     "data": {
      "text/html": [
       "<div>\n",
       "<style scoped>\n",
       "    .dataframe tbody tr th:only-of-type {\n",
       "        vertical-align: middle;\n",
       "    }\n",
       "\n",
       "    .dataframe tbody tr th {\n",
       "        vertical-align: top;\n",
       "    }\n",
       "\n",
       "    .dataframe thead th {\n",
       "        text-align: right;\n",
       "    }\n",
       "</style>\n",
       "<table border=\"1\" class=\"dataframe\">\n",
       "  <thead>\n",
       "    <tr style=\"text-align: right;\">\n",
       "      <th></th>\n",
       "      <th>also i was in second grade lol</th>\n",
       "    </tr>\n",
       "  </thead>\n",
       "  <tbody>\n",
       "    <tr>\n",
       "      <th>229790</th>\n",
       "      <td>why was this user banned why aren t my posts s...</td>\n",
       "    </tr>\n",
       "    <tr>\n",
       "      <th>289543</th>\n",
       "      <td>bruce it is my street name</td>\n",
       "    </tr>\n",
       "    <tr>\n",
       "      <th>169692</th>\n",
       "      <td>sex is better</td>\n",
       "    </tr>\n",
       "    <tr>\n",
       "      <th>269847</th>\n",
       "      <td>it l probably be garbage but i would like to d...</td>\n",
       "    </tr>\n",
       "    <tr>\n",
       "      <th>163918</th>\n",
       "      <td>please please think about what you are doing</td>\n",
       "    </tr>\n",
       "  </tbody>\n",
       "</table>\n",
       "</div>"
      ],
      "text/plain": [
       "                           also i was in second grade lol\n",
       "229790  why was this user banned why aren t my posts s...\n",
       "289543                         bruce it is my street name\n",
       "169692                                      sex is better\n",
       "269847  it l probably be garbage but i would like to d...\n",
       "163918       please please think about what you are doing"
      ]
     },
     "execution_count": 48,
     "metadata": {},
     "output_type": "execute_result"
    }
   ],
   "source": [
    "dev.head()"
   ]
  },
  {
   "cell_type": "code",
   "execution_count": 49,
   "metadata": {},
   "outputs": [],
   "source": [
    "dev.to_csv('../../data/reddit_thedonald.dev.1', sep='\\t', index=False, header=False)"
   ]
  },
  {
   "cell_type": "code",
   "execution_count": 40,
   "metadata": {},
   "outputs": [
    {
     "data": {
      "text/plain": [
       "(328945, 1)"
      ]
     },
     "execution_count": 40,
     "metadata": {},
     "output_type": "execute_result"
    }
   ],
   "source": [
    "reddit_thedonald_test1 = pd.read_csv('../../data/reddit_thedonald.test.1')\n",
    "reddit_thedonald_test1.shape"
   ]
  },
  {
   "cell_type": "code",
   "execution_count": 41,
   "metadata": {},
   "outputs": [],
   "source": [
    "test, discard = np.split(reddit_thedonald_test1.sample(frac=1), [int(.27*len(reddit_thedonald_test1))])"
   ]
  },
  {
   "cell_type": "code",
   "execution_count": 42,
   "metadata": {},
   "outputs": [
    {
     "data": {
      "text/plain": [
       "i love going to hang out with my mom s side of the family    88815\n",
       "dtype: int64"
      ]
     },
     "execution_count": 42,
     "metadata": {},
     "output_type": "execute_result"
    }
   ],
   "source": [
    "test.count()"
   ]
  },
  {
   "cell_type": "code",
   "execution_count": 43,
   "metadata": {},
   "outputs": [
    {
     "data": {
      "text/html": [
       "<div>\n",
       "<style scoped>\n",
       "    .dataframe tbody tr th:only-of-type {\n",
       "        vertical-align: middle;\n",
       "    }\n",
       "\n",
       "    .dataframe tbody tr th {\n",
       "        vertical-align: top;\n",
       "    }\n",
       "\n",
       "    .dataframe thead th {\n",
       "        text-align: right;\n",
       "    }\n",
       "</style>\n",
       "<table border=\"1\" class=\"dataframe\">\n",
       "  <thead>\n",
       "    <tr style=\"text-align: right;\">\n",
       "      <th></th>\n",
       "      <th>i love going to hang out with my mom s side of the family</th>\n",
       "    </tr>\n",
       "  </thead>\n",
       "  <tbody>\n",
       "    <tr>\n",
       "      <th>151696</th>\n",
       "      <td>i want to hug my crush</td>\n",
       "    </tr>\n",
       "    <tr>\n",
       "      <th>10164</th>\n",
       "      <td>it s ok now but it wasn t working</td>\n",
       "    </tr>\n",
       "    <tr>\n",
       "      <th>221441</th>\n",
       "      <td>oof</td>\n",
       "    </tr>\n",
       "    <tr>\n",
       "      <th>75835</th>\n",
       "      <td>all of it</td>\n",
       "    </tr>\n",
       "    <tr>\n",
       "      <th>294144</th>\n",
       "      <td>depends on whos wearing them</td>\n",
       "    </tr>\n",
       "  </tbody>\n",
       "</table>\n",
       "</div>"
      ],
      "text/plain": [
       "       i love going to hang out with my mom s side of the family\n",
       "151696                             i want to hug my crush       \n",
       "10164                   it s ok now but it wasn t working       \n",
       "221441                                                oof       \n",
       "75835                                           all of it       \n",
       "294144                       depends on whos wearing them       "
      ]
     },
     "execution_count": 43,
     "metadata": {},
     "output_type": "execute_result"
    }
   ],
   "source": [
    "test.head()"
   ]
  },
  {
   "cell_type": "code",
   "execution_count": 44,
   "metadata": {},
   "outputs": [],
   "source": [
    "test.to_csv('../../data/reddit_thedonald.test.1', sep='\\t', index=False, header=False)"
   ]
  },
  {
   "cell_type": "code",
   "execution_count": 19,
   "metadata": {},
   "outputs": [
    {
     "data": {
      "text/plain": [
       "(986834, 1)"
      ]
     },
     "execution_count": 19,
     "metadata": {},
     "output_type": "execute_result"
    }
   ],
   "source": [
    "reddit_thedonald_train1 = pd.read_csv('../../data/reddit_thedonald.train.1')\n",
    "reddit_thedonald_train1.shape"
   ]
  },
  {
   "cell_type": "code",
   "execution_count": 32,
   "metadata": {},
   "outputs": [],
   "source": [
    "train, discard = np.split(reddit_thedonald_train1.sample(frac=1), [int(.27*len(reddit_thedonald_train1))])"
   ]
  },
  {
   "cell_type": "code",
   "execution_count": 33,
   "metadata": {},
   "outputs": [
    {
     "data": {
      "text/plain": [
       "also do you go to school    266445\n",
       "dtype: int64"
      ]
     },
     "execution_count": 33,
     "metadata": {},
     "output_type": "execute_result"
    }
   ],
   "source": [
    "train.count()"
   ]
  },
  {
   "cell_type": "code",
   "execution_count": 34,
   "metadata": {
    "scrolled": true
   },
   "outputs": [
    {
     "data": {
      "text/html": [
       "<div>\n",
       "<style scoped>\n",
       "    .dataframe tbody tr th:only-of-type {\n",
       "        vertical-align: middle;\n",
       "    }\n",
       "\n",
       "    .dataframe tbody tr th {\n",
       "        vertical-align: top;\n",
       "    }\n",
       "\n",
       "    .dataframe thead th {\n",
       "        text-align: right;\n",
       "    }\n",
       "</style>\n",
       "<table border=\"1\" class=\"dataframe\">\n",
       "  <thead>\n",
       "    <tr style=\"text-align: right;\">\n",
       "      <th></th>\n",
       "      <th>also do you go to school</th>\n",
       "    </tr>\n",
       "  </thead>\n",
       "  <tbody>\n",
       "    <tr>\n",
       "      <th>174122</th>\n",
       "      <td>cuz we love you</td>\n",
       "    </tr>\n",
       "    <tr>\n",
       "      <th>564008</th>\n",
       "      <td>damn you re DGDG minutes away from me lmao</td>\n",
       "    </tr>\n",
       "    <tr>\n",
       "      <th>14090</th>\n",
       "      <td>i have a shitty one piece bacon costume so pro...</td>\n",
       "    </tr>\n",
       "    <tr>\n",
       "      <th>26041</th>\n",
       "      <td>why the fuck</td>\n",
       "    </tr>\n",
       "    <tr>\n",
       "      <th>16998</th>\n",
       "      <td>yeah if i fell asleep on the floor</td>\n",
       "    </tr>\n",
       "  </tbody>\n",
       "</table>\n",
       "</div>"
      ],
      "text/plain": [
       "                                 also do you go to school\n",
       "174122                                    cuz we love you\n",
       "564008         damn you re DGDG minutes away from me lmao\n",
       "14090   i have a shitty one piece bacon costume so pro...\n",
       "26041                                        why the fuck\n",
       "16998                  yeah if i fell asleep on the floor"
      ]
     },
     "execution_count": 34,
     "metadata": {},
     "output_type": "execute_result"
    }
   ],
   "source": [
    "train.head()"
   ]
  },
  {
   "cell_type": "code",
   "execution_count": 35,
   "metadata": {},
   "outputs": [],
   "source": [
    "train.to_csv('../../data/reddit_thedonald.train.1', sep='\\t', index=False, header=False)"
   ]
  }
 ],
 "metadata": {
  "kernelspec": {
   "display_name": "Python 3",
   "language": "python",
   "name": "python3"
  },
  "language_info": {
   "codemirror_mode": {
    "name": "ipython",
    "version": 3
   },
   "file_extension": ".py",
   "mimetype": "text/x-python",
   "name": "python",
   "nbconvert_exporter": "python",
   "pygments_lexer": "ipython3",
   "version": "3.6.5"
  }
 },
 "nbformat": 4,
 "nbformat_minor": 2
}
